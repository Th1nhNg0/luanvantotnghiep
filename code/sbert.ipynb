{
 "cells": [
  {
   "cell_type": "code",
   "execution_count": null,
   "metadata": {},
   "outputs": [],
   "source": [
    "from sentence_transformers import SentenceTransformer,util\n",
    "import json\n",
    "import lawquery\n",
    "import string\n",
    "import pandas as pd\n"
   ]
  },
  {
   "cell_type": "code",
   "execution_count": null,
   "metadata": {},
   "outputs": [],
   "source": [
    "import chromadb\n",
    "from chromadb.config import Settings\n",
    "from chromadb.utils import embedding_functions\n",
    "sentence_transformer_ef = embedding_functions.InstructorEmbeddingFunction(device=\"cuda\",model_name=\"hkunlp/instructor-xl\")\n",
    "\n",
    "\n",
    "chroma_client = chromadb.Client(Settings(\n",
    "    chroma_db_impl=\"duckdb+parquet\",\n",
    "    persist_directory=\"chroma\",\n",
    "))\n",
    "chroma_client.reset()\n",
    "collection = chroma_client.get_or_create_collection(name=\"law_documents\",embedding_function=sentence_transformer_ef)"
   ]
  },
  {
   "cell_type": "code",
   "execution_count": null,
   "metadata": {},
   "outputs": [],
   "source": [
    "data = json.load(open('data.json'))\n",
    "engine = lawquery.Engine('./documents/luat-bao-hiem-xa-hoi-2014/tree.json.gz')\n",
    "\n",
    "documents = []\n",
    "metadatas = []\n",
    "ids = []\n",
    "\n",
    "for row in data['article']:\n",
    "    result = engine.query(node_type=row['node_type'], node_id=row['node_id'])[0]\n",
    "    text = result.content\n",
    "\n",
    "    documents.append(text)\n",
    "    metadatas.append({'node_id': result.node_id, 'node_type': result.node_type, })\n",
    "    ids.append(result.id)\n",
    "    collection.add(documents=[text],metadatas=[{'node_id': result.node_id, 'node_type': result.node_type, }],ids=[result.id])\n",
    "# collection.add(documents=documents,metadatas=metadatas,ids=ids)"
   ]
  },
  {
   "cell_type": "code",
   "execution_count": null,
   "metadata": {},
   "outputs": [],
   "source": [
    "qa_df = pd.read_json('./answers.jsonl', lines=True)\n",
    "qa_df.head()"
   ]
  },
  {
   "cell_type": "code",
   "execution_count": null,
   "metadata": {},
   "outputs": [],
   "source": [
    "law_id = '58/2014/QH13'\n",
    "new_df = qa_df[qa_df['answers'].apply(lambda x: any(law_id in y for y in x))]"
   ]
  },
  {
   "cell_type": "code",
   "execution_count": null,
   "metadata": {},
   "outputs": [],
   "source": [
    "random_row = new_df.sample(1).iloc[0]\n",
    "print(random_row['answers'])\n",
    "collection.query(\n",
    "    query_texts=[random_row['cauhoi']],\n",
    "    n_results=5,\n",
    "    include=['metadatas'],\n",
    ")"
   ]
  }
 ],
 "metadata": {
  "kernelspec": {
   "display_name": "research",
   "language": "python",
   "name": "python3"
  },
  "language_info": {
   "codemirror_mode": {
    "name": "ipython",
    "version": 3
   },
   "file_extension": ".py",
   "mimetype": "text/x-python",
   "name": "python",
   "nbconvert_exporter": "python",
   "pygments_lexer": "ipython3",
   "version": "3.9.16"
  },
  "orig_nbformat": 4
 },
 "nbformat": 4,
 "nbformat_minor": 2
}
