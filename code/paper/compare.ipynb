{
 "cells": [
  {
   "cell_type": "code",
   "execution_count": 1,
   "metadata": {},
   "outputs": [],
   "source": [
    "import pandas as pd\n",
    "import re\n",
    "import os\n",
    "import json\n",
    "import pickle\n",
    "from tqdm import tqdm"
   ]
  },
  {
   "cell_type": "code",
   "execution_count": 2,
   "metadata": {},
   "outputs": [],
   "source": [
    "with open('./law_dict.json','r') as f:\n",
    "    dg = json.loads(f.read())\n",
    "dg = {k.lower(): v for k, v in dg.items()}\n",
    "clean_answers = pd.read_json('./clean_answers.jsonl',lines=True)"
   ]
  },
  {
   "cell_type": "code",
   "execution_count": 3,
   "metadata": {},
   "outputs": [],
   "source": [
    "# drop invalid label\n",
    "drop_idx = set()\n",
    "for row in clean_answers.itertuples():\n",
    "    for ans in row.label:\n",
    "        try:\n",
    "            X = dg[ans['law_id']][ans['dieu']]\n",
    "        except:\n",
    "            drop_idx.add(row.Index)\n",
    "clean_answers = clean_answers.drop(index=drop_idx)"
   ]
  },
  {
   "cell_type": "code",
   "execution_count": 4,
   "metadata": {},
   "outputs": [],
   "source": [
    "clean_answers = clean_answers[clean_answers['label'].map(len)!=0]"
   ]
  },
  {
   "cell_type": "code",
   "execution_count": 5,
   "metadata": {},
   "outputs": [
    {
     "data": {
      "text/html": [
       "<div>\n",
       "<style scoped>\n",
       "    .dataframe tbody tr th:only-of-type {\n",
       "        vertical-align: middle;\n",
       "    }\n",
       "\n",
       "    .dataframe tbody tr th {\n",
       "        vertical-align: top;\n",
       "    }\n",
       "\n",
       "    .dataframe thead th {\n",
       "        text-align: right;\n",
       "    }\n",
       "</style>\n",
       "<table border=\"1\" class=\"dataframe\">\n",
       "  <thead>\n",
       "    <tr style=\"text-align: right;\">\n",
       "      <th></th>\n",
       "      <th>short_title</th>\n",
       "      <th>linhvuc</th>\n",
       "      <th>cauhoi</th>\n",
       "      <th>traloi</th>\n",
       "      <th>url</th>\n",
       "      <th>askDate</th>\n",
       "      <th>answerDate</th>\n",
       "      <th>answers</th>\n",
       "      <th>label</th>\n",
       "    </tr>\n",
       "  </thead>\n",
       "  <tbody>\n",
       "    <tr>\n",
       "      <th>0</th>\n",
       "      <td>Thẻ BHYT hết hạn gia hạn lại</td>\n",
       "      <td>Bảo hiểm y tế</td>\n",
       "      <td>\\n\\nNội dung câu hỏi:\\n\\n\\nKính gửi Quý cơ qua...</td>\n",
       "      <td>\\n\\nCâu trả lời:\\n\\n\\nQua rà soát dữ liệu mã s...</td>\n",
       "      <td>https://baohiemxahoi.gov.vn/hoidap/pages/defau...</td>\n",
       "      <td>23/02/2023</td>\n",
       "      <td>03/03/2023</td>\n",
       "      <td>[146/2018/nđ-cp &gt; điều 12 &gt; khoản 5, 2089/vbhn...</td>\n",
       "      <td>[{'law_id': '146/2018/nđ-cp', 'dieu': '12', 'i...</td>\n",
       "    </tr>\n",
       "    <tr>\n",
       "      <th>2</th>\n",
       "      <td>Khi nào tôi nhận được tiền thai sản</td>\n",
       "      <td>Ốm đau, thai sản</td>\n",
       "      <td>\\n\\nNội dung câu hỏi:\\n\\n\\nTôi tên Vũ Thị Tuyế...</td>\n",
       "      <td>\\n\\nCâu trả lời:\\n\\n\\nTại Điều 102, Luật Bảo h...</td>\n",
       "      <td>https://baohiemxahoi.gov.vn/hoidap/pages/defau...</td>\n",
       "      <td>22/02/2023</td>\n",
       "      <td>24/02/2023</td>\n",
       "      <td>[58/2014/qh13 &gt; điều 102]</td>\n",
       "      <td>[{'law_id': '58/2014/qh13', 'dieu': '102', 'id...</td>\n",
       "    </tr>\n",
       "    <tr>\n",
       "      <th>3</th>\n",
       "      <td>LÃNH BHXH 1 LẦN</td>\n",
       "      <td>BHXH tự nguyên</td>\n",
       "      <td>\\n\\nNội dung câu hỏi:\\n\\n\\nMSBH: 7911379604\\nT...</td>\n",
       "      <td>\\n\\nCâu trả lời:\\n\\n\\n* Về điều kiện hưởng BHX...</td>\n",
       "      <td>https://baohiemxahoi.gov.vn/hoidap/pages/defau...</td>\n",
       "      <td>01/03/2023</td>\n",
       "      <td>10/03/2023</td>\n",
       "      <td>[115/2015/nđ-cp &gt; điều 8 &gt; khoản 1]</td>\n",
       "      <td>[{'law_id': '115/2015/nđ-cp', 'dieu': '8', 'id...</td>\n",
       "    </tr>\n",
       "    <tr>\n",
       "      <th>4</th>\n",
       "      <td>Hỗ trợ về tài khoản VssID</td>\n",
       "      <td>Sổ BHXH - Thẻ BHYT</td>\n",
       "      <td>\\n\\nNội dung câu hỏi:\\n\\n\\nTôi tên là: Trần Th...</td>\n",
       "      <td>\\n\\nCâu trả lời:\\n\\n\\nQua kiểm tra theo số CCC...</td>\n",
       "      <td>https://baohiemxahoi.gov.vn/hoidap/pages/defau...</td>\n",
       "      <td>22/02/2023</td>\n",
       "      <td>03/03/2023</td>\n",
       "      <td>[2089/vbhn-bhxh &gt; điều 27 &gt; khoản 143, 2089/vb...</td>\n",
       "      <td>[{'law_id': '2089/vbhn-bhxh', 'dieu': '27', 'i...</td>\n",
       "    </tr>\n",
       "    <tr>\n",
       "      <th>5</th>\n",
       "      <td>Việc cập nhập app Vssid</td>\n",
       "      <td>Thu - nộp BHXH, BHYT, BHTN</td>\n",
       "      <td>\\n\\nNội dung câu hỏi:\\n\\n\\nTôi tên trần tuyết ...</td>\n",
       "      <td>\\n\\nCâu trả lời:\\n\\n\\n1. Theo khoản 5 Điều 3 q...</td>\n",
       "      <td>https://baohiemxahoi.gov.vn/hoidap/pages/defau...</td>\n",
       "      <td>19/02/2023</td>\n",
       "      <td>24/02/2023</td>\n",
       "      <td>[58/2014/qh13 &gt; điều 3 &gt; khoản 5, 58/2014/qh13...</td>\n",
       "      <td>[{'law_id': '58/2014/qh13', 'dieu': '3', 'id':...</td>\n",
       "    </tr>\n",
       "  </tbody>\n",
       "</table>\n",
       "</div>"
      ],
      "text/plain": [
       "                           short_title                     linhvuc  \\\n",
       "0         Thẻ BHYT hết hạn gia hạn lại               Bảo hiểm y tế   \n",
       "2  Khi nào tôi nhận được tiền thai sản            Ốm đau, thai sản   \n",
       "3                      LÃNH BHXH 1 LẦN              BHXH tự nguyên   \n",
       "4            Hỗ trợ về tài khoản VssID          Sổ BHXH - Thẻ BHYT   \n",
       "5              Việc cập nhập app Vssid  Thu - nộp BHXH, BHYT, BHTN   \n",
       "\n",
       "                                              cauhoi  \\\n",
       "0  \\n\\nNội dung câu hỏi:\\n\\n\\nKính gửi Quý cơ qua...   \n",
       "2  \\n\\nNội dung câu hỏi:\\n\\n\\nTôi tên Vũ Thị Tuyế...   \n",
       "3  \\n\\nNội dung câu hỏi:\\n\\n\\nMSBH: 7911379604\\nT...   \n",
       "4  \\n\\nNội dung câu hỏi:\\n\\n\\nTôi tên là: Trần Th...   \n",
       "5  \\n\\nNội dung câu hỏi:\\n\\n\\nTôi tên trần tuyết ...   \n",
       "\n",
       "                                              traloi  \\\n",
       "0  \\n\\nCâu trả lời:\\n\\n\\nQua rà soát dữ liệu mã s...   \n",
       "2  \\n\\nCâu trả lời:\\n\\n\\nTại Điều 102, Luật Bảo h...   \n",
       "3  \\n\\nCâu trả lời:\\n\\n\\n* Về điều kiện hưởng BHX...   \n",
       "4  \\n\\nCâu trả lời:\\n\\n\\nQua kiểm tra theo số CCC...   \n",
       "5  \\n\\nCâu trả lời:\\n\\n\\n1. Theo khoản 5 Điều 3 q...   \n",
       "\n",
       "                                                 url     askDate  answerDate  \\\n",
       "0  https://baohiemxahoi.gov.vn/hoidap/pages/defau...  23/02/2023  03/03/2023   \n",
       "2  https://baohiemxahoi.gov.vn/hoidap/pages/defau...  22/02/2023  24/02/2023   \n",
       "3  https://baohiemxahoi.gov.vn/hoidap/pages/defau...  01/03/2023  10/03/2023   \n",
       "4  https://baohiemxahoi.gov.vn/hoidap/pages/defau...  22/02/2023  03/03/2023   \n",
       "5  https://baohiemxahoi.gov.vn/hoidap/pages/defau...  19/02/2023  24/02/2023   \n",
       "\n",
       "                                             answers  \\\n",
       "0  [146/2018/nđ-cp > điều 12 > khoản 5, 2089/vbhn...   \n",
       "2                          [58/2014/qh13 > điều 102]   \n",
       "3                [115/2015/nđ-cp > điều 8 > khoản 1]   \n",
       "4  [2089/vbhn-bhxh > điều 27 > khoản 143, 2089/vb...   \n",
       "5  [58/2014/qh13 > điều 3 > khoản 5, 58/2014/qh13...   \n",
       "\n",
       "                                               label  \n",
       "0  [{'law_id': '146/2018/nđ-cp', 'dieu': '12', 'i...  \n",
       "2  [{'law_id': '58/2014/qh13', 'dieu': '102', 'id...  \n",
       "3  [{'law_id': '115/2015/nđ-cp', 'dieu': '8', 'id...  \n",
       "4  [{'law_id': '2089/vbhn-bhxh', 'dieu': '27', 'i...  \n",
       "5  [{'law_id': '58/2014/qh13', 'dieu': '3', 'id':...  "
      ]
     },
     "execution_count": 5,
     "metadata": {},
     "output_type": "execute_result"
    }
   ],
   "source": [
    "clean_answers.head()\n"
   ]
  },
  {
   "cell_type": "code",
   "execution_count": 6,
   "metadata": {},
   "outputs": [],
   "source": [
    "clean_answers.to_json('final_answers.jsonl',lines=True,force_ascii=False,orient='records')"
   ]
  },
  {
   "cell_type": "code",
   "execution_count": 7,
   "metadata": {},
   "outputs": [],
   "source": [
    "from sklearn.feature_extraction.text import TfidfVectorizer\n",
    "import rank_bm25"
   ]
  },
  {
   "cell_type": "code",
   "execution_count": 8,
   "metadata": {},
   "outputs": [],
   "source": []
  },
  {
   "cell_type": "code",
   "execution_count": 9,
   "metadata": {},
   "outputs": [],
   "source": [
    "import re\n",
    "import py_vncorenlp\n",
    "vncore_model = py_vncorenlp.VnCoreNLP(save_dir='C:/Users/ngoph/Desktop/luanvantotnghiep/code/paper/VnCoreNLP')\n",
    "\n",
    "def format_text(text,word_segmentation=False):\n",
    "    text = text.lower()\n",
    "    text = re.sub(r'\\W', ' ', text)\n",
    "    text = re.sub(r'\\s+', ' ', text)\n",
    "    if word_segmentation:\n",
    "        text = vncore_model.word_segment(text)\n",
    "        text = ' '.join(text)\n",
    "    return text"
   ]
  },
  {
   "cell_type": "code",
   "execution_count": 11,
   "metadata": {},
   "outputs": [],
   "source": [
    "TOP=[5,10,20,50,100]\n",
    "acc={\n",
    "    'bm25':{},\n",
    "    'tdidf':{},\n",
    "    'bm25_ws':{},\n",
    "    'tdidf_ws':{},\n",
    "}\n",
    "for top in TOP:\n",
    "    acc['tdidf'][top]=0\n",
    "    acc['bm25'][top]=0\n",
    "    acc['bm25_ws'][top]=0\n",
    "    acc['tdidf_ws'][top]=0"
   ]
  },
  {
   "cell_type": "code",
   "execution_count": 16,
   "metadata": {},
   "outputs": [
    {
     "name": "stderr",
     "output_type": "stream",
     "text": [
      "100%|██████████| 4227/4227 [02:40<00:00, 26.32it/s]\n"
     ]
    }
   ],
   "source": [
    "import numpy as np\n",
    "from sklearn.metrics.pairwise import cosine_similarity\n",
    "\n",
    "word_segment=True\n",
    "\n",
    "ids = []\n",
    "contents = []\n",
    "for doc_key in dg:\n",
    "    for pag_key in dg[doc_key]:\n",
    "        id ='{}_d{}'.format(doc_key,pag_key)\n",
    "        content = dg[doc_key][pag_key]\n",
    "        ids.append(id)\n",
    "        contents.append(format_text(content,word_segment))\n",
    "vectorizer = TfidfVectorizer()\n",
    "doc_vectors = vectorizer.fit_transform(contents)\n",
    "bm25 = rank_bm25.BM25Okapi([doc.split(\" \") for doc in contents])\n",
    "\n",
    "for sample in tqdm(clean_answers.itertuples(),total=len(clean_answers)):\n",
    "    # tdidf\n",
    "    q_vec = vectorizer.transform([format_text(sample.cauhoi,word_segment)])\n",
    "    cosine_sim = cosine_similarity(q_vec, doc_vectors)\n",
    "    top_indexes = np.argsort(cosine_sim.flatten())[::-1]\n",
    "    # bm25\n",
    "    query = format_text(sample.cauhoi,word_segment).split(' ')\n",
    "    bm25_top_indexes = bm25.get_top_n(query,ids,n=100)\n",
    "\n",
    "    for top in TOP:\n",
    "        top_ids = [ids[i] for i in top_indexes][:top]\n",
    "        acc['tdidf'+ ('_ws' if word_segment else '')][top]+=all(x['id'] in top_ids for x in sample.label)\n",
    "\n",
    "        top_ids = bm25_top_indexes[:top]\n",
    "        acc['bm25'+('_ws' if word_segment else '')][top]+=all(x['id'] in top_ids for x in sample.label)"
   ]
  },
  {
   "cell_type": "code",
   "execution_count": 17,
   "metadata": {},
   "outputs": [
    {
     "data": {
      "text/plain": [
       "{'bm25': {5: 382, 10: 683, 20: 1148, 50: 1897, 100: 2607},\n",
       " 'tdidf': {5: 430, 10: 769, 20: 1372, 50: 2139, 100: 2801},\n",
       " 'bm25_ws': {5: 419, 10: 739, 20: 1203, 50: 1902, 100: 2639},\n",
       " 'tdidf_ws': {5: 410, 10: 734, 20: 1294, 50: 2034, 100: 2834}}"
      ]
     },
     "execution_count": 17,
     "metadata": {},
     "output_type": "execute_result"
    }
   ],
   "source": [
    "acc"
   ]
  },
  {
   "cell_type": "code",
   "execution_count": 18,
   "metadata": {},
   "outputs": [
    {
     "data": {
      "text/plain": [
       "{'bm25': {5: 0.09037142181215993,\n",
       "  10: 0.16158031700969955,\n",
       "  20: 0.271587414241779,\n",
       "  50: 0.4487816418263544,\n",
       "  100: 0.6167494677075941},\n",
       " 'tdidf': {5: 0.10172699313934232,\n",
       "  10: 0.18192571563756801,\n",
       "  20: 0.3245800804352969,\n",
       "  50: 0.5060326472675657,\n",
       "  100: 0.662644901821623},\n",
       " 'bm25_ws': {5: 0.09912467471019636,\n",
       "  10: 0.174828483558079,\n",
       "  20: 0.28459900638750885,\n",
       "  50: 0.44996451383960256,\n",
       "  100: 0.6243198485923823},\n",
       " 'tdidf_ws': {5: 0.09699550508634966,\n",
       "  10: 0.17364561154483085,\n",
       "  20: 0.3061272770286255,\n",
       "  50: 0.48119233498935415,\n",
       "  100: 0.6704518571090607}}"
      ]
     },
     "execution_count": 18,
     "metadata": {},
     "output_type": "execute_result"
    }
   ],
   "source": [
    "for key in acc:\n",
    "    for key2 in acc[key]:\n",
    "        acc[key][key2]/=len(clean_answers)\n",
    "acc"
   ]
  },
  {
   "cell_type": "code",
   "execution_count": 23,
   "metadata": {},
   "outputs": [
    {
     "name": "stdout",
     "output_type": "stream",
     "text": [
      "|   TopN |      bm25 |    tdidf |   bm25_ws |   tdidf_ws |\n",
      "|-------:|----------:|---------:|----------:|-----------:|\n",
      "|      5 | 0.0903714 | 0.101727 | 0.0991247 |  0.0969955 |\n",
      "|     10 | 0.16158   | 0.181926 | 0.174828  |  0.173646  |\n",
      "|     20 | 0.271587  | 0.32458  | 0.284599  |  0.306127  |\n",
      "|     50 | 0.448782  | 0.506033 | 0.449965  |  0.481192  |\n",
      "|    100 | 0.616749  | 0.662645 | 0.62432   |  0.670452  |\n"
     ]
    }
   ],
   "source": [
    "df = pd.DataFrame(acc)\n",
    "print(df.rename_axis('TopN').reset_index().to_markdown(index=False))"
   ]
  }
 ],
 "metadata": {
  "kernelspec": {
   "display_name": "me",
   "language": "python",
   "name": "python3"
  },
  "language_info": {
   "codemirror_mode": {
    "name": "ipython",
    "version": 3
   },
   "file_extension": ".py",
   "mimetype": "text/x-python",
   "name": "python",
   "nbconvert_exporter": "python",
   "pygments_lexer": "ipython3",
   "version": "3.9.17"
  },
  "orig_nbformat": 4
 },
 "nbformat": 4,
 "nbformat_minor": 2
}
