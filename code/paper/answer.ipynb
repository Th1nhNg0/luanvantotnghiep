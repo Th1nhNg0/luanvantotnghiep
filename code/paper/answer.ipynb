{
 "cells": [
  {
   "cell_type": "code",
   "execution_count": 1,
   "metadata": {},
   "outputs": [],
   "source": [
    "import pandas as pd\n",
    "import re\n",
    "import os\n",
    "import json\n",
    "from slugify import slugify\n",
    "import pickle"
   ]
  },
  {
   "cell_type": "markdown",
   "metadata": {},
   "source": [
    "# Processing answers"
   ]
  },
  {
   "cell_type": "code",
   "execution_count": 2,
   "metadata": {},
   "outputs": [
    {
     "data": {
      "text/html": [
       "<div>\n",
       "<style scoped>\n",
       "    .dataframe tbody tr th:only-of-type {\n",
       "        vertical-align: middle;\n",
       "    }\n",
       "\n",
       "    .dataframe tbody tr th {\n",
       "        vertical-align: top;\n",
       "    }\n",
       "\n",
       "    .dataframe thead th {\n",
       "        text-align: right;\n",
       "    }\n",
       "</style>\n",
       "<table border=\"1\" class=\"dataframe\">\n",
       "  <thead>\n",
       "    <tr style=\"text-align: right;\">\n",
       "      <th></th>\n",
       "      <th>short_title</th>\n",
       "      <th>linhvuc</th>\n",
       "      <th>cauhoi</th>\n",
       "      <th>traloi</th>\n",
       "      <th>url</th>\n",
       "      <th>askDate</th>\n",
       "      <th>answerDate</th>\n",
       "      <th>answers</th>\n",
       "    </tr>\n",
       "  </thead>\n",
       "  <tbody>\n",
       "    <tr>\n",
       "      <th>0</th>\n",
       "      <td>Thẻ BHYT hết hạn gia hạn lại</td>\n",
       "      <td>Bảo hiểm y tế</td>\n",
       "      <td>\\n\\nNội dung câu hỏi:\\n\\n\\nKính gửi Quý cơ qua...</td>\n",
       "      <td>\\n\\nCâu trả lời:\\n\\n\\nQua rà soát dữ liệu mã s...</td>\n",
       "      <td>https://baohiemxahoi.gov.vn/hoidap/pages/defau...</td>\n",
       "      <td>23/02/2023</td>\n",
       "      <td>03/03/2023</td>\n",
       "      <td>[146/2018/NĐ-CP &gt; điều 12 &gt; khoản 5, 2089/VBHN...</td>\n",
       "    </tr>\n",
       "    <tr>\n",
       "      <th>1</th>\n",
       "      <td>Cách đóng BHYT để không bị gián đoạn sau tốt n...</td>\n",
       "      <td>Sổ BHXH - Thẻ BHYT</td>\n",
       "      <td>\\n\\nNội dung câu hỏi:\\n\\n\\nEm có câu hỏi như t...</td>\n",
       "      <td>\\n\\nCâu trả lời:\\n\\n\\n*/ Về đối tượng tham gia...</td>\n",
       "      <td>https://baohiemxahoi.gov.vn/hoidap/pages/defau...</td>\n",
       "      <td>26/02/2023</td>\n",
       "      <td>03/03/2023</td>\n",
       "      <td>[146/2018/NĐ-CP &gt; điều 5, 146/2018/NĐ-CP &gt; điề...</td>\n",
       "    </tr>\n",
       "    <tr>\n",
       "      <th>2</th>\n",
       "      <td>Khi nào tôi nhận được tiền thai sản</td>\n",
       "      <td>Ốm đau, thai sản</td>\n",
       "      <td>\\n\\nNội dung câu hỏi:\\n\\n\\nTôi tên Vũ Thị Tuyế...</td>\n",
       "      <td>\\n\\nCâu trả lời:\\n\\n\\nTại Điều 102, Luật Bảo h...</td>\n",
       "      <td>https://baohiemxahoi.gov.vn/hoidap/pages/defau...</td>\n",
       "      <td>22/02/2023</td>\n",
       "      <td>24/02/2023</td>\n",
       "      <td>[58/2014/QH13 &gt; điều 102]</td>\n",
       "    </tr>\n",
       "    <tr>\n",
       "      <th>3</th>\n",
       "      <td>LÃNH BHXH 1 LẦN</td>\n",
       "      <td>BHXH tự nguyên</td>\n",
       "      <td>\\n\\nNội dung câu hỏi:\\n\\n\\nMSBH: 7911379604\\nT...</td>\n",
       "      <td>\\n\\nCâu trả lời:\\n\\n\\n* Về điều kiện hưởng BHX...</td>\n",
       "      <td>https://baohiemxahoi.gov.vn/hoidap/pages/defau...</td>\n",
       "      <td>01/03/2023</td>\n",
       "      <td>10/03/2023</td>\n",
       "      <td>[115/2015/NĐ-CP &gt; điều 8 &gt; khoản 1]</td>\n",
       "    </tr>\n",
       "    <tr>\n",
       "      <th>4</th>\n",
       "      <td>Hỗ trợ về tài khoản VssID</td>\n",
       "      <td>Sổ BHXH - Thẻ BHYT</td>\n",
       "      <td>\\n\\nNội dung câu hỏi:\\n\\n\\nTôi tên là: Trần Th...</td>\n",
       "      <td>\\n\\nCâu trả lời:\\n\\n\\nQua kiểm tra theo số CCC...</td>\n",
       "      <td>https://baohiemxahoi.gov.vn/hoidap/pages/defau...</td>\n",
       "      <td>22/02/2023</td>\n",
       "      <td>03/03/2023</td>\n",
       "      <td>[2089/VBHN-BHXH &gt; Điều 27 &gt; khoản 143, 2089/VB...</td>\n",
       "    </tr>\n",
       "  </tbody>\n",
       "</table>\n",
       "</div>"
      ],
      "text/plain": [
       "                                         short_title             linhvuc  \\\n",
       "0                       Thẻ BHYT hết hạn gia hạn lại       Bảo hiểm y tế   \n",
       "1  Cách đóng BHYT để không bị gián đoạn sau tốt n...  Sổ BHXH - Thẻ BHYT   \n",
       "2                Khi nào tôi nhận được tiền thai sản    Ốm đau, thai sản   \n",
       "3                                    LÃNH BHXH 1 LẦN      BHXH tự nguyên   \n",
       "4                          Hỗ trợ về tài khoản VssID  Sổ BHXH - Thẻ BHYT   \n",
       "\n",
       "                                              cauhoi  \\\n",
       "0  \\n\\nNội dung câu hỏi:\\n\\n\\nKính gửi Quý cơ qua...   \n",
       "1  \\n\\nNội dung câu hỏi:\\n\\n\\nEm có câu hỏi như t...   \n",
       "2  \\n\\nNội dung câu hỏi:\\n\\n\\nTôi tên Vũ Thị Tuyế...   \n",
       "3  \\n\\nNội dung câu hỏi:\\n\\n\\nMSBH: 7911379604\\nT...   \n",
       "4  \\n\\nNội dung câu hỏi:\\n\\n\\nTôi tên là: Trần Th...   \n",
       "\n",
       "                                              traloi  \\\n",
       "0  \\n\\nCâu trả lời:\\n\\n\\nQua rà soát dữ liệu mã s...   \n",
       "1  \\n\\nCâu trả lời:\\n\\n\\n*/ Về đối tượng tham gia...   \n",
       "2  \\n\\nCâu trả lời:\\n\\n\\nTại Điều 102, Luật Bảo h...   \n",
       "3  \\n\\nCâu trả lời:\\n\\n\\n* Về điều kiện hưởng BHX...   \n",
       "4  \\n\\nCâu trả lời:\\n\\n\\nQua kiểm tra theo số CCC...   \n",
       "\n",
       "                                                 url     askDate  answerDate  \\\n",
       "0  https://baohiemxahoi.gov.vn/hoidap/pages/defau...  23/02/2023  03/03/2023   \n",
       "1  https://baohiemxahoi.gov.vn/hoidap/pages/defau...  26/02/2023  03/03/2023   \n",
       "2  https://baohiemxahoi.gov.vn/hoidap/pages/defau...  22/02/2023  24/02/2023   \n",
       "3  https://baohiemxahoi.gov.vn/hoidap/pages/defau...  01/03/2023  10/03/2023   \n",
       "4  https://baohiemxahoi.gov.vn/hoidap/pages/defau...  22/02/2023  03/03/2023   \n",
       "\n",
       "                                             answers  \n",
       "0  [146/2018/NĐ-CP > điều 12 > khoản 5, 2089/VBHN...  \n",
       "1  [146/2018/NĐ-CP > điều 5, 146/2018/NĐ-CP > điề...  \n",
       "2                          [58/2014/QH13 > điều 102]  \n",
       "3                [115/2015/NĐ-CP > điều 8 > khoản 1]  \n",
       "4  [2089/VBHN-BHXH > Điều 27 > khoản 143, 2089/VB...  "
      ]
     },
     "execution_count": 2,
     "metadata": {},
     "output_type": "execute_result"
    }
   ],
   "source": [
    "df = pd.read_json('./raw_answers.jsonl',lines=True)\n",
    "df.head()"
   ]
  },
  {
   "cell_type": "code",
   "execution_count": 3,
   "metadata": {},
   "outputs": [],
   "source": [
    "REPALCE_DICT = {\n",
    "    '2089/vbhn-bhxh2089/vbhn-bhxh':'2089/vbhn-bhxh',\n",
    "    '115/2015/nđ-cp115/2015/nđ-cp':'115/2015/nđ-cp',\n",
    "    'nghị định số 44/2013/nđ-cp':'44/2013/nđ-cp',\n",
    "    'quyết định 595/qđ-bhxh':'595/qđ-bhxh',\n",
    "    'luật an toàn - vệ sinh lao động':'84/2015/qh13'\n",
    "}\n",
    "WHITE_LIST_LAW_ID=['58/2014/qh13',\n",
    " '2089/vbhn-bhxh',\n",
    " '59/2015/tt-blđtbxh',\n",
    " '115/2015/nđ-cp',\n",
    " '146/2018/nđ-cp',\n",
    " '28/2015/nđ-cp',\n",
    " '38/2013/qh13',\n",
    " '45/2019/qh14',\n",
    " '56/2017/tt-byt',\n",
    " '134/2015/nđ-cp',\n",
    " '28/2021/qđ-ttg',\n",
    " '25/2008/qh12',\n",
    " '46/2014/qh13',\n",
    " '166/qđ-bhxh',\n",
    " '61/2020/nđ-cp',\n",
    " '33/2016/nđ-cp',\n",
    " '505/qđ-bhxh',\n",
    " '84/2015/qh13',\n",
    " '44/2013/nđ-cp',\n",
    " '10/2012/qh13']"
   ]
  },
  {
   "cell_type": "code",
   "execution_count": 4,
   "metadata": {},
   "outputs": [],
   "source": [
    "def fix(answers):\n",
    "    new_answers = []\n",
    "    for i in range(len(answers)):\n",
    "        answers[i] = answers[i].replace('47.98','47').lower()\n",
    "        for key in REPALCE_DICT.keys():\n",
    "            answers[i] = answers[i].replace(key,REPALCE_DICT[key])\n",
    "        answers[i] = answers[i].split('>')\n",
    "        answers[i] = [s.strip() for s in answers[i]]\n",
    "        answers[i] = ' > '.join(answers[i])\n",
    "        if 'điều' not in answers[i]:\n",
    "            continue\n",
    "        for white_key in WHITE_LIST_LAW_ID:\n",
    "            if answers[i].startswith(white_key+' '):\n",
    "                new_answers.append(answers[i])\n",
    "                break\n",
    "    return new_answers\n",
    "df['answers'] = df['answers'].apply(fix)"
   ]
  },
  {
   "cell_type": "code",
   "execution_count": 5,
   "metadata": {},
   "outputs": [],
   "source": [
    "def get_trace(s):\n",
    "    law_id = None\n",
    "    dieu = None\n",
    "    split = s.split(' > ')\n",
    "    law_id = split[0]\n",
    "    num = re.compile('điều *(\\d+)')\n",
    "    for i in split:\n",
    "        result = num.findall(i)\n",
    "        if len(result)>0:\n",
    "            dieu=result[0]\n",
    "    if dieu==None:\n",
    "        print(s)\n",
    "    return {\n",
    "        'law_id':law_id,\n",
    "        'dieu':dieu\n",
    "    }\n",
    "def transform_to_json(answers):\n",
    "    res = [get_trace(ans) for ans in answers]\n",
    "    return res\n"
   ]
  },
  {
   "cell_type": "code",
   "execution_count": 6,
   "metadata": {},
   "outputs": [],
   "source": [
    "# # get white list law id\n",
    "\n",
    "# from collections import Counter\n",
    "# answers = df['answers'].tolist()\n",
    "# law_ids=[]\n",
    "# for ans in answers:\n",
    "#     for row in ans:\n",
    "#         split = row.split('>')\n",
    "#         law_id =  split[0].strip()\n",
    "#         law_ids.append(law_id)\n",
    "    \n",
    "# white_list_law_id = []\n",
    "# for law_id,count in Counter(law_ids).most_common():\n",
    "#     if count>=5:\n",
    "#         white_list_law_id.append(law_id)\n",
    "# white_list_law_id\n",
    "# Counter(law_ids).most_common()"
   ]
  },
  {
   "cell_type": "code",
   "execution_count": 7,
   "metadata": {},
   "outputs": [],
   "source": [
    "df['label']=df['answers'].apply(transform_to_json).to_list()"
   ]
  },
  {
   "cell_type": "code",
   "execution_count": 8,
   "metadata": {},
   "outputs": [],
   "source": [
    "# save\n",
    "df.to_json('clean_answers.jsonl',orient='records',lines=True,force_ascii=False)"
   ]
  },
  {
   "cell_type": "markdown",
   "metadata": {},
   "source": [
    "# Processing law document"
   ]
  },
  {
   "cell_type": "code",
   "execution_count": 10,
   "metadata": {},
   "outputs": [],
   "source": [
    "LAW_ID_MAPPING={\n",
    " '58/2014/qh13':'259700',\n",
    " '2089/vbhn-bhxh':'454887',\n",
    " '59/2015/tt-blđtbxh':'299644',\n",
    " '115/2015/nđ-cp':'279974',\n",
    " '146/2018/nđ-cp':'357505',\n",
    " '28/2015/nđ-cp':'268405',\n",
    " '38/2013/qh13':'215628',\n",
    " '45/2019/qh14':'333670',\n",
    " '56/2017/tt-byt':'341271',\n",
    " '134/2015/nđ-cp':'280020',\n",
    " '28/2021/qđ-ttg':'489758',\n",
    " '25/2008/qh12':'81884',\n",
    " '46/2014/qh13':'238506',\n",
    " '166/qđ-bhxh':'411816',\n",
    " '61/2020/nđ-cp':'393789',\n",
    " '33/2016/nđ-cp':'297783',\n",
    " '505/qđ-bhxh':'443310',\n",
    " '84/2015/qh13':'281961',\n",
    " '44/2013/nđ-cp':'187083',\n",
    " '10/2012/qh13':'142187'}"
   ]
  },
  {
   "cell_type": "code",
   "execution_count": 11,
   "metadata": {},
   "outputs": [],
   "source": [
    "# CREATE_CONTENT_TREE=False\n",
    "# for law_id, tvpl_id in LAW_ID_MAPPING.items():\n",
    "#     data = get_text(tvpl_id)\n",
    "#     text= data['content']\n",
    "#     matches = re.findall(\n",
    "#                 r'^(Điều (\\d+).*)$', text, flags=re.MULTILINE)\n",
    "#     for i in range(1,len(matches)):\n",
    "#         if int(matches[i][1])!=int(matches[i-1][1])+1:\n",
    "#             print('oh shit',law_id,tvpl_id)\n",
    "#             break\n",
    "# oh shit 2089/vbhn-bhxh 454887\n",
    "# oh shit 146/2018/nđ-cp 357505\n",
    "# oh shit 46/2014/qh13 238506\n",
    "# oh shit 166/qđ-bhxh 411816 start from 3\n",
    "# oh shit 61/2020/nđ-cp 393789\n",
    "# oh shit 505/qđ-bhxh 443310"
   ]
  },
  {
   "cell_type": "code",
   "execution_count": 12,
   "metadata": {},
   "outputs": [],
   "source": []
  },
  {
   "cell_type": "code",
   "execution_count": 13,
   "metadata": {},
   "outputs": [
    {
     "data": {
      "text/plain": [
       "'58/2014/qh13'"
      ]
     },
     "execution_count": 13,
     "metadata": {},
     "output_type": "execute_result"
    }
   ],
   "source": []
  }
 ],
 "metadata": {
  "kernelspec": {
   "display_name": "me",
   "language": "python",
   "name": "python3"
  },
  "language_info": {
   "codemirror_mode": {
    "name": "ipython",
    "version": 3
   },
   "file_extension": ".py",
   "mimetype": "text/x-python",
   "name": "python",
   "nbconvert_exporter": "python",
   "pygments_lexer": "ipython3",
   "version": "3.9.17"
  },
  "orig_nbformat": 4
 },
 "nbformat": 4,
 "nbformat_minor": 2
}
