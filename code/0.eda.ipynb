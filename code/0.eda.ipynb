{
 "cells": [
  {
   "cell_type": "code",
   "execution_count": 1,
   "metadata": {},
   "outputs": [],
   "source": [
    "import requests\n",
    "import bs4 as bs\n",
    "import pandas as pd"
   ]
  },
  {
   "cell_type": "code",
   "execution_count": 2,
   "metadata": {},
   "outputs": [],
   "source": [
    "# url = 'https://thuvienphapluat.vn/page/tim-van-ban.aspx?keyword=&area=0&type={}&status=0&lan=1&org=0&signer=0&match=True&sort=1'\n",
    "# cate=[\n",
    "#  ('46', 'Báo cáo'),\n",
    "#  ('1', 'Chỉ thị'),\n",
    "#  ('26', 'Công điện'),\n",
    "#  ('31', 'Điều ước quốc tế'),\n",
    "#  ('6', 'Hiến pháp'),\n",
    "#  ('9', 'Hướng dẫn'),\n",
    "#  ('45', 'Kế hoạch'),\n",
    "#  ('34', 'Lệnh'),\n",
    "#  ('10', 'Luật'),\n",
    "#  ('11', 'Nghị định'),\n",
    "#  ('13', 'Nghị quyết'),\n",
    "#  ('14', 'Pháp lệnh'),\n",
    "#  ('17', 'Quyết định'),\n",
    "#  ('18', 'Sắc lệnh'),\n",
    "#  ('21', 'Thông báo'),\n",
    "#  ('23', 'Thông tư'),\n",
    "#  ('24', 'Thông tư liên tịch'),\n",
    "#  ('40', 'Văn bản hợp nhất'),\n",
    "#  ('33', 'Văn bản khác'),\n",
    "#  ('32', 'Văn bản WTO')]\n",
    "\n",
    "# results = []\n",
    "\n",
    "# for cat in cate:\n",
    "#     res = requests.get(url.format(cat[0]))\n",
    "#     soup = bs.BeautifulSoup(res.text)\n",
    "#     total = soup.select('#lbTotal')\n",
    "#     total = int(total[0].text)\n",
    "#     print(cat[1], total)\n",
    "#     results.append((cat[1], total))\n",
    "\n",
    "# df = pd.DataFrame(results, columns=['type', 'total'])\n",
    "# #sort \n",
    "# df = df.sort_values(by=['total'], ascending=False)\n",
    "# df.to_csv('data/tvpl_loaivanban.csv', index=False,header=False)"
   ]
  },
  {
   "cell_type": "code",
   "execution_count": 3,
   "metadata": {},
   "outputs": [],
   "source": [
    "# df.plot(\n",
    "#     kind='pie',\n",
    "#     y='total',\n",
    "#     labels=df['type'],\n",
    "# )"
   ]
  },
  {
   "cell_type": "code",
   "execution_count": 4,
   "metadata": {},
   "outputs": [],
   "source": [
    "# url = \"https://thuvienphapluat.vn/page/tim-van-ban.aspx?keyword=&area=0\"\n",
    "# res = requests.get(url)\n",
    "# soup=bs.BeautifulSoup(res.text)\n",
    "# results = []\n",
    "# li=soup.select_one('#tree').select('li')\n",
    "# for l in li:\n",
    "#     a = l.select('a')\n",
    "#     if len(a) > 1:\n",
    "#         print(a[0].text, a[1].text)\n",
    "#         results.append((a[0].text, int(a[1].text)))\n",
    "# df = pd.DataFrame(results, columns=['linhvuc', 'total'])\n",
    "# df = df.sort_values(by=['total'], ascending=False)\n",
    "# df.to_csv('data/tvpl_linhvuc.csv', index=False,     header=False)"
   ]
  },
  {
   "cell_type": "code",
   "execution_count": 5,
   "metadata": {},
   "outputs": [],
   "source": [
    "import plotly.express as px"
   ]
  },
  {
   "cell_type": "code",
   "execution_count": 20,
   "metadata": {},
   "outputs": [
    {
     "data": {
      "text/html": [
       "<div>\n",
       "<style scoped>\n",
       "    .dataframe tbody tr th:only-of-type {\n",
       "        vertical-align: middle;\n",
       "    }\n",
       "\n",
       "    .dataframe tbody tr th {\n",
       "        vertical-align: top;\n",
       "    }\n",
       "\n",
       "    .dataframe thead th {\n",
       "        text-align: right;\n",
       "    }\n",
       "</style>\n",
       "<table border=\"1\" class=\"dataframe\">\n",
       "  <thead>\n",
       "    <tr style=\"text-align: right;\">\n",
       "      <th></th>\n",
       "      <th>short_title</th>\n",
       "      <th>linhvuc</th>\n",
       "      <th>cauhoi</th>\n",
       "      <th>traloi</th>\n",
       "      <th>url</th>\n",
       "      <th>askDate</th>\n",
       "      <th>answerDate</th>\n",
       "      <th>answers</th>\n",
       "    </tr>\n",
       "  </thead>\n",
       "  <tbody>\n",
       "    <tr>\n",
       "      <th>0</th>\n",
       "      <td>Thẻ BHYT hết hạn gia hạn lại</td>\n",
       "      <td>Bảo hiểm y tế</td>\n",
       "      <td>\\n\\nNội dung câu hỏi:\\n\\n\\nKính gửi Quý cơ qua...</td>\n",
       "      <td>\\n\\nCâu trả lời:\\n\\n\\nQua rà soát dữ liệu mã s...</td>\n",
       "      <td>https://baohiemxahoi.gov.vn/hoidap/pages/defau...</td>\n",
       "      <td>23/02/2023</td>\n",
       "      <td>03/03/2023</td>\n",
       "      <td>[146/2018/NĐ-CP &gt; điều 12 &gt; khoản 5, 2089/VBHN...</td>\n",
       "    </tr>\n",
       "    <tr>\n",
       "      <th>1</th>\n",
       "      <td>Cách đóng BHYT để không bị gián đoạn sau tốt n...</td>\n",
       "      <td>Sổ BHXH - Thẻ BHYT</td>\n",
       "      <td>\\n\\nNội dung câu hỏi:\\n\\n\\nEm có câu hỏi như t...</td>\n",
       "      <td>\\n\\nCâu trả lời:\\n\\n\\n*/ Về đối tượng tham gia...</td>\n",
       "      <td>https://baohiemxahoi.gov.vn/hoidap/pages/defau...</td>\n",
       "      <td>26/02/2023</td>\n",
       "      <td>03/03/2023</td>\n",
       "      <td>[146/2018/NĐ-CP &gt; điều 5, 146/2018/NĐ-CP &gt; điề...</td>\n",
       "    </tr>\n",
       "    <tr>\n",
       "      <th>2</th>\n",
       "      <td>Khi nào tôi nhận được tiền thai sản</td>\n",
       "      <td>Ốm đau, thai sản</td>\n",
       "      <td>\\n\\nNội dung câu hỏi:\\n\\n\\nTôi tên Vũ Thị Tuyế...</td>\n",
       "      <td>\\n\\nCâu trả lời:\\n\\n\\nTại Điều 102, Luật Bảo h...</td>\n",
       "      <td>https://baohiemxahoi.gov.vn/hoidap/pages/defau...</td>\n",
       "      <td>22/02/2023</td>\n",
       "      <td>24/02/2023</td>\n",
       "      <td>[58/2014/QH13 &gt; điều 102]</td>\n",
       "    </tr>\n",
       "    <tr>\n",
       "      <th>3</th>\n",
       "      <td>LÃNH BHXH 1 LẦN</td>\n",
       "      <td>BHXH tự nguyên</td>\n",
       "      <td>\\n\\nNội dung câu hỏi:\\n\\n\\nMSBH: 7911379604\\nT...</td>\n",
       "      <td>\\n\\nCâu trả lời:\\n\\n\\n* Về điều kiện hưởng BHX...</td>\n",
       "      <td>https://baohiemxahoi.gov.vn/hoidap/pages/defau...</td>\n",
       "      <td>01/03/2023</td>\n",
       "      <td>10/03/2023</td>\n",
       "      <td>[115/2015/NĐ-CP &gt; điều 8 &gt; khoản 1]</td>\n",
       "    </tr>\n",
       "    <tr>\n",
       "      <th>4</th>\n",
       "      <td>Hỗ trợ về tài khoản VssID</td>\n",
       "      <td>Sổ BHXH - Thẻ BHYT</td>\n",
       "      <td>\\n\\nNội dung câu hỏi:\\n\\n\\nTôi tên là: Trần Th...</td>\n",
       "      <td>\\n\\nCâu trả lời:\\n\\n\\nQua kiểm tra theo số CCC...</td>\n",
       "      <td>https://baohiemxahoi.gov.vn/hoidap/pages/defau...</td>\n",
       "      <td>22/02/2023</td>\n",
       "      <td>03/03/2023</td>\n",
       "      <td>[2089/VBHN-BHXH &gt; Điều 27 &gt; khoản 143, 2089/VB...</td>\n",
       "    </tr>\n",
       "  </tbody>\n",
       "</table>\n",
       "</div>"
      ],
      "text/plain": [
       "                                         short_title             linhvuc  \\\n",
       "0                       Thẻ BHYT hết hạn gia hạn lại       Bảo hiểm y tế   \n",
       "1  Cách đóng BHYT để không bị gián đoạn sau tốt n...  Sổ BHXH - Thẻ BHYT   \n",
       "2                Khi nào tôi nhận được tiền thai sản    Ốm đau, thai sản   \n",
       "3                                    LÃNH BHXH 1 LẦN      BHXH tự nguyên   \n",
       "4                          Hỗ trợ về tài khoản VssID  Sổ BHXH - Thẻ BHYT   \n",
       "\n",
       "                                              cauhoi  \\\n",
       "0  \\n\\nNội dung câu hỏi:\\n\\n\\nKính gửi Quý cơ qua...   \n",
       "1  \\n\\nNội dung câu hỏi:\\n\\n\\nEm có câu hỏi như t...   \n",
       "2  \\n\\nNội dung câu hỏi:\\n\\n\\nTôi tên Vũ Thị Tuyế...   \n",
       "3  \\n\\nNội dung câu hỏi:\\n\\n\\nMSBH: 7911379604\\nT...   \n",
       "4  \\n\\nNội dung câu hỏi:\\n\\n\\nTôi tên là: Trần Th...   \n",
       "\n",
       "                                              traloi  \\\n",
       "0  \\n\\nCâu trả lời:\\n\\n\\nQua rà soát dữ liệu mã s...   \n",
       "1  \\n\\nCâu trả lời:\\n\\n\\n*/ Về đối tượng tham gia...   \n",
       "2  \\n\\nCâu trả lời:\\n\\n\\nTại Điều 102, Luật Bảo h...   \n",
       "3  \\n\\nCâu trả lời:\\n\\n\\n* Về điều kiện hưởng BHX...   \n",
       "4  \\n\\nCâu trả lời:\\n\\n\\nQua kiểm tra theo số CCC...   \n",
       "\n",
       "                                                 url     askDate  answerDate  \\\n",
       "0  https://baohiemxahoi.gov.vn/hoidap/pages/defau...  23/02/2023  03/03/2023   \n",
       "1  https://baohiemxahoi.gov.vn/hoidap/pages/defau...  26/02/2023  03/03/2023   \n",
       "2  https://baohiemxahoi.gov.vn/hoidap/pages/defau...  22/02/2023  24/02/2023   \n",
       "3  https://baohiemxahoi.gov.vn/hoidap/pages/defau...  01/03/2023  10/03/2023   \n",
       "4  https://baohiemxahoi.gov.vn/hoidap/pages/defau...  22/02/2023  03/03/2023   \n",
       "\n",
       "                                             answers  \n",
       "0  [146/2018/NĐ-CP > điều 12 > khoản 5, 2089/VBHN...  \n",
       "1  [146/2018/NĐ-CP > điều 5, 146/2018/NĐ-CP > điề...  \n",
       "2                          [58/2014/QH13 > điều 102]  \n",
       "3                [115/2015/NĐ-CP > điều 8 > khoản 1]  \n",
       "4  [2089/VBHN-BHXH > Điều 27 > khoản 143, 2089/VB...  "
      ]
     },
     "execution_count": 20,
     "metadata": {},
     "output_type": "execute_result"
    }
   ],
   "source": [
    "# plot \n",
    "df = pd.read_json('./answers.jsonl', lines=True)\n",
    "df.head()"
   ]
  },
  {
   "cell_type": "code",
   "execution_count": 21,
   "metadata": {},
   "outputs": [
    {
     "data": {
      "text/plain": [
       "4368"
      ]
     },
     "execution_count": 21,
     "metadata": {},
     "output_type": "execute_result"
    }
   ],
   "source": [
    "len(df)"
   ]
  },
  {
   "cell_type": "code",
   "execution_count": 22,
   "metadata": {},
   "outputs": [
    {
     "name": "stdout",
     "output_type": "stream",
     "text": [
      "Nội dung câu hỏi:\n",
      "Trường hợp chồng  đang tham gia BHXH tại Công ty A (từ tháng 1-4 năm 2021), ngừng BHXH ở cty B từ tháng 10 năm 2020 thì có đủ điều kiện để hưởng trợ cấp 1 lần khi vợ sinh con không? Vợ không tham gia BHXH, sinh con ngày 1 tháng 4 năm 2021. \n",
      "theo quy định thì trường hợp lao động nam đóng BHXH có vợ sinh con sẽ được hưởng chế độ thai sản. Điều kiện hưởng chế độ thai sản cho nam theo Khoản 2, Điều 9, Thông tư 59/2015/TT-BLDXH là phải đóng BHXH từ đủ 06 tháng trở lên trong thời gian 12 tháng trước khi sinh con.\n",
      "Điều kiện là đủ 6 tháng trở lên, nhưng có phải là đóng liên tục 6 tháng đến thời điểm vợ sinh không ạ.\n",
      "Mong cơ quan BHXH giải đáp thắc mắc giúp tôi. Trân trọng cảm ơn!\n",
      "Câu trả lời:\n",
      "Khoản 2, điều 34 Luật Bảo hiểm xã hội 2014 quy định về chế độ nam nghỉ hưởng thai sản khi vợ sinh con như sau:\n",
      " \n",
      "“Lao động nam đang đóng bảo hiểm xã hội khi vợ sinh con được nghỉ việc hưởng chế độ thai sản như sau:\n",
      " \n",
      "a) 05 ngày làm việc;\n",
      " \n",
      "b) 07 ngày làm việc khi vợ sinh con phải phẫu thuật, sinh con dưới 32 tuần tuổi;\n",
      " \n",
      "c) Trường hợp vợ sinh đôi thì được nghỉ 10 ngày làm việc, từ sinh ba trở lên thì cứ thêm mỗi con được nghỉ thêm 03 ngày làm việc;\n",
      " \n",
      "d) Trường hợp vợ sinh đôi trở lên mà phải phẫu thuật thì được nghỉ 14 ngày làm việc.\n",
      " \n",
      "Thời gian nghỉ việc hưởng chế độ thai sản quy định tại khoản này được tính trong khoảng thời gian 30 ngày đầu kể từ ngày vợ sinh con.”\n",
      " \n",
      "           Điều 38 Luật Bảo hiểm xã hội 2014 quy định về chế độ trợ cấp 1 lần khi vợ sinh con đối với lao động nam như sau:\n",
      " \n",
      "“Trường hợp sinh con nhưng chỉ có cha tham gia bảo hiểm xã hội thì cha được trợ cấp một lần bằng 02 lần mức lương cơ sở tại tháng sinh con cho mỗi con.”\n",
      " \n",
      "          Điểm a, khoản 2, điều 9 Thông tư 59/TT-BLĐTBXH ngày 29/12/2015 quy định chi tiết về việc hưởng trợ cấp 1 lần đối với lao động nam có vợ sinh con:\n",
      " \n",
      "“Đối với trường hợp chỉ có cha tham gia bảo hiểm xã hội thì cha phải đóng bảo hiểm xã hội từ đủ 06 tháng trở lên trong thời gian 12 tháng trước khi sinh con;”\n",
      " \n",
      "          Như vậy, nếu lao động nam đã tham gia BHXH từ đủ 06 tháng trở lên trong vòng 12 tháng trước khi sinh con thì sẽ được hưởng chế độ thai sản nam nghỉ việc khi vợ sinh con và trợ cấp 1 lần khi vợ sinh con. 06 tháng này không có quy định phải tham gia bảo hiểm xã hội liên tục mà chỉ cần cộng dồn trong 12 tháng trước khi người vợ sinh con. Mọi thắc mắc xin liên hệ tổng đài 19009068 để được hỗ trợ.\n"
     ]
    }
   ],
   "source": [
    "import re\n",
    "\n",
    "random = df.sample(1)\n",
    "# take 2 col cauhoi, traloi\n",
    "random = random[['cauhoi', 'traloi']]\n",
    "random = random.reset_index(drop=True)\n",
    "# remove duplicate newline in both col\n",
    "random['cauhoi'] = random['cauhoi'].apply(lambda x: re.sub(r'\\n+', '\\n', x))\n",
    "random['cauhoi'] = random['cauhoi'].apply(lambda x: re.sub(r'\\n+', '\\n', x))\n",
    "random['traloi'] = random['traloi'].apply(lambda x: re.sub(r'\\n+', '\\n', x))\n",
    "random['traloi'] = random['traloi'].apply(lambda x: re.sub(r'\\n+', '\\n', x))\n",
    "# strip\n",
    "random['cauhoi'] = random['cauhoi'].apply(lambda x: x.strip())\n",
    "random['traloi'] = random['traloi'].apply(lambda x: x.strip())\n",
    "\n",
    "print(random['cauhoi'].values[0])\n",
    "print(random['traloi'].values[0])"
   ]
  },
  {
   "cell_type": "code",
   "execution_count": 7,
   "metadata": {},
   "outputs": [
    {
     "data": {
      "application/vnd.plotly.v1+json": {
       "config": {
        "plotlyServerURL": "https://plot.ly"
       },
       "data": [
        {
         "domain": {
          "x": [
           0,
           1
          ],
          "y": [
           0,
           1
          ]
         },
         "hovertemplate": "label=%{label}<br>value=%{value}<extra></extra>",
         "labels": [
          "Ốm đau, thai sản",
          "Sổ BHXH - Thẻ BHYT",
          "BHXH một lần",
          "BH thất nghiệp",
          "Bảo hiểm y tế",
          "Câu hỏi khác",
          "Thu - nộp BHXH, BHYT, BHTN",
          "BHXH tự nguyên",
          "Hưu trí, tử tuất",
          "Tai nạn lao động, bệnh nghề nghiệp",
          "Câu hỏi thường gặp"
         ],
         "legendgroup": "",
         "name": "",
         "showlegend": true,
         "textinfo": "percent",
         "textposition": "inside",
         "type": "pie",
         "values": [
          1002,
          894,
          794,
          484,
          402,
          260,
          257,
          148,
          116,
          7,
          4
         ]
        }
       ],
       "layout": {
        "height": 400,
        "legend": {
         "tracegroupgap": 0
        },
        "margin": {
         "t": 60
        },
        "template": {
         "data": {
          "bar": [
           {
            "error_x": {
             "color": "#2a3f5f"
            },
            "error_y": {
             "color": "#2a3f5f"
            },
            "marker": {
             "line": {
              "color": "#E5ECF6",
              "width": 0.5
             },
             "pattern": {
              "fillmode": "overlay",
              "size": 10,
              "solidity": 0.2
             }
            },
            "type": "bar"
           }
          ],
          "barpolar": [
           {
            "marker": {
             "line": {
              "color": "#E5ECF6",
              "width": 0.5
             },
             "pattern": {
              "fillmode": "overlay",
              "size": 10,
              "solidity": 0.2
             }
            },
            "type": "barpolar"
           }
          ],
          "carpet": [
           {
            "aaxis": {
             "endlinecolor": "#2a3f5f",
             "gridcolor": "white",
             "linecolor": "white",
             "minorgridcolor": "white",
             "startlinecolor": "#2a3f5f"
            },
            "baxis": {
             "endlinecolor": "#2a3f5f",
             "gridcolor": "white",
             "linecolor": "white",
             "minorgridcolor": "white",
             "startlinecolor": "#2a3f5f"
            },
            "type": "carpet"
           }
          ],
          "choropleth": [
           {
            "colorbar": {
             "outlinewidth": 0,
             "ticks": ""
            },
            "type": "choropleth"
           }
          ],
          "contour": [
           {
            "colorbar": {
             "outlinewidth": 0,
             "ticks": ""
            },
            "colorscale": [
             [
              0,
              "#0d0887"
             ],
             [
              0.1111111111111111,
              "#46039f"
             ],
             [
              0.2222222222222222,
              "#7201a8"
             ],
             [
              0.3333333333333333,
              "#9c179e"
             ],
             [
              0.4444444444444444,
              "#bd3786"
             ],
             [
              0.5555555555555556,
              "#d8576b"
             ],
             [
              0.6666666666666666,
              "#ed7953"
             ],
             [
              0.7777777777777778,
              "#fb9f3a"
             ],
             [
              0.8888888888888888,
              "#fdca26"
             ],
             [
              1,
              "#f0f921"
             ]
            ],
            "type": "contour"
           }
          ],
          "contourcarpet": [
           {
            "colorbar": {
             "outlinewidth": 0,
             "ticks": ""
            },
            "type": "contourcarpet"
           }
          ],
          "heatmap": [
           {
            "colorbar": {
             "outlinewidth": 0,
             "ticks": ""
            },
            "colorscale": [
             [
              0,
              "#0d0887"
             ],
             [
              0.1111111111111111,
              "#46039f"
             ],
             [
              0.2222222222222222,
              "#7201a8"
             ],
             [
              0.3333333333333333,
              "#9c179e"
             ],
             [
              0.4444444444444444,
              "#bd3786"
             ],
             [
              0.5555555555555556,
              "#d8576b"
             ],
             [
              0.6666666666666666,
              "#ed7953"
             ],
             [
              0.7777777777777778,
              "#fb9f3a"
             ],
             [
              0.8888888888888888,
              "#fdca26"
             ],
             [
              1,
              "#f0f921"
             ]
            ],
            "type": "heatmap"
           }
          ],
          "heatmapgl": [
           {
            "colorbar": {
             "outlinewidth": 0,
             "ticks": ""
            },
            "colorscale": [
             [
              0,
              "#0d0887"
             ],
             [
              0.1111111111111111,
              "#46039f"
             ],
             [
              0.2222222222222222,
              "#7201a8"
             ],
             [
              0.3333333333333333,
              "#9c179e"
             ],
             [
              0.4444444444444444,
              "#bd3786"
             ],
             [
              0.5555555555555556,
              "#d8576b"
             ],
             [
              0.6666666666666666,
              "#ed7953"
             ],
             [
              0.7777777777777778,
              "#fb9f3a"
             ],
             [
              0.8888888888888888,
              "#fdca26"
             ],
             [
              1,
              "#f0f921"
             ]
            ],
            "type": "heatmapgl"
           }
          ],
          "histogram": [
           {
            "marker": {
             "pattern": {
              "fillmode": "overlay",
              "size": 10,
              "solidity": 0.2
             }
            },
            "type": "histogram"
           }
          ],
          "histogram2d": [
           {
            "colorbar": {
             "outlinewidth": 0,
             "ticks": ""
            },
            "colorscale": [
             [
              0,
              "#0d0887"
             ],
             [
              0.1111111111111111,
              "#46039f"
             ],
             [
              0.2222222222222222,
              "#7201a8"
             ],
             [
              0.3333333333333333,
              "#9c179e"
             ],
             [
              0.4444444444444444,
              "#bd3786"
             ],
             [
              0.5555555555555556,
              "#d8576b"
             ],
             [
              0.6666666666666666,
              "#ed7953"
             ],
             [
              0.7777777777777778,
              "#fb9f3a"
             ],
             [
              0.8888888888888888,
              "#fdca26"
             ],
             [
              1,
              "#f0f921"
             ]
            ],
            "type": "histogram2d"
           }
          ],
          "histogram2dcontour": [
           {
            "colorbar": {
             "outlinewidth": 0,
             "ticks": ""
            },
            "colorscale": [
             [
              0,
              "#0d0887"
             ],
             [
              0.1111111111111111,
              "#46039f"
             ],
             [
              0.2222222222222222,
              "#7201a8"
             ],
             [
              0.3333333333333333,
              "#9c179e"
             ],
             [
              0.4444444444444444,
              "#bd3786"
             ],
             [
              0.5555555555555556,
              "#d8576b"
             ],
             [
              0.6666666666666666,
              "#ed7953"
             ],
             [
              0.7777777777777778,
              "#fb9f3a"
             ],
             [
              0.8888888888888888,
              "#fdca26"
             ],
             [
              1,
              "#f0f921"
             ]
            ],
            "type": "histogram2dcontour"
           }
          ],
          "mesh3d": [
           {
            "colorbar": {
             "outlinewidth": 0,
             "ticks": ""
            },
            "type": "mesh3d"
           }
          ],
          "parcoords": [
           {
            "line": {
             "colorbar": {
              "outlinewidth": 0,
              "ticks": ""
             }
            },
            "type": "parcoords"
           }
          ],
          "pie": [
           {
            "automargin": true,
            "type": "pie"
           }
          ],
          "scatter": [
           {
            "fillpattern": {
             "fillmode": "overlay",
             "size": 10,
             "solidity": 0.2
            },
            "type": "scatter"
           }
          ],
          "scatter3d": [
           {
            "line": {
             "colorbar": {
              "outlinewidth": 0,
              "ticks": ""
             }
            },
            "marker": {
             "colorbar": {
              "outlinewidth": 0,
              "ticks": ""
             }
            },
            "type": "scatter3d"
           }
          ],
          "scattercarpet": [
           {
            "marker": {
             "colorbar": {
              "outlinewidth": 0,
              "ticks": ""
             }
            },
            "type": "scattercarpet"
           }
          ],
          "scattergeo": [
           {
            "marker": {
             "colorbar": {
              "outlinewidth": 0,
              "ticks": ""
             }
            },
            "type": "scattergeo"
           }
          ],
          "scattergl": [
           {
            "marker": {
             "colorbar": {
              "outlinewidth": 0,
              "ticks": ""
             }
            },
            "type": "scattergl"
           }
          ],
          "scattermapbox": [
           {
            "marker": {
             "colorbar": {
              "outlinewidth": 0,
              "ticks": ""
             }
            },
            "type": "scattermapbox"
           }
          ],
          "scatterpolar": [
           {
            "marker": {
             "colorbar": {
              "outlinewidth": 0,
              "ticks": ""
             }
            },
            "type": "scatterpolar"
           }
          ],
          "scatterpolargl": [
           {
            "marker": {
             "colorbar": {
              "outlinewidth": 0,
              "ticks": ""
             }
            },
            "type": "scatterpolargl"
           }
          ],
          "scatterternary": [
           {
            "marker": {
             "colorbar": {
              "outlinewidth": 0,
              "ticks": ""
             }
            },
            "type": "scatterternary"
           }
          ],
          "surface": [
           {
            "colorbar": {
             "outlinewidth": 0,
             "ticks": ""
            },
            "colorscale": [
             [
              0,
              "#0d0887"
             ],
             [
              0.1111111111111111,
              "#46039f"
             ],
             [
              0.2222222222222222,
              "#7201a8"
             ],
             [
              0.3333333333333333,
              "#9c179e"
             ],
             [
              0.4444444444444444,
              "#bd3786"
             ],
             [
              0.5555555555555556,
              "#d8576b"
             ],
             [
              0.6666666666666666,
              "#ed7953"
             ],
             [
              0.7777777777777778,
              "#fb9f3a"
             ],
             [
              0.8888888888888888,
              "#fdca26"
             ],
             [
              1,
              "#f0f921"
             ]
            ],
            "type": "surface"
           }
          ],
          "table": [
           {
            "cells": {
             "fill": {
              "color": "#EBF0F8"
             },
             "line": {
              "color": "white"
             }
            },
            "header": {
             "fill": {
              "color": "#C8D4E3"
             },
             "line": {
              "color": "white"
             }
            },
            "type": "table"
           }
          ]
         },
         "layout": {
          "annotationdefaults": {
           "arrowcolor": "#2a3f5f",
           "arrowhead": 0,
           "arrowwidth": 1
          },
          "autotypenumbers": "strict",
          "coloraxis": {
           "colorbar": {
            "outlinewidth": 0,
            "ticks": ""
           }
          },
          "colorscale": {
           "diverging": [
            [
             0,
             "#8e0152"
            ],
            [
             0.1,
             "#c51b7d"
            ],
            [
             0.2,
             "#de77ae"
            ],
            [
             0.3,
             "#f1b6da"
            ],
            [
             0.4,
             "#fde0ef"
            ],
            [
             0.5,
             "#f7f7f7"
            ],
            [
             0.6,
             "#e6f5d0"
            ],
            [
             0.7,
             "#b8e186"
            ],
            [
             0.8,
             "#7fbc41"
            ],
            [
             0.9,
             "#4d9221"
            ],
            [
             1,
             "#276419"
            ]
           ],
           "sequential": [
            [
             0,
             "#0d0887"
            ],
            [
             0.1111111111111111,
             "#46039f"
            ],
            [
             0.2222222222222222,
             "#7201a8"
            ],
            [
             0.3333333333333333,
             "#9c179e"
            ],
            [
             0.4444444444444444,
             "#bd3786"
            ],
            [
             0.5555555555555556,
             "#d8576b"
            ],
            [
             0.6666666666666666,
             "#ed7953"
            ],
            [
             0.7777777777777778,
             "#fb9f3a"
            ],
            [
             0.8888888888888888,
             "#fdca26"
            ],
            [
             1,
             "#f0f921"
            ]
           ],
           "sequentialminus": [
            [
             0,
             "#0d0887"
            ],
            [
             0.1111111111111111,
             "#46039f"
            ],
            [
             0.2222222222222222,
             "#7201a8"
            ],
            [
             0.3333333333333333,
             "#9c179e"
            ],
            [
             0.4444444444444444,
             "#bd3786"
            ],
            [
             0.5555555555555556,
             "#d8576b"
            ],
            [
             0.6666666666666666,
             "#ed7953"
            ],
            [
             0.7777777777777778,
             "#fb9f3a"
            ],
            [
             0.8888888888888888,
             "#fdca26"
            ],
            [
             1,
             "#f0f921"
            ]
           ]
          },
          "colorway": [
           "#636efa",
           "#EF553B",
           "#00cc96",
           "#ab63fa",
           "#FFA15A",
           "#19d3f3",
           "#FF6692",
           "#B6E880",
           "#FF97FF",
           "#FECB52"
          ],
          "font": {
           "color": "#2a3f5f"
          },
          "geo": {
           "bgcolor": "white",
           "lakecolor": "white",
           "landcolor": "#E5ECF6",
           "showlakes": true,
           "showland": true,
           "subunitcolor": "white"
          },
          "hoverlabel": {
           "align": "left"
          },
          "hovermode": "closest",
          "mapbox": {
           "style": "light"
          },
          "paper_bgcolor": "white",
          "plot_bgcolor": "#E5ECF6",
          "polar": {
           "angularaxis": {
            "gridcolor": "white",
            "linecolor": "white",
            "ticks": ""
           },
           "bgcolor": "#E5ECF6",
           "radialaxis": {
            "gridcolor": "white",
            "linecolor": "white",
            "ticks": ""
           }
          },
          "scene": {
           "xaxis": {
            "backgroundcolor": "#E5ECF6",
            "gridcolor": "white",
            "gridwidth": 2,
            "linecolor": "white",
            "showbackground": true,
            "ticks": "",
            "zerolinecolor": "white"
           },
           "yaxis": {
            "backgroundcolor": "#E5ECF6",
            "gridcolor": "white",
            "gridwidth": 2,
            "linecolor": "white",
            "showbackground": true,
            "ticks": "",
            "zerolinecolor": "white"
           },
           "zaxis": {
            "backgroundcolor": "#E5ECF6",
            "gridcolor": "white",
            "gridwidth": 2,
            "linecolor": "white",
            "showbackground": true,
            "ticks": "",
            "zerolinecolor": "white"
           }
          },
          "shapedefaults": {
           "line": {
            "color": "#2a3f5f"
           }
          },
          "ternary": {
           "aaxis": {
            "gridcolor": "white",
            "linecolor": "white",
            "ticks": ""
           },
           "baxis": {
            "gridcolor": "white",
            "linecolor": "white",
            "ticks": ""
           },
           "bgcolor": "#E5ECF6",
           "caxis": {
            "gridcolor": "white",
            "linecolor": "white",
            "ticks": ""
           }
          },
          "title": {
           "x": 0.05
          },
          "xaxis": {
           "automargin": true,
           "gridcolor": "white",
           "linecolor": "white",
           "ticks": "",
           "title": {
            "standoff": 15
           },
           "zerolinecolor": "white",
           "zerolinewidth": 2
          },
          "yaxis": {
           "automargin": true,
           "gridcolor": "white",
           "linecolor": "white",
           "ticks": "",
           "title": {
            "standoff": 15
           },
           "zerolinecolor": "white",
           "zerolinewidth": 2
          }
         }
        },
        "width": 700
       }
      }
     },
     "metadata": {},
     "output_type": "display_data"
    }
   ],
   "source": [
    "# plot piechart on df linhvuc\n",
    "# show value count\n",
    "fig = px.pie( values=df['linhvuc'].value_counts().values, names=df['linhvuc'].value_counts().index,  width=700, height=400,\n",
    "                )\n",
    "fig.update_traces(textposition='inside', textinfo='percent')\n",
    "\n",
    "# to image high quality\n",
    "fig.write_image(\"lcauhoitheoinhvuc.svg\",)\n",
    "fig.show()"
   ]
  }
 ],
 "metadata": {
  "kernelspec": {
   "display_name": "research",
   "language": "python",
   "name": "python3"
  },
  "language_info": {
   "codemirror_mode": {
    "name": "ipython",
    "version": 3
   },
   "file_extension": ".py",
   "mimetype": "text/x-python",
   "name": "python",
   "nbconvert_exporter": "python",
   "pygments_lexer": "ipython3",
   "version": "3.9.16"
  },
  "orig_nbformat": 4
 },
 "nbformat": 4,
 "nbformat_minor": 2
}
