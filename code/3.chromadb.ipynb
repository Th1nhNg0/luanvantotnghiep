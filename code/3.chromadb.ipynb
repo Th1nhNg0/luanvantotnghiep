{
 "cells": [
  {
   "cell_type": "code",
   "execution_count": 1,
   "metadata": {},
   "outputs": [],
   "source": [
    "import json\n",
    "import lawquery\n",
    "import pandas as pd\n",
    "import os\n",
    "from tqdm import tqdm\n",
    "import numpy as np"
   ]
  },
  {
   "cell_type": "code",
   "execution_count": 2,
   "metadata": {},
   "outputs": [],
   "source": [
    "from langchain.text_splitter import RecursiveCharacterTextSplitter\n",
    "\n",
    "text_splitter = RecursiveCharacterTextSplitter(        \n",
    "    chunk_size = 3000,\n",
    "    chunk_overlap  = 0,\n",
    "    length_function = len,\n",
    ")"
   ]
  },
  {
   "attachments": {},
   "cell_type": "markdown",
   "metadata": {},
   "source": [
    "# Load data"
   ]
  },
  {
   "cell_type": "code",
   "execution_count": 3,
   "metadata": {},
   "outputs": [],
   "source": [
    "topk = [5,10,20,50]\n",
    "run_results = []"
   ]
  },
  {
   "cell_type": "code",
   "execution_count": 21,
   "metadata": {},
   "outputs": [
    {
     "name": "stdout",
     "output_type": "stream",
     "text": [
      "Number of engines: 15\n",
      "Number of documents: 875\n"
     ]
    }
   ],
   "source": [
    "engines = {}\n",
    "law_df = pd.read_csv('./documents/data.csv')\n",
    "for i in range(len(law_df)):\n",
    "    path = law_df['path'][i]\n",
    "    so_hieu_van_ban = law_df['so_hieu_van_ban'][i]\n",
    "    if so_hieu_van_ban not in engines:\n",
    "        engines[so_hieu_van_ban] = lawquery.Engine(\n",
    "            os.path.join('documents',path, 'tree.json.gz'),\n",
    "        )\n",
    "print(\"Number of engines:\",len(engines))\n",
    "\n",
    "\n",
    "documents = []\n",
    "metadatas = []\n",
    "ids = []\n",
    "\n",
    "for engine in engines:\n",
    "    results = engines[engine].query(node_type='điều')\n",
    "    for result in results:\n",
    "        for i,chunk in enumerate(text_splitter.split_text(result.content)):\n",
    "            documents.append(result.name+'\\n'+chunk)\n",
    "            metadatas.append({'law_id': engine, 'node_type': result.node_type, 'node_id': result.node_id,})\n",
    "            ids.append(result.id+str(i))\n",
    "\n",
    "qa_df = pd.read_json('./answers_filtered.jsonl', lines=True, orient='records')\n",
    "\n",
    "# take only use\n",
    "# for index, row in qa_df.iterrows():\n",
    "#     for answer in row['new_answers']:\n",
    "#         q = engines[answer['law_id']].query(node_type=answer['node_type'], node_id = answer['node_id'])\n",
    "#         if len(q)!=0:\n",
    "#             if q[0].id in ids:\n",
    "#                 continue\n",
    "#             documents.append(q[0].content)\n",
    "#             metadatas.append({'law_id': answer['law_id'], 'node_type': q[0].node_type, 'node_id': q[0].node_id})\n",
    "#             ids.append(q[0].id)\n",
    "print(\"Number of documents:\",len(documents))"
   ]
  },
  {
   "attachments": {},
   "cell_type": "markdown",
   "metadata": {},
   "source": [
    "# TDIDF"
   ]
  },
  {
   "cell_type": "code",
   "execution_count": 22,
   "metadata": {},
   "outputs": [],
   "source": [
    "from underthesea import text_normalize,word_tokenize\n",
    "from sklearn.feature_extraction.text import TfidfVectorizer\n",
    "from sklearn.metrics.pairwise import cosine_similarity\n",
    "import re\n",
    "import string\n",
    "def format_text(text,word_segmentation=False,remove_punctuation=False):\n",
    "    text = re.sub(r'\\s+', ' ', text)\n",
    "    text = text.strip()\n",
    "    text = text_normalize(text)\n",
    "    if remove_punctuation:\n",
    "        text = text.translate(str.maketrans('', '', string.punctuation))\n",
    "    if word_segmentation:\n",
    "        text = word_tokenize(text, format=\"text\")\n",
    "    return text"
   ]
  },
  {
   "cell_type": "code",
   "execution_count": 23,
   "metadata": {},
   "outputs": [],
   "source": [
    "def run(word_segmentation):\n",
    "    tdidf_docs= [format_text(doc,word_segmentation) for doc in documents]\n",
    "    tfidf = TfidfVectorizer()\n",
    "    tfidf_matrix = tfidf.fit_transform(tdidf_docs)\n",
    "    to_run = len(qa_df)\n",
    "    acc ={}\n",
    "    for k in topk:\n",
    "        acc[k] = 0\n",
    "    for i in tqdm(range(to_run)):\n",
    "        row = qa_df.iloc[i]\n",
    "        query = row['cauhoi']\n",
    "        query = format_text(query,word_segmentation)\n",
    "        query_vector = tfidf.transform([query])\n",
    "        cosine_similarities = cosine_similarity(query_vector, tfidf_matrix).flatten()\n",
    "        related_docs_indices = cosine_similarities.argsort()[:-topk[-1]-1:-1]\n",
    "        result = { 'metadatas':[]}\n",
    "        for j in related_docs_indices:\n",
    "            result['metadatas'].append(metadatas[j])\n",
    "        for k in topk:\n",
    "            if all(r in result['metadatas'][:k] for r in row['new_answers']):\n",
    "                acc[k] += 1\n",
    "    # print as table\n",
    "    for k in topk:\n",
    "        acc[k] /= to_run\n",
    "    print(acc)\n",
    "    return acc"
   ]
  },
  {
   "cell_type": "code",
   "execution_count": 35,
   "metadata": {},
   "outputs": [],
   "source": [
    "tdidf_docs= [format_text(doc,True) for doc in documents]\n",
    "tfidf = TfidfVectorizer()\n",
    "tfidf_matrix = tfidf.fit_transform(tdidf_docs)\n"
   ]
  },
  {
   "cell_type": "code",
   "execution_count": 39,
   "metadata": {},
   "outputs": [],
   "source": [
    "def predict_one(query):\n",
    "    topk=2\n",
    "    query = format_text(query,True)\n",
    "    query_vector = tfidf.transform([query])\n",
    "    cosine_similarities = cosine_similarity(query_vector, tfidf_matrix).flatten()\n",
    "    related_docs_indices = cosine_similarities.argsort() [:-topk-1:-1]\n",
    "    result = { 'metadatas':[]}\n",
    "    for j in related_docs_indices:\n",
    "        result['metadatas'].append({\n",
    "            'law_id': metadatas[j]['law_id'],\n",
    "            'node_type': metadatas[j]['node_type'],\n",
    "            'node_id': metadatas[j]['node_id'],\n",
    "        })\n",
    "    return result"
   ]
  },
  {
   "cell_type": "code",
   "execution_count": 49,
   "metadata": {},
   "outputs": [
    {
     "name": "stdout",
     "output_type": "stream",
     "text": [
      "Nghỉ việc có được hưởng lương tháng cuối không?\n",
      "{'law_id': '59/2015/TT-BLĐTBXH', 'node_type': 'điều', 'node_id': '38'}\n",
      "Chế độ đối với người lao động đã có quyết định nghỉ việc chờ giải quyết chế độ hưu trí, trợ cấp hằng tháng được thực hiện theo Điều 25 của Nghị định số 115/2015/NĐ-CP và được hướng dẫn như sau:\n",
      "1. Cán bộ xã thuộc đối tượng điều chỉnh của Nghị định số 09/1998/NĐ-CP đã có quyết định hoặc giấy chứng nhận chờ đủ điều kiện về tuổi đời để hưởng trợ cấp hằng tháng của cơ quan bảo hiểm xã hội thì được hưởng trợ cấp hằng tháng khi nam đủ 55 tuổi, nữ đủ 50 tuổi. Mức trợ cấp hằng tháng được tính theo quy định của Nghị định số 09/1998/NĐ-CP và được tính trên mức bình quân sinh hoạt phí của 5 năm cuối trước khi nghỉ việc, sau đó được điều chỉnh theo các quy định về trợ cấp hằng tháng của từng thời kỳ.\n",
      "Trong thời gian nghỉ chờ để hưởng trợ cấp hằng tháng mà bị chết, thì người lo mai táng được nhận trợ cấp mai táng bằng 10 tháng lương cơ sở. Thân nhân của người lao động được giải quyết chế độ tử tuất theo quy định của Luật bảo hiểm xã hội năm 2014. Mức trợ cấp tuất một lần được tính trên mức bình quân sinh hoạt phí của 5 năm cuối trước khi nghỉ việc được quy đổi theo mức lương cơ sở tại tháng người lao động chết.\n",
      "2. Trường hợp trong thời gian chờ đủ điều kiện về tuổi đời để hưởng lương hưu hoặc trợ cấp hằng tháng mà người lao động tiếp tục tham gia bảo hiểm xã hội thì được tính cộng nối thời gian công tác đã được ghi nhận trong quyết định hoặc giấy chứng nhận chờ đủ điều kiện về tuổi đời để hưởng lương hưu hoặc trợ cấp hằng tháng với thời gian đóng bảo hiểm xã hội sau này để tính hưởng bảo hiểm xã hội theo quy định của Luật bảo hiểm xã hội và các văn bản hướng dẫn thi hành.\n",
      "{'law_id': '59/2015/TT-BLĐTBXH', 'node_type': 'điều', 'node_id': '20'}\n",
      "1. Mức bình quân tiền lương tháng đóng bảo hiểm xã hội đối với người lao động thuộc đối tượng thực hiện chế độ tiền lương do Nhà nước quy định có toàn bộ thời gian đóng bảo hiểm xã hội theo chế độ tiền lương này quy định tại khoản 1 Điều 62 của Luật bảo hiểm xã hội và khoản 1 Điều 9 Nghị định số 115/2015/NĐ-CP được hướng dẫn như sau:\n",
      "a) Đối với người lao động bắt đầu tham gia bảo hiểm xã hội trước ngày 01 tháng 01 năm 1995:\n",
      "Mbqtl\n",
      "=\n",
      "Tổng số tiền lương tháng đóng bảo hiểm xã hội của 5 năm (60 tháng) cuối trước khi nghỉ việc\n",
      "60 tháng\n",
      "b) Đối với người lao động bắt đầu tham gia bảo hiểm xã hội trong khoảng thời gian từ ngày 01 tháng 01 năm 1995 đến ngày 31 tháng 12 năm 2000:\n",
      "Mbqtl\n",
      "=\n",
      "Tổng số tiền lương tháng đóng bảo hiểm xã hội của 6 năm (72 tháng) cuối trước khi nghỉ việc\n",
      "72 tháng\n",
      "c) Đối với người lao động bắt đầu tham gia bảo hiểm xã hội trong khoảng thời gian từ ngày 01 tháng 01 năm 2001 đến ngày 31 tháng 12 năm 2006:\n",
      "Mbqtl\n",
      "=\n",
      "Tổng số tiền lương tháng đóng bảo hiểm xã hội của 8 năm (96 tháng) cuối trước khi nghỉ việc\n",
      "96 tháng\n",
      "d) Đối với người lao động bắt đầu tham gia bảo hiểm xã hội trong khoảng thời gian từ ngày 01 tháng 01 năm 2007 đến ngày 31 tháng 12 năm 2015:\n",
      "Mbqtl\n",
      "=\n",
      "Tổng số tiền lương tháng đóng bảo hiểm xã hội của 10 năm (120 tháng) cuối trước khi nghỉ việc\n",
      "120 tháng\n",
      "đ) Đối với người lao động bắt đầu tham gia bảo hiểm xã hội từ ngày 01 tháng 01 năm 2016 đến ngày 31 tháng 12 năm 2019:\n",
      "Mbqtl\n",
      "=\n",
      "Tổng số tiền lương tháng đóng bảo hiểm xã hội của 15 năm (180 tháng) cuối trước khi nghỉ việc\n",
      "180 tháng\n",
      "e) Đối với người lao động bắt đầu tham gia bảo hiểm xã hội từ ngày 01 tháng 01 năm 2020 đến ngày 31 tháng 12 năm 2024:\n",
      "Mbqtl\n",
      "=\n",
      "Tổng số tiền lương tháng đóng bảo hiểm xã hội của 20 năm (240 tháng) cuối trước khi nghỉ việc\n",
      "240 tháng\n",
      "g) Đối với người lao động bắt đầu tham gia bảo hiểm xã hội từ ngày 01 tháng 01 năm 2025 trở đi:\n",
      "Mbqtl\n",
      "=\n",
      "Tổng số tiền lương tháng đóng bảo hiểm xã hội của của toàn bộ thời gian đóng\n",
      "Tổng số tháng đóng bảo hiểm xã hội\n",
      "Trong đó:\n",
      "Mbqtl: mức bình quân tiền lương tháng đóng bảo hiểm xã hội.\n",
      "Tiền lương tháng đóng bảo hiểm xã hội là tiền lương theo ngạch, bậc, cấp bậc quân hàm và các khoản phụ cấp chức vụ, phụ cấp thâm niên vượt khung, phụ cấp thâm niên nghề (nếu có). Tiền lương này được tính trên mức lương cơ sở tại thời điểm tính mức bình quân tiền lương tháng đóng bảo hiểm xã hội.\n",
      "2. Mức bình quân tiền lương tháng đóng bảo hiểm xã hội đối với người lao động có toàn bộ thời gian đóng bảo hiểm xã hội theo chế độ tiền lương do người sử dụng lao động quyết định quy định tại khoản 2 Điều 62 của Luật bảo hiểm xã hội và khoản 2 Điều 9 Nghị định số 115/2015/NĐ-CP được hướng dẫn như sau:\n",
      "Mbqtl\n",
      "=\n",
      "Tổng số tiền lương tháng đóng bảo hiểm xã hội của các tháng đóng bảo hiểm xã hội\n",
      "Tổng số tháng đóng bảo hiểm xã hội\n",
      "Trong đó:\n",
      "Mbqtl: mức bình quân tiền lương tháng đóng bảo hiểm xã hội.\n",
      "Tiền lương tháng đóng bảo hiểm xã hội là tiền lương tháng đã đóng bảo hiểm xã hội được điều chỉnh theo quy định tại khoản 2 Điều 63 của Luật bảo hiểm xã hội và khoản 2 Điều 10 Nghị định số 115/2015/NĐ-CP.\n",
      "3. Mức bình quân tiền lương tháng đóng bảo hiểm xã hội đối với người lao động vừa có thời gian đóng bảo hiểm xã hội thuộc đối tượng thực hiện chế độ tiền lương do Nhà nước quy định, vừa có thời gian đóng bảo hiểm xã hội theo chế độ tiền lương do người sử dụng lao động quyết định theo khoản 3 Điều 62 của Luật bảo hiểm xã hội và khoản 3 Điều 9 Nghị định số 115/2015/NĐ-CP được hướng dẫn như sau:\n",
      "Mbqtl\n",
      "=\n",
      "Tổng số tiền lương tháng đóng bảo hiểm xã hội theo chế độ tiền lương do Nhà nước quy định\n",
      "+\n",
      "Tổng số tiền lương tháng đóng bảo hiểm xã hội của các tháng đóng bảo hiểm xã hội theo chế độ tiền lương cho người sử dụng lao động quyết định\n",
      "Tổng số tháng đóng bảo hiểm xã hội\n",
      "Trong đó:\n",
      "a) Tổng số tiền lương tháng đóng bảo hiểm xã hội theo chế độ tiền lương do Nhà nước quy định được tính bằng tích số giữa tổng số tháng đóng bảo hiểm xã hội theo chế độ tiền lương do Nhà nước quy định với mức bình quân tiền lương tháng đóng bảo hiểm xã hội.\n",
      "Mức bình quân tiền lương tháng đóng bảo hiểm xã hội được tính theo quy định tại khoản 1 Điều này.\n",
      "b) Trường hợp người lao động có từ 2 giai đoạn trở lên thuộc đối tượng thực hiện chế độ tiền lương do Nhà nước quy định thì tổng số tiền lương tháng đóng bảo hiểm xã hội theo chế độ tiền lương do Nhà nước quy định được tính như điểm a khoản này. Trong đó, tổng số tháng đóng bảo hiểm xã hội theo chế độ tiền lương do Nhà nước quy định là tổng số các tháng đóng bảo hiểm xã hội theo chế độ tiền lương do Nhà nước quy định của các giai đoạn.\n",
      "Ví dụ 36: Ông Q nghỉ việc hưởng lương hưu khi đủ 60 tuổi, có 23 năm 9 tháng đóng bảo hiểm xã hội. Diễn biến thời gian đóng bảo hiểm xã hội của ông Q như sau:\n",
      "- Từ tháng 01/1990 đến tháng 12/1996 (7 năm) đóng bảo hiểm xã hội theo chế độ tiền lương do Nhà nước quy định.\n",
      "- Từ tháng 01/1997 đến tháng 9/2006 (9 năm 9 tháng) đóng bảo hiểm xã hội theo chế độ tiền lương do người sử dụng lao động quyết định.\n",
      "- Từ tháng 10/2009 đến tháng 9/2016 (7 năm) đóng bảo hiểm xã hội theo chế độ tiền lương do Nhà nước quy định.\n",
      "Ông Q hưởng lương hưu từ tháng 10/2016.\n",
      "Tổng số tiền lương tháng đóng bảo hiểm xã hội theo chế độ tiền lương do Nhà nước quy định của ông Q được tính theo điểm b nêu trên như sau:\n",
      "- Tổng số tháng đóng bảo hiểm xã hội theo chế độ tiền lương do Nhà nước quy định là: 7 năm + 7 năm =14 năm (168 tháng).\n",
      "- Mức bình quân tiền lương tháng đóng bảo hiểm xã hội theo chế độ tiền lương do Nhà nước quy định của ông Q được tính như sau:\n",
      "Mbqtl\n",
      "=\n",
      "Tổng số tiền lương tháng đóng bảo hiểm xã hội của 5 năm cuối đóng bảo hiểm xã hội theo chế độ tiền lương do Nhà nước quy định (tính từ tháng 10/2011 đến tháng 9/2016)\n",
      "60 tháng\n",
      "- Vậy, tổng số tiền lương tháng đóng bảo hiểm xã hội theo chế độ tiền lương do Nhà nước quy định của ông Q được tính là: 168 tháng x Mbqtl\n",
      "Ví dụ 37: Ông T nghỉ việc hưởng lương hưu khi đủ 60 tuổi, có 22 năm đóng bảo hiểm xã hội. Diễn biến thời gian đóng bảo hiểm xã hội của ông T như sau:\n",
      "- Từ tháng 01/1996 đến tháng 12/2002 (7 năm) đóng bảo hiểm xã hội theo chế độ tiền lương do Nhà nước quy định.\n",
      "- Từ tháng 01/2003 đến tháng 12/2013 (11 năm) đóng bảo hiểm xã hội theo chế độ tiền lương do người sử dụng lao động quyết định.\n",
      "- Từ tháng 01/2014 đến tháng 12/2017 (4 năm) đóng bảo hiểm xã hội theo chế độ tiền lương do Nhà nước quy định.\n",
      "Ông T hưởng lương hưu từ tháng 01/2018.\n",
      "Tổng số tiền lương tháng đóng bảo hiểm xã hội theo chế độ tiền lương do Nhà nước quy định của ông T được tính như sau:\n",
      "- Tổng số tháng đóng bảo hiểm xã hội theo chế độ tiền lương do Nhà nước quy định là: 7 năm + 4 năm =11 năm (132 tháng).\n",
      "- Mức bình quân tiền lương tháng đóng bảo hiểm xã hội theo chế độ tiền lương do Nhà nước quy định của ông T được tính như sau:\n",
      "Mbqtl\n",
      "=\n",
      "Tổng số tiền lương tháng đóng bảo hiểm xã hội của 6 năm cuối đóng bảo hiểm xã hội theo chế độ tiền lương do Nhà nước quy định (24 tháng tính từ tháng 01/2001 đến tháng 12/2002 cộng 48 tháng tính từ tháng 01/2014 đến tháng 12/2017)\n",
      "72 tháng\n",
      "- Vậy, tổng số tiền lương tháng đóng bảo hiểm xã hội theo chế độ tiền lương do Nhà nước quy định của ông T được tính là: 132 tháng x Mbqtl.\n",
      "4. Lương hưu của người lao động thuộc đối tượng thực hiện chế độ tiền lương do Nhà nước quy định đã đóng bảo hiểm xã hội bao gồm phụ cấp thâm niên nghề sau đó chuyển sang ngành nghề có hoặc không có phụ cấp thâm niên nghề rồi mới nghỉ hưu, được thực hiện theo quy định tại khoản 6 Điều 9 của Nghị định số 115/2015/NĐ-CP và được hướng dẫn cụ thể như sau:\n",
      "a) Trường hợp người lao động thuộc đối tượng thực hiện chế độ tiền lương do Nhà nước quy định đã đóng bảo hiểm xã hội bao gồm phụ cấp thâm niên nghề sau đó chuyển sang ngành nghề không có phụ cấp thâm niên nghề và trong tiền lương tháng đóng bảo hiểm xã hội làm căn cứ tính lương hưu không có phụ cấp thâm niên nghề thì được lấy mức bình quân tiền lương tháng làm căn cứ đóng bảo hiểm xã hội tại thời điểm nghỉ hưu, cộng thêm khoản phụ cấp thâm niên nghề cao nhất (nếu đã được hưởng) tính theo thời gian đã đóng bảo hiểm xã hội bao gồm phụ cấp thâm niên nghề, được chuyển đổi theo chế độ tiền lương quy định tại thời điểm nghỉ hưu để làm cơ sở tính lương hưu.\n",
      "Ví dụ 38: Ông H, là Chánh Văn phòng Bộ, nghỉ việc hưởng chế độ hưu trí kể từ ngày 01/4/2016; có tổng thời gian đóng bảo hiểm xã hội là 30 năm. Trước khi chuyển sang làm Chánh Văn phòng Bộ, ông H là kiểm sát viên Viện Kiểm sát nhân dân, có 14 năm được tính thâm niên nghề với hệ số lương là 5,08. Ông H có diễn biến tiền lương đóng bảo hiểm xã hội 5 năm cuối như sau (giả sử tiền lương cơ sở tại thời điểm tháng 4/2016 là 1.150.000 đồng/tháng).\n",
      "- Từ tháng 4/2011 đến tháng 3/2014 = 36 tháng, hệ số lương là 6,2:\n",
      "1.150.000 đồng x 6,2 x 36 tháng = 256.680.000 đồng.\n",
      "- Từ tháng 4/2014 đến tháng 3/2016 = 24 tháng, hệ số lương là 6,56:\n",
      "1.150.000 đồng x 6,56 x 24 tháng = 181.056.000 đồng.\n",
      "- Mức bình quân tiền lương tháng đóng bảo hiểm xã hội 5 năm cuối để làm cơ sở tính lương hưu của ông H là:\n",
      "(256.680.000 đồng + 181.056.000 đồng)\n",
      "= 7.295.600 đồng/tháng.\n",
      "60 tháng\n",
      "- Phụ cấp thâm niên nghề của ông H trước khi chuyển sang Bộ Lao động - Thương binh và Xã hội được cộng vào mức bình quân tiền lương tháng làm cơ sở tính lương hưu như sau:\n",
      "Ông H có hệ số lương trước khi chuyển sang Bộ Lao động - Thương binh và Xã hội bằng 5,08; phụ cấp thâm niên nghề được tính là 14%:\n",
      "1.150.000 đồng x 5,08 x 14% = 817.880 đồng.\n",
      "- Mức bình quân tiền lương tháng đóng bảo hiểm xã hội để làm cơ sở tính lương hưu là:\n",
      "7.295.600 đồng + 817.880 đồng = 8.113.480 đồng.\n",
      "- Lương hưu hằng tháng của ông H là:\n",
      "8.113.480 đồng x 75% = 6.085.110 đồng/tháng.\n",
      "b) Trường hợp người lao động thuộc đối tượng thực hiện chế độ tiền lương do Nhà nước quy định đã đóng bảo hiểm xã hội bao gồm phụ cấp thâm niên nghề sau đó chuyển sang ngành nghề được hưởng phụ cấp thâm niên nghề và trong tiền lương tháng đóng bảo hiểm xã hội làm căn cứ tính lương hưu đã có phụ cấp thâm niên nghề thì mức bình quân tiền lương tháng đóng bảo hiểm xã hội để tính lương hưu thực hiện theo quy định tại khoản 1 Điều 9 Nghị định số 115/2015/NĐ-CP và khoản 1 Điều này.\n",
      "Ví dụ 39: Ông M nguyên là công chức Hải quan, chuyển sang làm kiểm sát viên Viện Kiểm sát nhân dân, nghỉ việc hưởng chế độ hưu trí kể từ ngày 01/4/2016; có tổng thời gian đóng bảo hiểm xã hội là 27 năm, trong đó 11 năm được tính thâm niên nhà giáo, 16 năm thâm niên ngành kiểm sát. Ông M có diễn biến tiền lương đóng bảo hiểm xã hội 5 năm cuối như sau (giả sử tiền lương cơ sở tại thời điểm tháng 4/2016 là 1.150.000 đồng/tháng).\n",
      "- Từ tháng 4/2011 đến tháng 3/2014 = 36 tháng, hệ số lương là 5,76; thâm niên nghề là 25 %:\n",
      "1.150.000 đồng x 5,76 x 1,25 x 36 tháng = 298.080.000 đồng.\n",
      "- Từ tháng 4/2014 đến tháng 3/2016 = 24 tháng, hệ số lương là 6,10; thâm niên nghề là 27 %:\n",
      "1.150.000 đồng x 6,10 x 1,27 x 24 tháng = 213.817.200 đồng.\n",
      "- Mức bình quân tiền lương tháng đóng bảo hiểm xã hội 5 năm cuối để làm cơ sở tính lương hưu của ông M là:\n",
      "359.931.600 đồng + 256.365.360 đồng\n",
      "= 8.531.620 đồng/tháng.\n",
      "60 tháng\n",
      "- Lương hưu hằng tháng của ông M là:\n",
      "8.531.620 đồng/tháng x 69% = 5.886.818 đồng/tháng.\n",
      "c) Trường hợp người lao động thuộc đối tượng thực hiện chế độ tiền lương do Nhà nước quy định đã đóng bảo hiểm xã hội bao gồm phụ cấp thâm niên nghề sau đó chuyển sang các ngành nghề không được hưởng phụ cấp thâm niên nghề và trong tiền lương tháng đóng bảo hiểm xã hội không có phụ cấp thâm niên nghề, sau đó lại chuyển sang các ngành nghề được hưởng phụ cấp thâm niên nghề và trong tiền lương tháng đóng bảo hiểm xã hội có phụ cấp thâm niên nghề, hoặc ngược lại thì căn cứ vào ngành nghề cuối cùng trước khi nghỉ hưu (ngành nghề có được hưởng phụ cấp thâm niên nghề hoặc ngành nghề không được hưởng phụ cấp thâm niên nghề) để tính mức lương hưu theo điểm a hoặc điểm b khoản này.\n",
      "d) Trường hợp người lao động thuộc đối tượng thực hiện chế độ tiền lương do Nhà nước quy định đã đóng bảo hiểm xã hội bao gồm phụ cấp thâm niên nghề sau đó chuyển sang các ngành nghề có hoặc không có phụ cấp thâm niên nghề, khi nghỉ hưu trong tiền lương tháng đóng bảo hiểm xã hội của những năm cuối để tính lương hưu có thời gian đóng có phụ cấp thâm niên nghề có thời gian đóng không có phụ cấp thâm niên nghề, nếu mức lương hưu tính theo điểm b khoản này thấp hơn thì được lấy tiền lương tháng đóng bảo hiểm xã hội bao gồm phụ cấp thâm niên liền kề trước đó tương ứng với số năm quy định tại khoản 1 Điều này, được chuyển đổi theo chế độ tiền lương quy định tại thời điểm nghỉ hưu để tính mức bình quân tiền lương tháng đóng bảo hiểm xã hội.\n",
      "Ví dụ 40: Ông P, nguyên là công chức Hải quan, có 27 năm được tính thâm niên nghề, tháng 4/2013 chuyển sang làm Chuyên viên thuộc Bộ Lao động - Thương binh và Xã hội, nghỉ việc hưởng chế độ hưu trí kể từ ngày 01/4/2016; có tổng thời gian đóng bảo hiểm xã hội là 30 năm. Ông P có diễn biến tiền lương đóng bảo hiểm xã hội một số năm cuối trước khi nghỉ hưu như sau (giả sử tiền lương cơ sở tại thời điểm tháng 4/2016 là 1.150.000 đồng/tháng).\n",
      "- Từ tháng 4/2008 đến tháng 3/2010 = 24 tháng, hệ số lương là 6,2, phụ cấp thâm niên nghề được tính là 24%;\n",
      "- Từ tháng 4/2010 đến tháng 3/2013 = 36 tháng, hệ số lương là 6,56, phụ cấp thâm niên nghề được tính là 27%;\n",
      "- Từ tháng 4/2013 đến tháng 3/2016 = 36 tháng, hệ số lương là 6,92, không có phụ cấp thâm niên.\n",
      "Trường hợp ông P mức lương hưu tính theo số năm cuối trước khi nghỉ hưu thấp hơn so với mức lương hưu tính theo số năm trước đó có hưởng phụ cấp thâm niên. Do vậy, mức bình quân tiền lương tháng để tính lương hưu của ông P được tính như sau:\n",
      "- Từ tháng 4/2008 đến tháng 3/2010 = 24 tháng, hệ số lương là 6,2, phụ cấp thâm niên nghề được tính là 24%:\n",
      "1.150.000 đồng x 6,56 x 24 tháng x 1,24 = 212.188.800 đồng.\n",
      "- Từ tháng 4/2010 đến tháng 3/2013 = 36 tháng, hệ số lương là 6,56, phụ cấp thâm niên nghề được tính là 27%:\n",
      "1.150.000 đồng x 6,56 x 36 tháng x 1,27 = 344.911.680 đồng.\n",
      "- Mức bình quân tiền lương tháng đóng bảo hiểm xã hội để làm cơ sở tính lương hưu của ông P là:\n",
      "212.188.800 đồng + 344.911.680 đồng\n",
      "= 9.285.008 đồng/tháng.\n",
      "60 tháng\n",
      "- Lương hưu hằng tháng của ông P là:\n",
      "9.285.008 đồng x 75% = 6.963.756 đồng/tháng.\n",
      "(Nếu tính theo số năm cuối trước khi nghỉ hưu thì mức lương hưu của ông P là 6.455.364 đồng/tháng).\n",
      "e) Trường hợp người lao động không thực sự đóng vào quỹ bảo hiểm xã hội bao gồm phụ cấp thâm niên nghề thì không thuộc diện áp dụng quy định tại khoản 6 Điều 9 của Nghị định số 115/2015/NĐ-CP và quy định tại khoản này để tính lương hưu.\n",
      "5. Thời gian đóng bảo hiểm xã hội của người hoạt động không chuyên trách ở xã, phường, thị trấn; thời gian đóng bảo hiểm xã hội theo Nghị định số 09/1998/NĐ-CP ngày 23 tháng 01 năm 1998 của Chính phủ sửa đổi, bổ sung Nghị định số 50/CP ngày 26 tháng 7 năm 1995 của Chính phủ về chế độ sinh hoạt phí đối với cán bộ xã, phường, thị trấn (sau đây được viết là Nghị định số 09/1998/NĐ-CP); thời gian công tác ở cấp xã đã được tính hưởng bảo hiểm xã hội, được tính là thời gian đóng bảo hiểm xã hội theo chế độ tiền lương do nhà nước quy định để làm cơ sở tính mức bình quân tiền lương tháng đóng bảo hiểm xã hội.\n"
     ]
    }
   ],
   "source": [
    "cauhoi = \"Nghỉ việc có được hưởng lương tháng cuối không?\"\n",
    "print(cauhoi)\n",
    "result = predict_one(cauhoi)\n",
    "for r in result['metadatas']:\n",
    "    print(r)\n",
    "    content = engines[r['law_id']].query(node_type=r['node_type'], node_id = r['node_id'])[0].content\n",
    "    print(content)"
   ]
  },
  {
   "cell_type": "code",
   "execution_count": 7,
   "metadata": {},
   "outputs": [],
   "source": [
    "# rr= run(False)\n",
    "# rr['name'] = 'tdidf'\n",
    "# run_results.append(rr)\n",
    "# rr= run(True)\n",
    "# rr['name'] = 'tdidf_ws'\n",
    "# run_results.append(rr)"
   ]
  },
  {
   "attachments": {},
   "cell_type": "markdown",
   "metadata": {},
   "source": [
    "# BM 25"
   ]
  },
  {
   "cell_type": "code",
   "execution_count": 8,
   "metadata": {},
   "outputs": [],
   "source": [
    "from rank_bm25 import BM25Okapi\n",
    "\n",
    "def run_bm25(word_segmentation,bm25_algo):\n",
    "    docs= [format_text(doc,word_segmentation) for doc in documents]\n",
    "    tokenized_corpus = [doc.split(\" \") for doc in docs]\n",
    "    bm25 = bm25_algo(tokenized_corpus)\n",
    "    to_run = len(qa_df)\n",
    "    acc ={}\n",
    "    for k in topk:\n",
    "        acc[k] = 0\n",
    "    for i in tqdm(range(to_run)):\n",
    "        row = qa_df.iloc[i]\n",
    "        query = row['cauhoi']\n",
    "        query = format_text(query,word_segmentation)\n",
    "        tokenized_query = query.split(\" \")\n",
    "        doc_scores = bm25.get_scores(tokenized_query)\n",
    "        result = { 'metadatas':[]}\n",
    "        for j in doc_scores.argsort()[:-topk[-1]-1:-1]:\n",
    "            result['metadatas'].append(metadatas[j])\n",
    "        for k in topk:\n",
    "            if all(r in result['metadatas'][:k] for r in row['new_answers']):\n",
    "                acc[k] += 1\n",
    "    for k in topk:\n",
    "        acc[k] /= to_run\n",
    "    print(acc)\n",
    "    return acc"
   ]
  },
  {
   "cell_type": "code",
   "execution_count": 9,
   "metadata": {},
   "outputs": [],
   "source": [
    "# print(\"BM25Okapi\")\n",
    "# rr=run_bm25(False,BM25Okapi)\n",
    "# rr['name'] = 'bm25'\n",
    "# run_results.append(rr)\n",
    "# rr=run_bm25(True,BM25Okapi)\n",
    "# rr['name'] = 'bm25_ws'\n",
    "# run_results.append(rr)"
   ]
  },
  {
   "attachments": {},
   "cell_type": "markdown",
   "metadata": {},
   "source": [
    "# Chroma DB"
   ]
  },
  {
   "attachments": {},
   "cell_type": "markdown",
   "metadata": {},
   "source": [
    "## WITH  Instructor Embedding"
   ]
  },
  {
   "cell_type": "code",
   "execution_count": 13,
   "metadata": {},
   "outputs": [
    {
     "ename": "OSError",
     "evalue": "[WinError 127] The specified procedure could not be found. Error loading \"c:\\Users\\ngoph\\.conda\\envs\\me\\lib\\site-packages\\torch\\lib\\nvfuser_codegen.dll\" or one of its dependencies.",
     "output_type": "error",
     "traceback": [
      "\u001b[1;31m---------------------------------------------------------------------------\u001b[0m",
      "\u001b[1;31mOSError\u001b[0m                                   Traceback (most recent call last)",
      "Cell \u001b[1;32mIn[13], line 4\u001b[0m\n\u001b[0;32m      2\u001b[0m \u001b[39mfrom\u001b[39;00m \u001b[39mchromadb\u001b[39;00m\u001b[39m.\u001b[39;00m\u001b[39mconfig\u001b[39;00m \u001b[39mimport\u001b[39;00m Settings\n\u001b[0;32m      3\u001b[0m \u001b[39mfrom\u001b[39;00m \u001b[39mchromadb\u001b[39;00m\u001b[39m.\u001b[39;00m\u001b[39mutils\u001b[39;00m \u001b[39mimport\u001b[39;00m embedding_functions\n\u001b[1;32m----> 4\u001b[0m \u001b[39mfrom\u001b[39;00m \u001b[39mInstructorEmbedding\u001b[39;00m \u001b[39mimport\u001b[39;00m INSTRUCTOR\n",
      "File \u001b[1;32mc:\\Users\\ngoph\\.conda\\envs\\me\\lib\\site-packages\\InstructorEmbedding\\__init__.py:1\u001b[0m\n\u001b[1;32m----> 1\u001b[0m \u001b[39mfrom\u001b[39;00m \u001b[39m.\u001b[39;00m\u001b[39minstructor\u001b[39;00m \u001b[39mimport\u001b[39;00m \u001b[39m*\u001b[39m\n",
      "File \u001b[1;32mc:\\Users\\ngoph\\.conda\\envs\\me\\lib\\site-packages\\InstructorEmbedding\\instructor.py:2\u001b[0m\n\u001b[0;32m      1\u001b[0m \u001b[39m# This script is based on the modifications from https://github.com/UKPLab/sentence-transformers\u001b[39;00m\n\u001b[1;32m----> 2\u001b[0m \u001b[39mimport\u001b[39;00m \u001b[39mtorch\u001b[39;00m\n\u001b[0;32m      3\u001b[0m \u001b[39mimport\u001b[39;00m \u001b[39mos\u001b[39;00m\n\u001b[0;32m      4\u001b[0m \u001b[39mimport\u001b[39;00m \u001b[39mjson\u001b[39;00m\n",
      "File \u001b[1;32mc:\\Users\\ngoph\\.conda\\envs\\me\\lib\\site-packages\\torch\\__init__.py:122\u001b[0m\n\u001b[0;32m    120\u001b[0m     err \u001b[39m=\u001b[39m ctypes\u001b[39m.\u001b[39mWinError(last_error)\n\u001b[0;32m    121\u001b[0m     err\u001b[39m.\u001b[39mstrerror \u001b[39m+\u001b[39m\u001b[39m=\u001b[39m \u001b[39mf\u001b[39m\u001b[39m'\u001b[39m\u001b[39m Error loading \u001b[39m\u001b[39m\"\u001b[39m\u001b[39m{\u001b[39;00mdll\u001b[39m}\u001b[39;00m\u001b[39m\"\u001b[39m\u001b[39m or one of its dependencies.\u001b[39m\u001b[39m'\u001b[39m\n\u001b[1;32m--> 122\u001b[0m     \u001b[39mraise\u001b[39;00m err\n\u001b[0;32m    123\u001b[0m \u001b[39melif\u001b[39;00m res \u001b[39mis\u001b[39;00m \u001b[39mnot\u001b[39;00m \u001b[39mNone\u001b[39;00m:\n\u001b[0;32m    124\u001b[0m     is_loaded \u001b[39m=\u001b[39m \u001b[39mTrue\u001b[39;00m\n",
      "\u001b[1;31mOSError\u001b[0m: [WinError 127] The specified procedure could not be found. Error loading \"c:\\Users\\ngoph\\.conda\\envs\\me\\lib\\site-packages\\torch\\lib\\nvfuser_codegen.dll\" or one of its dependencies."
     ]
    }
   ],
   "source": [
    "import chromadb\n",
    "from chromadb.config import Settings\n",
    "from chromadb.utils import embedding_functions\n",
    "from InstructorEmbedding import INSTRUCTOR"
   ]
  },
  {
   "cell_type": "code",
   "execution_count": null,
   "metadata": {},
   "outputs": [],
   "source": [
    "def metadata_compare(item,list):\n",
    "    for i in list:\n",
    "        if i['law_id'] == item['law_id'] and i['node_type'] == item['node_type'] and i['node_id'] == item['node_id']:\n",
    "            return True\n",
    "    return False\n",
    "\n",
    "def run_instructor(model_name):\n",
    "    model = INSTRUCTOR(model_name)\n",
    "    instructor_for_q = 'Represent the legal question for retrieving evidence documents:'\n",
    "    instructor_for_r = 'Represent the legal document for retrieval:'\n",
    "    texts_with_instructions = []\n",
    "    for doc in documents:\n",
    "        texts_with_instructions.append([instructor_for_r,doc])\n",
    "    chroma_client = chromadb.Client(Settings(chroma_api_impl=\"rest\",\n",
    "                                        chroma_server_host=\"localhost\",\n",
    "                                        chroma_server_http_port=\"8000\",\n",
    "                                        chroma_server_ssl_enabled=False\n",
    "                                        ))\n",
    "    chroma_client.reset()\n",
    "    collection = chroma_client.get_or_create_collection(name=\"law_documents\")\n",
    "    embeddings = model.encode(texts_with_instructions,show_progress_bar=True).tolist()\n",
    "    collection.add(\n",
    "        embeddings=embeddings,\n",
    "        documents=documents,\n",
    "        metadatas=metadatas,\n",
    "        ids=ids\n",
    "    )\n",
    "\n",
    "    to_run = len(qa_df)\n",
    "    acc ={}\n",
    "    for k in topk:\n",
    "        acc[k] = 0\n",
    "    print(\"Number of questions:\",to_run)\n",
    "    best = []\n",
    "    for i in tqdm(range(to_run)):\n",
    "        row = qa_df.iloc[i]\n",
    "        question = row['cauhoi']\n",
    "        query_embeddings = model.encode([[instructor_for_q,question]],show_progress_bar=False).tolist()\n",
    "        result = collection.query(query_embeddings=query_embeddings, n_results=topk[-1],include=[\"metadatas\"])\n",
    "        for k in topk:\n",
    "            if all(metadata_compare(r,result['metadatas'][0][:k]) for r in row['new_answers']):\n",
    "                acc[k] += 1\n",
    "                if k==5:\n",
    "                    best.append(row)\n",
    "        if len(best)>10:\n",
    "            break\n",
    "    for k in topk:\n",
    "        acc[k] /= to_run\n",
    "    print(acc)\n",
    "    return acc,best"
   ]
  },
  {
   "cell_type": "code",
   "execution_count": null,
   "metadata": {},
   "outputs": [
    {
     "name": "stdout",
     "output_type": "stream",
     "text": [
      "load INSTRUCTOR_Transformer\n",
      "max_seq_length  512\n"
     ]
    },
    {
     "name": "stderr",
     "output_type": "stream",
     "text": [
      "Batches: 100%|██████████| 28/28 [00:22<00:00,  1.24it/s]\n"
     ]
    },
    {
     "name": "stdout",
     "output_type": "stream",
     "text": [
      "Number of questions: 4205\n"
     ]
    },
    {
     "name": "stderr",
     "output_type": "stream",
     "text": [
      "  1%|▏         | 60/4205 [00:02<02:30, 27.54it/s]"
     ]
    },
    {
     "name": "stdout",
     "output_type": "stream",
     "text": [
      "{5: 0.002615933412604043, 10: 0.0030915576694411414, 20: 0.0047562425683709865, 50: 0.006183115338882283}\n"
     ]
    },
    {
     "name": "stderr",
     "output_type": "stream",
     "text": [
      "\n"
     ]
    }
   ],
   "source": [
    "# rr=run_instructor('hkunlp/instructor-base')\n",
    "# rr['name'] = 'instructor-base'\n",
    "# run_results.append(rr)\n",
    "# rr=run_instructor('hkunlp/instructor-large')\n",
    "# rr['name'] = 'instructor-large'\n",
    "# run_results.append(rr)\n",
    "# rr=run_instructor('hkunlp/instructor-xl')\n",
    "# rr['name'] = 'instructor-xl'\n",
    "# run_results.append(rr)\n",
    "\n",
    "\n",
    "# rr,best=run_instructor('C:/Users/ngoph/Desktop/luanvan/model')\n",
    "# rr['name'] = 'instructor-base finetune'\n",
    "# run_results.append(rr)\n",
    "\n",
    "rr,best=run_instructor('C:/Users/ngoph/Desktop/luanvan/stage2model')\n",
    "# rr['name'] = 'instructor-base finetune'\n",
    "# run_results.append(rr)"
   ]
  },
  {
   "cell_type": "code",
   "execution_count": null,
   "metadata": {},
   "outputs": [],
   "source": [
    "df = pd.DataFrame(best)\n",
    "df.to_json('best.jsonl',orient='records',lines=True)"
   ]
  },
  {
   "attachments": {},
   "cell_type": "markdown",
   "metadata": {},
   "source": [
    "# save result"
   ]
  },
  {
   "cell_type": "code",
   "execution_count": null,
   "metadata": {},
   "outputs": [
    {
     "ename": "KeyError",
     "evalue": "\"None of [Index(['Name', 'Top_5@acc', 'Top_10@acc', 'Top_20@acc', 'Top_50@acc'], dtype='object')] are in the [columns]\"",
     "output_type": "error",
     "traceback": [
      "\u001b[1;31m---------------------------------------------------------------------------\u001b[0m",
      "\u001b[1;31mKeyError\u001b[0m                                  Traceback (most recent call last)",
      "Cell \u001b[1;32mIn[14], line 12\u001b[0m\n\u001b[0;32m      5\u001b[0m result_df\u001b[39m.\u001b[39mrename(columns\u001b[39m=\u001b[39m{\u001b[39m'\u001b[39m\u001b[39mname\u001b[39m\u001b[39m'\u001b[39m: \u001b[39m'\u001b[39m\u001b[39mName\u001b[39m\u001b[39m'\u001b[39m,\n\u001b[0;32m      6\u001b[0m                             \u001b[39m'\u001b[39m\u001b[39mtop5\u001b[39m\u001b[39m'\u001b[39m: \u001b[39m'\u001b[39m\u001b[39mTop_5@acc\u001b[39m\u001b[39m'\u001b[39m,\n\u001b[0;32m      7\u001b[0m                             \u001b[39m'\u001b[39m\u001b[39mtop10\u001b[39m\u001b[39m'\u001b[39m: \u001b[39m'\u001b[39m\u001b[39mTop_10@acc\u001b[39m\u001b[39m'\u001b[39m,\n\u001b[0;32m      8\u001b[0m                             \u001b[39m'\u001b[39m\u001b[39mtop20\u001b[39m\u001b[39m'\u001b[39m: \u001b[39m'\u001b[39m\u001b[39mTop_20@acc\u001b[39m\u001b[39m'\u001b[39m,\n\u001b[0;32m      9\u001b[0m                             \u001b[39m'\u001b[39m\u001b[39mtop50\u001b[39m\u001b[39m'\u001b[39m: \u001b[39m'\u001b[39m\u001b[39mTop_50@acc\u001b[39m\u001b[39m'\u001b[39m,\n\u001b[0;32m     10\u001b[0m                           }, inplace\u001b[39m=\u001b[39m\u001b[39mTrue\u001b[39;00m)\n\u001b[0;32m     11\u001b[0m \u001b[39m# reorder\u001b[39;00m\n\u001b[1;32m---> 12\u001b[0m result_df \u001b[39m=\u001b[39m result_df[[\u001b[39m'\u001b[39;49m\u001b[39mName\u001b[39;49m\u001b[39m'\u001b[39;49m,\u001b[39m'\u001b[39;49m\u001b[39mTop_5@acc\u001b[39;49m\u001b[39m'\u001b[39;49m,\u001b[39m'\u001b[39;49m\u001b[39mTop_10@acc\u001b[39;49m\u001b[39m'\u001b[39;49m,\u001b[39m'\u001b[39;49m\u001b[39mTop_20@acc\u001b[39;49m\u001b[39m'\u001b[39;49m,\u001b[39m'\u001b[39;49m\u001b[39mTop_50@acc\u001b[39;49m\u001b[39m'\u001b[39;49m]]\n\u001b[0;32m     13\u001b[0m result_df \u001b[39m=\u001b[39m result_df\u001b[39m.\u001b[39mround(\u001b[39m4\u001b[39m)\n\u001b[0;32m     14\u001b[0m \u001b[39m# reoder row, ws after no ws\u001b[39;00m\n\u001b[0;32m     15\u001b[0m \u001b[39m# result_df = result_df.reindex([0,4,6,2,1,5,7,3,8,9,10])\u001b[39;00m\n\u001b[0;32m     16\u001b[0m \u001b[39m# result_df = result_df.reindex([0,2,1,3])\u001b[39;00m\n",
      "File \u001b[1;32m~\\AppData\\Roaming\\Python\\Python39\\site-packages\\pandas\\core\\frame.py:3813\u001b[0m, in \u001b[0;36mDataFrame.__getitem__\u001b[1;34m(self, key)\u001b[0m\n\u001b[0;32m   3811\u001b[0m     \u001b[39mif\u001b[39;00m is_iterator(key):\n\u001b[0;32m   3812\u001b[0m         key \u001b[39m=\u001b[39m \u001b[39mlist\u001b[39m(key)\n\u001b[1;32m-> 3813\u001b[0m     indexer \u001b[39m=\u001b[39m \u001b[39mself\u001b[39;49m\u001b[39m.\u001b[39;49mcolumns\u001b[39m.\u001b[39;49m_get_indexer_strict(key, \u001b[39m\"\u001b[39;49m\u001b[39mcolumns\u001b[39;49m\u001b[39m\"\u001b[39;49m)[\u001b[39m1\u001b[39m]\n\u001b[0;32m   3815\u001b[0m \u001b[39m# take() does not accept boolean indexers\u001b[39;00m\n\u001b[0;32m   3816\u001b[0m \u001b[39mif\u001b[39;00m \u001b[39mgetattr\u001b[39m(indexer, \u001b[39m\"\u001b[39m\u001b[39mdtype\u001b[39m\u001b[39m\"\u001b[39m, \u001b[39mNone\u001b[39;00m) \u001b[39m==\u001b[39m \u001b[39mbool\u001b[39m:\n",
      "File \u001b[1;32m~\\AppData\\Roaming\\Python\\Python39\\site-packages\\pandas\\core\\indexes\\base.py:6070\u001b[0m, in \u001b[0;36mIndex._get_indexer_strict\u001b[1;34m(self, key, axis_name)\u001b[0m\n\u001b[0;32m   6067\u001b[0m \u001b[39melse\u001b[39;00m:\n\u001b[0;32m   6068\u001b[0m     keyarr, indexer, new_indexer \u001b[39m=\u001b[39m \u001b[39mself\u001b[39m\u001b[39m.\u001b[39m_reindex_non_unique(keyarr)\n\u001b[1;32m-> 6070\u001b[0m \u001b[39mself\u001b[39;49m\u001b[39m.\u001b[39;49m_raise_if_missing(keyarr, indexer, axis_name)\n\u001b[0;32m   6072\u001b[0m keyarr \u001b[39m=\u001b[39m \u001b[39mself\u001b[39m\u001b[39m.\u001b[39mtake(indexer)\n\u001b[0;32m   6073\u001b[0m \u001b[39mif\u001b[39;00m \u001b[39misinstance\u001b[39m(key, Index):\n\u001b[0;32m   6074\u001b[0m     \u001b[39m# GH 42790 - Preserve name from an Index\u001b[39;00m\n",
      "File \u001b[1;32m~\\AppData\\Roaming\\Python\\Python39\\site-packages\\pandas\\core\\indexes\\base.py:6130\u001b[0m, in \u001b[0;36mIndex._raise_if_missing\u001b[1;34m(self, key, indexer, axis_name)\u001b[0m\n\u001b[0;32m   6128\u001b[0m     \u001b[39mif\u001b[39;00m use_interval_msg:\n\u001b[0;32m   6129\u001b[0m         key \u001b[39m=\u001b[39m \u001b[39mlist\u001b[39m(key)\n\u001b[1;32m-> 6130\u001b[0m     \u001b[39mraise\u001b[39;00m \u001b[39mKeyError\u001b[39;00m(\u001b[39mf\u001b[39m\u001b[39m\"\u001b[39m\u001b[39mNone of [\u001b[39m\u001b[39m{\u001b[39;00mkey\u001b[39m}\u001b[39;00m\u001b[39m] are in the [\u001b[39m\u001b[39m{\u001b[39;00maxis_name\u001b[39m}\u001b[39;00m\u001b[39m]\u001b[39m\u001b[39m\"\u001b[39m)\n\u001b[0;32m   6132\u001b[0m not_found \u001b[39m=\u001b[39m \u001b[39mlist\u001b[39m(ensure_index(key)[missing_mask\u001b[39m.\u001b[39mnonzero()[\u001b[39m0\u001b[39m]]\u001b[39m.\u001b[39munique())\n\u001b[0;32m   6133\u001b[0m \u001b[39mraise\u001b[39;00m \u001b[39mKeyError\u001b[39;00m(\u001b[39mf\u001b[39m\u001b[39m\"\u001b[39m\u001b[39m{\u001b[39;00mnot_found\u001b[39m}\u001b[39;00m\u001b[39m not in index\u001b[39m\u001b[39m\"\u001b[39m)\n",
      "\u001b[1;31mKeyError\u001b[0m: \"None of [Index(['Name', 'Top_5@acc', 'Top_10@acc', 'Top_20@acc', 'Top_50@acc'], dtype='object')] are in the [columns]\""
     ]
    }
   ],
   "source": [
    "result_df = pd.DataFrame(run_results)\n",
    "# rename col topk\n",
    "for k in topk:\n",
    "    result_df.rename(columns={k: 'top'+str(k)}, inplace=True)\n",
    "result_df.rename(columns={'name': 'Name',\n",
    "                            'top5': 'Top_5@acc',\n",
    "                            'top10': 'Top_10@acc',\n",
    "                            'top20': 'Top_20@acc',\n",
    "                            'top50': 'Top_50@acc',\n",
    "                          }, inplace=True)\n",
    "# reorder\n",
    "result_df = result_df[['Name','Top_5@acc','Top_10@acc','Top_20@acc','Top_50@acc']]\n",
    "result_df = result_df.round(4)\n",
    "# reoder row, ws after no ws\n",
    "# result_df = result_df.reindex([0,4,6,2,1,5,7,3,8,9,10])\n",
    "# result_df = result_df.reindex([0,2,1,3])\n",
    "result_df.to_csv('../document/data/retrieval_result.csv',index=False)\n",
    "# result_df.to_csv('retrieval_result_all.csv',index=False)\n",
    "result_df"
   ]
  }
 ],
 "metadata": {
  "kernelspec": {
   "display_name": "research",
   "language": "python",
   "name": "python3"
  },
  "language_info": {
   "codemirror_mode": {
    "name": "ipython",
    "version": 3
   },
   "file_extension": ".py",
   "mimetype": "text/x-python",
   "name": "python",
   "nbconvert_exporter": "python",
   "pygments_lexer": "ipython3",
   "version": "3.9.16"
  },
  "orig_nbformat": 4
 },
 "nbformat": 4,
 "nbformat_minor": 2
}
