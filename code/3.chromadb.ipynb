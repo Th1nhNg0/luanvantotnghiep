{
 "cells": [
  {
   "cell_type": "code",
   "execution_count": 2,
   "metadata": {},
   "outputs": [],
   "source": [
    "import json\n",
    "import lawquery\n",
    "import pandas as pd\n",
    "import os\n",
    "from tqdm import tqdm\n",
    "import numpy as np"
   ]
  },
  {
   "cell_type": "code",
   "execution_count": 3,
   "metadata": {},
   "outputs": [],
   "source": [
    "from langchain.text_splitter import RecursiveCharacterTextSplitter\n",
    "\n",
    "text_splitter = RecursiveCharacterTextSplitter(        \n",
    "    chunk_size = 3000,\n",
    "    chunk_overlap  = 0,\n",
    "    length_function = len,\n",
    ")"
   ]
  },
  {
   "attachments": {},
   "cell_type": "markdown",
   "metadata": {},
   "source": [
    "# Load data"
   ]
  },
  {
   "cell_type": "code",
   "execution_count": 4,
   "metadata": {},
   "outputs": [],
   "source": [
    "topk = [5,10,20,50]\n",
    "run_results = []"
   ]
  },
  {
   "cell_type": "code",
   "execution_count": 5,
   "metadata": {},
   "outputs": [
    {
     "name": "stdout",
     "output_type": "stream",
     "text": [
      "Number of engines: 15\n",
      "Number of documents: 875\n"
     ]
    }
   ],
   "source": [
    "engines = {}\n",
    "law_df = pd.read_csv('./documents/data.csv')\n",
    "for i in range(len(law_df)):\n",
    "    path = law_df['path'][i]\n",
    "    so_hieu_van_ban = law_df['so_hieu_van_ban'][i]\n",
    "    if so_hieu_van_ban not in engines:\n",
    "        engines[so_hieu_van_ban] = lawquery.Engine(\n",
    "            os.path.join('documents',path, 'tree.json.gz'),\n",
    "        )\n",
    "print(\"Number of engines:\",len(engines))\n",
    "\n",
    "\n",
    "documents = []\n",
    "metadatas = []\n",
    "ids = []\n",
    "\n",
    "for engine in engines:\n",
    "    results = engines[engine].query(node_type='điều')\n",
    "    for result in results:\n",
    "        for i,chunk in enumerate(text_splitter.split_text(result.content)):\n",
    "            documents.append(result.name+'\\n'+chunk)\n",
    "            metadatas.append({'law_id': engine, 'node_type': result.node_type, 'node_id': result.node_id,\n",
    "                              'tenvb':engines[engine].metadata['ten_van_ban']})\n",
    "            ids.append(result.id+str(i))\n",
    "\n",
    "qa_df = pd.read_json('./answers_filtered.jsonl', lines=True, orient='records')\n",
    "\n",
    "# take only use\n",
    "# for index, row in qa_df.iterrows():\n",
    "#     for answer in row['new_answers']:\n",
    "#         q = engines[answer['law_id']].query(node_type=answer['node_type'], node_id = answer['node_id'])\n",
    "#         if len(q)!=0:\n",
    "#             if q[0].id in ids:\n",
    "#                 continue\n",
    "#             documents.append(q[0].content)\n",
    "#             metadatas.append({'law_id': answer['law_id'], 'node_type': q[0].node_type, 'node_id': q[0].node_id})\n",
    "#             ids.append(q[0].id)\n",
    "print(\"Number of documents:\",len(documents))"
   ]
  },
  {
   "attachments": {},
   "cell_type": "markdown",
   "metadata": {},
   "source": [
    "# TDIDF"
   ]
  },
  {
   "cell_type": "code",
   "execution_count": 6,
   "metadata": {},
   "outputs": [],
   "source": [
    "from underthesea import text_normalize,word_tokenize\n",
    "from sklearn.feature_extraction.text import TfidfVectorizer\n",
    "from sklearn.metrics.pairwise import cosine_similarity\n",
    "import re\n",
    "import string\n",
    "def format_text(text,word_segmentation=False,remove_punctuation=False):\n",
    "    text = re.sub(r'\\s+', ' ', text)\n",
    "    text = text.strip()\n",
    "    text = text_normalize(text)\n",
    "    if remove_punctuation:\n",
    "        text = text.translate(str.maketrans('', '', string.punctuation))\n",
    "    if word_segmentation:\n",
    "        text = word_tokenize(text, format=\"text\")\n",
    "    return text"
   ]
  },
  {
   "cell_type": "code",
   "execution_count": 7,
   "metadata": {},
   "outputs": [],
   "source": [
    "def run(word_segmentation):\n",
    "    tdidf_docs= [format_text(doc,word_segmentation) for doc in documents]\n",
    "    tfidf = TfidfVectorizer()\n",
    "    tfidf_matrix = tfidf.fit_transform(tdidf_docs)\n",
    "    to_run = len(qa_df)\n",
    "    acc ={}\n",
    "    for k in topk:\n",
    "        acc[k] = 0\n",
    "    for i in tqdm(range(to_run)):\n",
    "        row = qa_df.iloc[i]\n",
    "        query = row['cauhoi']\n",
    "        query = format_text(query,word_segmentation)\n",
    "        query_vector = tfidf.transform([query])\n",
    "        cosine_similarities = cosine_similarity(query_vector, tfidf_matrix).flatten()\n",
    "        related_docs_indices = cosine_similarities.argsort()[:-topk[-1]-1:-1]\n",
    "        result = { 'metadatas':[]}\n",
    "        for j in related_docs_indices:\n",
    "            result['metadatas'].append(metadatas[j])\n",
    "        for k in topk:\n",
    "            if all(r in result['metadatas'][:k] for r in row['new_answers']):\n",
    "                acc[k] += 1\n",
    "    # print as table\n",
    "    for k in topk:\n",
    "        acc[k] /= to_run\n",
    "    print(acc)\n",
    "    return acc"
   ]
  },
  {
   "cell_type": "code",
   "execution_count": 8,
   "metadata": {},
   "outputs": [],
   "source": [
    "# rr= run(False)\n",
    "# rr['name'] = 'tdidf'\n",
    "# run_results.append(rr)\n",
    "# rr= run(True)\n",
    "# rr['name'] = 'tdidf_ws'\n",
    "# run_results.append(rr)"
   ]
  },
  {
   "attachments": {},
   "cell_type": "markdown",
   "metadata": {},
   "source": [
    "# BM 25"
   ]
  },
  {
   "cell_type": "code",
   "execution_count": 9,
   "metadata": {},
   "outputs": [],
   "source": [
    "from rank_bm25 import BM25Okapi\n",
    "\n",
    "def run_bm25(word_segmentation,bm25_algo):\n",
    "    docs= [format_text(doc,word_segmentation) for doc in documents]\n",
    "    tokenized_corpus = [doc.split(\" \") for doc in docs]\n",
    "    bm25 = bm25_algo(tokenized_corpus)\n",
    "    to_run = len(qa_df)\n",
    "    acc ={}\n",
    "    for k in topk:\n",
    "        acc[k] = 0\n",
    "    for i in tqdm(range(to_run)):\n",
    "        row = qa_df.iloc[i]\n",
    "        query = row['cauhoi']\n",
    "        query = format_text(query,word_segmentation)\n",
    "        tokenized_query = query.split(\" \")\n",
    "        doc_scores = bm25.get_scores(tokenized_query)\n",
    "        result = { 'metadatas':[]}\n",
    "        for j in doc_scores.argsort()[:-topk[-1]-1:-1]:\n",
    "            result['metadatas'].append(metadatas[j])\n",
    "        for k in topk:\n",
    "            if all(r in result['metadatas'][:k] for r in row['new_answers']):\n",
    "                acc[k] += 1\n",
    "    for k in topk:\n",
    "        acc[k] /= to_run\n",
    "    print(acc)\n",
    "    return acc"
   ]
  },
  {
   "cell_type": "code",
   "execution_count": 10,
   "metadata": {},
   "outputs": [],
   "source": [
    "# print(\"BM25Okapi\")\n",
    "# rr=run_bm25(False,BM25Okapi)\n",
    "# rr['name'] = 'bm25'\n",
    "# run_results.append(rr)\n",
    "# rr=run_bm25(True,BM25Okapi)\n",
    "# rr['name'] = 'bm25_ws'\n",
    "# run_results.append(rr)"
   ]
  },
  {
   "attachments": {},
   "cell_type": "markdown",
   "metadata": {},
   "source": [
    "# Chroma DB"
   ]
  },
  {
   "attachments": {},
   "cell_type": "markdown",
   "metadata": {},
   "source": [
    "## WITH  Instructor Embedding"
   ]
  },
  {
   "cell_type": "code",
   "execution_count": 11,
   "metadata": {},
   "outputs": [
    {
     "name": "stderr",
     "output_type": "stream",
     "text": [
      "c:\\Users\\ngoph\\.conda\\envs\\me\\lib\\site-packages\\InstructorEmbedding\\instructor.py:7: TqdmWarning: IProgress not found. Please update jupyter and ipywidgets. See https://ipywidgets.readthedocs.io/en/stable/user_install.html\n",
      "  from tqdm.autonotebook import trange\n"
     ]
    }
   ],
   "source": [
    "import chromadb\n",
    "from chromadb.config import Settings\n",
    "from chromadb.utils import embedding_functions\n",
    "from InstructorEmbedding import INSTRUCTOR"
   ]
  },
  {
   "cell_type": "code",
   "execution_count": 16,
   "metadata": {},
   "outputs": [],
   "source": [
    "def metadata_compare(item,list):\n",
    "    for i in list:\n",
    "        if i['law_id'] == item['law_id'] and i['node_type'] == item['node_type'] and i['node_id'] == item['node_id']:\n",
    "            return True\n",
    "    return False\n",
    "\n",
    "def run_instructor(model_name):\n",
    "    model = INSTRUCTOR(model_name)\n",
    "    instructor_for_q = 'Represent the legal question for retrieving evidence documents:'\n",
    "    instructor_for_r = 'Represent the legal document for retrieval:'\n",
    "    texts_with_instructions = []\n",
    "    for doc in documents:\n",
    "        texts_with_instructions.append([instructor_for_r,doc])\n",
    "    chroma_client = chromadb.Client(Settings(chroma_api_impl=\"rest\",\n",
    "                                        chroma_server_host=\"localhost\",\n",
    "                                        chroma_server_http_port=\"8000\",\n",
    "                                        chroma_server_ssl_enabled=False\n",
    "                                        ))\n",
    "    chroma_client.reset()\n",
    "    collection = chroma_client.get_or_create_collection(name=\"law_documents\")\n",
    "    embeddings = model.encode(texts_with_instructions,show_progress_bar=True).tolist()\n",
    "    collection.add(\n",
    "        embeddings=embeddings,\n",
    "        documents=documents,\n",
    "        metadatas=metadatas,\n",
    "        ids=ids\n",
    "    )\n",
    "\n",
    "    to_run = len(qa_df)\n",
    "    acc ={}\n",
    "    for k in topk:\n",
    "        acc[k] = 0\n",
    "    print(\"Number of questions:\",to_run)\n",
    "    best = []\n",
    "    for i in tqdm(range(to_run)):\n",
    "        row = qa_df.iloc[i]\n",
    "        question = row['cauhoi']\n",
    "        query_embeddings = model.encode([[instructor_for_q,question]],show_progress_bar=False).tolist()\n",
    "        result = collection.query(query_embeddings=query_embeddings, n_results=topk[-1],include=[\"metadatas\"])\n",
    "        for k in topk:\n",
    "            if all(metadata_compare(r,result['metadatas'][0][:k]) for r in row['new_answers']):\n",
    "                acc[k] += 1\n",
    "                if k==5:\n",
    "                    best.append(row)\n",
    "        if len(best)>10:\n",
    "            break\n",
    "    for k in topk:\n",
    "        acc[k] /= to_run\n",
    "    print(acc)\n",
    "    return acc,best"
   ]
  },
  {
   "cell_type": "code",
   "execution_count": 17,
   "metadata": {},
   "outputs": [
    {
     "name": "stdout",
     "output_type": "stream",
     "text": [
      "load INSTRUCTOR_Transformer\n",
      "max_seq_length  512\n"
     ]
    },
    {
     "name": "stderr",
     "output_type": "stream",
     "text": [
      "Batches: 100%|██████████| 28/28 [00:17<00:00,  1.58it/s]\n"
     ]
    },
    {
     "name": "stdout",
     "output_type": "stream",
     "text": [
      "Number of questions: 4205\n"
     ]
    },
    {
     "name": "stderr",
     "output_type": "stream",
     "text": [
      "  0%|          | 21/4205 [00:00<02:20, 29.81it/s]"
     ]
    },
    {
     "name": "stdout",
     "output_type": "stream",
     "text": [
      "{5: 0.002615933412604043, 10: 0.0035671819262782403, 20: 0.0035671819262782403, 50: 0.004042806183115339}\n"
     ]
    },
    {
     "name": "stderr",
     "output_type": "stream",
     "text": [
      "\n"
     ]
    }
   ],
   "source": [
    "# rr=run_instructor('hkunlp/instructor-base')\n",
    "# rr['name'] = 'instructor-base'\n",
    "# run_results.append(rr)\n",
    "# rr=run_instructor('hkunlp/instructor-large')\n",
    "# rr['name'] = 'instructor-large'\n",
    "# run_results.append(rr)\n",
    "# rr=run_instructor('hkunlp/instructor-xl')\n",
    "# rr['name'] = 'instructor-xl'\n",
    "# run_results.append(rr)\n",
    "\n",
    "\n",
    "rr,best=run_instructor('C:/Users/ngoph/Desktop/luanvan/model')\n",
    "# rr['name'] = 'instructor-base finetune'\n",
    "# run_results.append(rr)"
   ]
  },
  {
   "cell_type": "code",
   "execution_count": 21,
   "metadata": {},
   "outputs": [],
   "source": [
    "df = pd.DataFrame(best)\n",
    "df.to_json('best.jsonl',orient='records',lines=True)"
   ]
  },
  {
   "attachments": {},
   "cell_type": "markdown",
   "metadata": {},
   "source": [
    "# save result"
   ]
  },
  {
   "cell_type": "code",
   "execution_count": null,
   "metadata": {},
   "outputs": [
    {
     "ename": "KeyError",
     "evalue": "\"None of [Index(['Name', 'Top_5@acc', 'Top_10@acc', 'Top_20@acc', 'Top_50@acc'], dtype='object')] are in the [columns]\"",
     "output_type": "error",
     "traceback": [
      "\u001b[1;31m---------------------------------------------------------------------------\u001b[0m",
      "\u001b[1;31mKeyError\u001b[0m                                  Traceback (most recent call last)",
      "Cell \u001b[1;32mIn[52], line 12\u001b[0m\n\u001b[0;32m      5\u001b[0m result_df\u001b[39m.\u001b[39mrename(columns\u001b[39m=\u001b[39m{\u001b[39m'\u001b[39m\u001b[39mname\u001b[39m\u001b[39m'\u001b[39m: \u001b[39m'\u001b[39m\u001b[39mName\u001b[39m\u001b[39m'\u001b[39m,\n\u001b[0;32m      6\u001b[0m                             \u001b[39m'\u001b[39m\u001b[39mtop5\u001b[39m\u001b[39m'\u001b[39m: \u001b[39m'\u001b[39m\u001b[39mTop_5@acc\u001b[39m\u001b[39m'\u001b[39m,\n\u001b[0;32m      7\u001b[0m                             \u001b[39m'\u001b[39m\u001b[39mtop10\u001b[39m\u001b[39m'\u001b[39m: \u001b[39m'\u001b[39m\u001b[39mTop_10@acc\u001b[39m\u001b[39m'\u001b[39m,\n\u001b[0;32m      8\u001b[0m                             \u001b[39m'\u001b[39m\u001b[39mtop20\u001b[39m\u001b[39m'\u001b[39m: \u001b[39m'\u001b[39m\u001b[39mTop_20@acc\u001b[39m\u001b[39m'\u001b[39m,\n\u001b[0;32m      9\u001b[0m                             \u001b[39m'\u001b[39m\u001b[39mtop50\u001b[39m\u001b[39m'\u001b[39m: \u001b[39m'\u001b[39m\u001b[39mTop_50@acc\u001b[39m\u001b[39m'\u001b[39m,\n\u001b[0;32m     10\u001b[0m                           }, inplace\u001b[39m=\u001b[39m\u001b[39mTrue\u001b[39;00m)\n\u001b[0;32m     11\u001b[0m \u001b[39m# reorder\u001b[39;00m\n\u001b[1;32m---> 12\u001b[0m result_df \u001b[39m=\u001b[39m result_df[[\u001b[39m'\u001b[39;49m\u001b[39mName\u001b[39;49m\u001b[39m'\u001b[39;49m,\u001b[39m'\u001b[39;49m\u001b[39mTop_5@acc\u001b[39;49m\u001b[39m'\u001b[39;49m,\u001b[39m'\u001b[39;49m\u001b[39mTop_10@acc\u001b[39;49m\u001b[39m'\u001b[39;49m,\u001b[39m'\u001b[39;49m\u001b[39mTop_20@acc\u001b[39;49m\u001b[39m'\u001b[39;49m,\u001b[39m'\u001b[39;49m\u001b[39mTop_50@acc\u001b[39;49m\u001b[39m'\u001b[39;49m]]\n\u001b[0;32m     13\u001b[0m result_df \u001b[39m=\u001b[39m result_df\u001b[39m.\u001b[39mround(\u001b[39m4\u001b[39m)\n\u001b[0;32m     14\u001b[0m \u001b[39m# reoder row, ws after no ws\u001b[39;00m\n\u001b[0;32m     15\u001b[0m \u001b[39m# result_df = result_df.reindex([0,4,6,2,1,5,7,3,8,9,10])\u001b[39;00m\n\u001b[0;32m     16\u001b[0m \u001b[39m# result_df = result_df.reindex([0,2,1,3])\u001b[39;00m\n",
      "File \u001b[1;32m~\\AppData\\Roaming\\Python\\Python39\\site-packages\\pandas\\core\\frame.py:3813\u001b[0m, in \u001b[0;36mDataFrame.__getitem__\u001b[1;34m(self, key)\u001b[0m\n\u001b[0;32m   3811\u001b[0m     \u001b[39mif\u001b[39;00m is_iterator(key):\n\u001b[0;32m   3812\u001b[0m         key \u001b[39m=\u001b[39m \u001b[39mlist\u001b[39m(key)\n\u001b[1;32m-> 3813\u001b[0m     indexer \u001b[39m=\u001b[39m \u001b[39mself\u001b[39;49m\u001b[39m.\u001b[39;49mcolumns\u001b[39m.\u001b[39;49m_get_indexer_strict(key, \u001b[39m\"\u001b[39;49m\u001b[39mcolumns\u001b[39;49m\u001b[39m\"\u001b[39;49m)[\u001b[39m1\u001b[39m]\n\u001b[0;32m   3815\u001b[0m \u001b[39m# take() does not accept boolean indexers\u001b[39;00m\n\u001b[0;32m   3816\u001b[0m \u001b[39mif\u001b[39;00m \u001b[39mgetattr\u001b[39m(indexer, \u001b[39m\"\u001b[39m\u001b[39mdtype\u001b[39m\u001b[39m\"\u001b[39m, \u001b[39mNone\u001b[39;00m) \u001b[39m==\u001b[39m \u001b[39mbool\u001b[39m:\n",
      "File \u001b[1;32m~\\AppData\\Roaming\\Python\\Python39\\site-packages\\pandas\\core\\indexes\\base.py:6070\u001b[0m, in \u001b[0;36mIndex._get_indexer_strict\u001b[1;34m(self, key, axis_name)\u001b[0m\n\u001b[0;32m   6067\u001b[0m \u001b[39melse\u001b[39;00m:\n\u001b[0;32m   6068\u001b[0m     keyarr, indexer, new_indexer \u001b[39m=\u001b[39m \u001b[39mself\u001b[39m\u001b[39m.\u001b[39m_reindex_non_unique(keyarr)\n\u001b[1;32m-> 6070\u001b[0m \u001b[39mself\u001b[39;49m\u001b[39m.\u001b[39;49m_raise_if_missing(keyarr, indexer, axis_name)\n\u001b[0;32m   6072\u001b[0m keyarr \u001b[39m=\u001b[39m \u001b[39mself\u001b[39m\u001b[39m.\u001b[39mtake(indexer)\n\u001b[0;32m   6073\u001b[0m \u001b[39mif\u001b[39;00m \u001b[39misinstance\u001b[39m(key, Index):\n\u001b[0;32m   6074\u001b[0m     \u001b[39m# GH 42790 - Preserve name from an Index\u001b[39;00m\n",
      "File \u001b[1;32m~\\AppData\\Roaming\\Python\\Python39\\site-packages\\pandas\\core\\indexes\\base.py:6130\u001b[0m, in \u001b[0;36mIndex._raise_if_missing\u001b[1;34m(self, key, indexer, axis_name)\u001b[0m\n\u001b[0;32m   6128\u001b[0m     \u001b[39mif\u001b[39;00m use_interval_msg:\n\u001b[0;32m   6129\u001b[0m         key \u001b[39m=\u001b[39m \u001b[39mlist\u001b[39m(key)\n\u001b[1;32m-> 6130\u001b[0m     \u001b[39mraise\u001b[39;00m \u001b[39mKeyError\u001b[39;00m(\u001b[39mf\u001b[39m\u001b[39m\"\u001b[39m\u001b[39mNone of [\u001b[39m\u001b[39m{\u001b[39;00mkey\u001b[39m}\u001b[39;00m\u001b[39m] are in the [\u001b[39m\u001b[39m{\u001b[39;00maxis_name\u001b[39m}\u001b[39;00m\u001b[39m]\u001b[39m\u001b[39m\"\u001b[39m)\n\u001b[0;32m   6132\u001b[0m not_found \u001b[39m=\u001b[39m \u001b[39mlist\u001b[39m(ensure_index(key)[missing_mask\u001b[39m.\u001b[39mnonzero()[\u001b[39m0\u001b[39m]]\u001b[39m.\u001b[39munique())\n\u001b[0;32m   6133\u001b[0m \u001b[39mraise\u001b[39;00m \u001b[39mKeyError\u001b[39;00m(\u001b[39mf\u001b[39m\u001b[39m\"\u001b[39m\u001b[39m{\u001b[39;00mnot_found\u001b[39m}\u001b[39;00m\u001b[39m not in index\u001b[39m\u001b[39m\"\u001b[39m)\n",
      "\u001b[1;31mKeyError\u001b[0m: \"None of [Index(['Name', 'Top_5@acc', 'Top_10@acc', 'Top_20@acc', 'Top_50@acc'], dtype='object')] are in the [columns]\""
     ]
    }
   ],
   "source": [
    "result_df = pd.DataFrame(run_results)\n",
    "# rename col topk\n",
    "for k in topk:\n",
    "    result_df.rename(columns={k: 'top'+str(k)}, inplace=True)\n",
    "result_df.rename(columns={'name': 'Name',\n",
    "                            'top5': 'Top_5@acc',\n",
    "                            'top10': 'Top_10@acc',\n",
    "                            'top20': 'Top_20@acc',\n",
    "                            'top50': 'Top_50@acc',\n",
    "                          }, inplace=True)\n",
    "# reorder\n",
    "result_df = result_df[['Name','Top_5@acc','Top_10@acc','Top_20@acc','Top_50@acc']]\n",
    "result_df = result_df.round(4)\n",
    "# reoder row, ws after no ws\n",
    "# result_df = result_df.reindex([0,4,6,2,1,5,7,3,8,9,10])\n",
    "# result_df = result_df.reindex([0,2,1,3])\n",
    "result_df.to_csv('../document/data/retrieval_result.csv',index=False)\n",
    "# result_df.to_csv('retrieval_result_all.csv',index=False)\n",
    "result_df"
   ]
  }
 ],
 "metadata": {
  "kernelspec": {
   "display_name": "research",
   "language": "python",
   "name": "python3"
  },
  "language_info": {
   "codemirror_mode": {
    "name": "ipython",
    "version": 3
   },
   "file_extension": ".py",
   "mimetype": "text/x-python",
   "name": "python",
   "nbconvert_exporter": "python",
   "pygments_lexer": "ipython3",
   "version": "3.9.16"
  },
  "orig_nbformat": 4
 },
 "nbformat": 4,
 "nbformat_minor": 2
}
