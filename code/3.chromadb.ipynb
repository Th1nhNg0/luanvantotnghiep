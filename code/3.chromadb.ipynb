{
 "cells": [
  {
   "cell_type": "code",
   "execution_count": 1,
   "metadata": {},
   "outputs": [
    {
     "name": "stderr",
     "output_type": "stream",
     "text": [
      "c:\\Users\\ngoph\\.conda\\envs\\research\\lib\\site-packages\\numpy\\_distributor_init.py:30: UserWarning: loaded more than 1 DLL from .libs:\n",
      "c:\\Users\\ngoph\\.conda\\envs\\research\\lib\\site-packages\\numpy\\.libs\\libopenblas.FB5AE2TYXYH2IJRDKGDGQ3XBKLKTF43H.gfortran-win_amd64.dll\n",
      "c:\\Users\\ngoph\\.conda\\envs\\research\\lib\\site-packages\\numpy\\.libs\\libopenblas.xwydx2ikjw2nmtwsfyngfuwkqu3lytcz.gfortran-win_amd64.dll\n",
      "c:\\Users\\ngoph\\.conda\\envs\\research\\lib\\site-packages\\numpy\\.libs\\libopenblas64__v0.3.21-gcc_10_3_0.dll\n",
      "  warnings.warn(\"loaded more than 1 DLL from .libs:\"\n"
     ]
    }
   ],
   "source": [
    "import json\n",
    "import lawquery\n",
    "import pandas as pd\n",
    "import os\n",
    "from tqdm import tqdm"
   ]
  },
  {
   "attachments": {},
   "cell_type": "markdown",
   "metadata": {},
   "source": [
    "# Load data"
   ]
  },
  {
   "cell_type": "code",
   "execution_count": 2,
   "metadata": {},
   "outputs": [],
   "source": [
    "topk = [5,10,20,50,100]\n",
    "run_results = []"
   ]
  },
  {
   "cell_type": "code",
   "execution_count": 3,
   "metadata": {},
   "outputs": [
    {
     "name": "stdout",
     "output_type": "stream",
     "text": [
      "Number of engines: 15\n",
      "Number of documents: 761\n"
     ]
    }
   ],
   "source": [
    "engines = {}\n",
    "law_df = pd.read_csv('./documents/data.csv')\n",
    "for i in range(len(law_df)):\n",
    "    path = law_df['path'][i]\n",
    "    so_hieu_van_ban = law_df['so_hieu_van_ban'][i]\n",
    "    if so_hieu_van_ban not in engines:\n",
    "        engines[so_hieu_van_ban] = lawquery.Engine(\n",
    "            os.path.join('documents',path, 'tree.json.gz'),\n",
    "        )\n",
    "print(\"Number of engines:\",len(engines))\n",
    "\n",
    "documents = []\n",
    "metadatas = []\n",
    "ids = []\n",
    "\n",
    "# take all\n",
    "for engine in engines:\n",
    "    results = engines[engine].query(node_type='điều')\n",
    "    for result in results:\n",
    "        documents.append(result.content)\n",
    "        metadatas.append({'law_id': engine, 'node_type': result.node_type, 'node_id': result.node_id})\n",
    "        ids.append(result.id)\n",
    "\n",
    "qa_df = pd.read_json('./answers_filtered.jsonl', lines=True, orient='records')\n",
    "\n",
    "# take only use\n",
    "# for index, row in qa_df.iterrows():\n",
    "#     for answer in row['new_answers']:\n",
    "#         q = engines[answer['law_id']].query(node_type=answer['node_type'], node_id = answer['node_id'])\n",
    "#         if len(q)!=0:\n",
    "#             if q[0].id in ids:\n",
    "#                 continue\n",
    "#             documents.append(q[0].content)\n",
    "#             metadatas.append({'law_id': answer['law_id'], 'node_type': q[0].node_type, 'node_id': q[0].node_id})\n",
    "#             ids.append(q[0].id)\n",
    "print(\"Number of documents:\",len(documents))"
   ]
  },
  {
   "attachments": {},
   "cell_type": "markdown",
   "metadata": {},
   "source": [
    "# TDIDF"
   ]
  },
  {
   "cell_type": "code",
   "execution_count": 4,
   "metadata": {},
   "outputs": [],
   "source": [
    "from underthesea import text_normalize,word_tokenize\n",
    "from sklearn.feature_extraction.text import TfidfVectorizer\n",
    "from sklearn.metrics.pairwise import cosine_similarity\n",
    "import re\n",
    "def format_text(text,word_segmentation=False):\n",
    "    text = re.sub(r'\\W', ' ', text)\n",
    "    text = re.sub(r'\\s+', ' ', text)\n",
    "    text = text_normalize(text)\n",
    "    if word_segmentation:\n",
    "        text = word_tokenize(text, format=\"text\")\n",
    "    return text"
   ]
  },
  {
   "cell_type": "code",
   "execution_count": 5,
   "metadata": {},
   "outputs": [],
   "source": [
    "def run(word_segmentation):\n",
    "    tdidf_docs= [format_text(doc,word_segmentation) for doc in documents]\n",
    "    tfidf = TfidfVectorizer()\n",
    "    tfidf_matrix = tfidf.fit_transform(tdidf_docs)\n",
    "    to_run = len(qa_df)\n",
    "    acc ={}\n",
    "    for k in topk:\n",
    "        acc[k] = 0\n",
    "    for i in tqdm(range(to_run)):\n",
    "        row = qa_df.iloc[i]\n",
    "        query = row['cauhoi']\n",
    "        query = format_text(query,word_segmentation)\n",
    "        query_vector = tfidf.transform([query])\n",
    "        cosine_similarities = cosine_similarity(query_vector, tfidf_matrix).flatten()\n",
    "        related_docs_indices = cosine_similarities.argsort()[:-100:-1]\n",
    "        result = { 'metadatas':[]}\n",
    "        for j in related_docs_indices:\n",
    "            result['metadatas'].append(metadatas[j])\n",
    "        for k in topk:\n",
    "            if all(r in result['metadatas'][:k] for r in row['new_answers']):\n",
    "                acc[k] += 1\n",
    "    # print as table\n",
    "    for k in topk:\n",
    "        acc[k] /= to_run\n",
    "    print(acc)\n",
    "    return acc"
   ]
  },
  {
   "cell_type": "code",
   "execution_count": 6,
   "metadata": {},
   "outputs": [
    {
     "name": "stderr",
     "output_type": "stream",
     "text": [
      "100%|██████████| 4259/4259 [00:08<00:00, 504.32it/s]\n"
     ]
    },
    {
     "name": "stdout",
     "output_type": "stream",
     "text": [
      "{5: 0.10002347969006808, 10: 0.18689833294200517, 20: 0.3204977694294435, 50: 0.5022305705564687, 100: 0.6609532754167645}\n"
     ]
    },
    {
     "name": "stderr",
     "output_type": "stream",
     "text": [
      "100%|██████████| 4259/4259 [00:23<00:00, 180.92it/s]"
     ]
    },
    {
     "name": "stdout",
     "output_type": "stream",
     "text": [
      "{5: 0.10213665179619628, 10: 0.1878375205447288, 20: 0.3207325663301244, 50: 0.5088048837755341, 100: 0.6778586522657901}\n"
     ]
    },
    {
     "name": "stderr",
     "output_type": "stream",
     "text": [
      "\n"
     ]
    }
   ],
   "source": [
    "rr= run(False)\n",
    "rr['name'] = 'tdidf'\n",
    "run_results.append(rr)\n",
    "rr= run(True)\n",
    "rr['name'] = 'tdidf_ws'\n",
    "run_results.append(rr)"
   ]
  },
  {
   "attachments": {},
   "cell_type": "markdown",
   "metadata": {},
   "source": [
    "# BM 25"
   ]
  },
  {
   "cell_type": "code",
   "execution_count": 7,
   "metadata": {},
   "outputs": [],
   "source": [
    "from rank_bm25 import BM25Okapi,BM25L,BM25Plus\n",
    "\n",
    "def run_bm25(word_segmentation,bm25_algo):\n",
    "    docs= [format_text(doc,word_segmentation) for doc in documents]\n",
    "    tokenized_corpus = [doc.split(\" \") for doc in docs]\n",
    "    bm25 = bm25_algo(tokenized_corpus)\n",
    "    to_run = len(qa_df)\n",
    "    acc ={}\n",
    "    for k in topk:\n",
    "        acc[k] = 0\n",
    "    for i in tqdm(range(to_run)):\n",
    "        row = qa_df.iloc[i]\n",
    "        query = row['cauhoi']\n",
    "        query = format_text(query,word_segmentation)\n",
    "        tokenized_query = query.split(\" \")\n",
    "        doc_scores = bm25.get_scores(tokenized_query)\n",
    "        result = { 'metadatas':[]}\n",
    "        for j in doc_scores.argsort()[:-100:-1]:\n",
    "            result['metadatas'].append(metadatas[j])\n",
    "        for k in topk:\n",
    "            if all(r in result['metadatas'][:k] for r in row['new_answers']):\n",
    "                acc[k] += 1\n",
    "    for k in topk:\n",
    "        acc[k] /= to_run\n",
    "    print(acc)\n",
    "    return acc"
   ]
  },
  {
   "cell_type": "code",
   "execution_count": 12,
   "metadata": {},
   "outputs": [
    {
     "name": "stdout",
     "output_type": "stream",
     "text": [
      "BM25Okapi\n"
     ]
    },
    {
     "name": "stderr",
     "output_type": "stream",
     "text": [
      "100%|██████████| 4259/4259 [00:54<00:00, 77.51it/s] \n"
     ]
    },
    {
     "name": "stdout",
     "output_type": "stream",
     "text": [
      "{5: 0.06527353838929326, 10: 0.1347734209908429, 20: 0.23479690068091102, 50: 0.4242779995304062, 100: 0.6114111293730923}\n"
     ]
    },
    {
     "name": "stderr",
     "output_type": "stream",
     "text": [
      "100%|██████████| 4259/4259 [00:59<00:00, 71.66it/s]\n"
     ]
    },
    {
     "name": "stdout",
     "output_type": "stream",
     "text": [
      "{5: 0.08804883775534163, 10: 0.16130547076778587, 20: 0.27588635830007047, 50: 0.45362761211552005, 100: 0.6344212256398215}\n",
      "BM25L\n"
     ]
    },
    {
     "name": "stderr",
     "output_type": "stream",
     "text": [
      "100%|██████████| 4259/4259 [01:00<00:00, 70.74it/s] \n"
     ]
    },
    {
     "name": "stdout",
     "output_type": "stream",
     "text": [
      "{5: 0.009861469828598262, 10: 0.029114815684432964, 20: 0.06856069499882601, 50: 0.19394223996243248, 100: 0.40220709086640055}\n"
     ]
    },
    {
     "name": "stderr",
     "output_type": "stream",
     "text": [
      "100%|██████████| 4259/4259 [00:55<00:00, 76.62it/s] \n"
     ]
    },
    {
     "name": "stdout",
     "output_type": "stream",
     "text": [
      "{5: 0.010800657431321907, 10: 0.03005400328715661, 20: 0.07396102371448697, 50: 0.20356891289034984, 100: 0.41864287391406435}\n",
      "BM25Plus\n"
     ]
    },
    {
     "name": "stderr",
     "output_type": "stream",
     "text": [
      "100%|██████████| 4259/4259 [00:59<00:00, 71.60it/s]\n"
     ]
    },
    {
     "name": "stdout",
     "output_type": "stream",
     "text": [
      "{5: 0.065977929091336, 10: 0.12725992016905377, 20: 0.23808405729044377, 50: 0.4144165297018079, 100: 0.6076543789621976}\n"
     ]
    },
    {
     "name": "stderr",
     "output_type": "stream",
     "text": [
      "100%|██████████| 4259/4259 [01:01<00:00, 69.66it/s] "
     ]
    },
    {
     "name": "stdout",
     "output_type": "stream",
     "text": [
      "{5: 0.0852312749471707, 10: 0.15449636064803945, 20: 0.2702512326837286, 50: 0.44658370509509276, 100: 0.6311340690302888}\n",
      "Done\n"
     ]
    },
    {
     "name": "stderr",
     "output_type": "stream",
     "text": [
      "\n"
     ]
    }
   ],
   "source": [
    "print(\"BM25Okapi\")\n",
    "rr=run_bm25(False,BM25Okapi)\n",
    "rr['name'] = 'bm25okapi'\n",
    "run_results.append(rr)\n",
    "rr=run_bm25(True,BM25Okapi)\n",
    "rr['name'] = 'bm25okapi_ws'\n",
    "run_results.append(rr)\n",
    "\n",
    "print(\"BM25L\")\n",
    "rr=run_bm25(False,BM25L)\n",
    "rr['name'] = 'bm25l'\n",
    "run_results.append(rr)\n",
    "rr=run_bm25(True,BM25L)\n",
    "rr['name'] = 'bm25l_ws'\n",
    "run_results.append(rr)\n",
    "\n",
    "print(\"BM25Plus\")\n",
    "rr=run_bm25(False,BM25Plus)\n",
    "rr['name'] = 'bm25plus'\n",
    "run_results.append(rr)\n",
    "rr=run_bm25(True,BM25Plus)\n",
    "rr['name'] = 'bm25plus_ws'\n",
    "run_results.append(rr)\n",
    "print(\"Done\")"
   ]
  },
  {
   "attachments": {},
   "cell_type": "markdown",
   "metadata": {},
   "source": [
    "# Chroma DB"
   ]
  },
  {
   "attachments": {},
   "cell_type": "markdown",
   "metadata": {},
   "source": [
    "## WITH  Instructor Embedding"
   ]
  },
  {
   "cell_type": "code",
   "execution_count": 13,
   "metadata": {},
   "outputs": [
    {
     "name": "stderr",
     "output_type": "stream",
     "text": [
      "c:\\Users\\ngoph\\.conda\\envs\\research\\lib\\site-packages\\InstructorEmbedding\\instructor.py:7: TqdmExperimentalWarning: Using `tqdm.autonotebook.tqdm` in notebook mode. Use `tqdm.tqdm` instead to force console mode (e.g. in jupyter console)\n",
      "  from tqdm.autonotebook import trange\n"
     ]
    }
   ],
   "source": [
    "import chromadb\n",
    "from chromadb.config import Settings\n",
    "from chromadb.utils import embedding_functions\n",
    "from InstructorEmbedding import INSTRUCTOR"
   ]
  },
  {
   "cell_type": "code",
   "execution_count": 14,
   "metadata": {},
   "outputs": [],
   "source": [
    "def run_instructor(model_name):\n",
    "    model = INSTRUCTOR(model_name)\n",
    "    instructor_for_q = 'Đại diện cho câu hỏi pháp luật để truy xuất điều luật trong văn bản pháp luật:'\n",
    "    instructor_for_r = 'Đại diện cho điều luật trong văn bản pháp luật để truy xuất:'\n",
    "    texts_with_instructions = []\n",
    "    for doc in documents:\n",
    "        texts_with_instructions.append([instructor_for_r,doc])\n",
    "    customized_embeddings = model.encode(texts_with_instructions,show_progress_bar=True)\n",
    "    chroma_client = chromadb.Client(Settings(chroma_db_impl=\"duckdb+parquet\",\n",
    "                                        persist_directory=\"chroma\"))\n",
    "    chroma_client.reset()\n",
    "    collection = chroma_client.get_or_create_collection(name=\"law_documents\")\n",
    "    collection.upsert(documents=documents,metadatas=metadatas,ids=ids,embeddings=customized_embeddings.tolist())\n",
    "    chroma_client.persist()\n",
    "    to_run = len(qa_df)\n",
    "    acc ={}\n",
    "    for k in topk:\n",
    "        acc[k] = 0\n",
    "    for i in tqdm(range(to_run)):\n",
    "        row = qa_df.iloc[i]\n",
    "        question = row['cauhoi']\n",
    "        query_embeddings = model.encode([[instructor_for_q,question]],show_progress_bar=False).tolist()\n",
    "        result = collection.query(query_embeddings=query_embeddings, n_results=100,include=[\"metadatas\"])\n",
    "        for k in topk:\n",
    "            if all(r in result['metadatas'][0][:k] for r in row['new_answers']):\n",
    "                acc[k] += 1\n",
    "    for k in topk:\n",
    "        acc[k] /= to_run\n",
    "    print(acc)\n",
    "    return acc"
   ]
  },
  {
   "cell_type": "code",
   "execution_count": 15,
   "metadata": {},
   "outputs": [
    {
     "name": "stdout",
     "output_type": "stream",
     "text": [
      "load INSTRUCTOR_Transformer\n",
      "max_seq_length  512\n"
     ]
    },
    {
     "data": {
      "application/vnd.jupyter.widget-view+json": {
       "model_id": "74f55887791f4260872da9ccd476c070",
       "version_major": 2,
       "version_minor": 0
      },
      "text/plain": [
       "Batches:   0%|          | 0/24 [00:00<?, ?it/s]"
      ]
     },
     "metadata": {},
     "output_type": "display_data"
    },
    {
     "name": "stderr",
     "output_type": "stream",
     "text": [
      "100%|██████████| 4259/4259 [01:56<00:00, 36.52it/s]\n"
     ]
    },
    {
     "name": "stdout",
     "output_type": "stream",
     "text": [
      "{5: 0.014557407842216482, 10: 0.02582765907490021, 20: 0.04578539563277765, 50: 0.09485794787508806, 100: 0.17140173749706503}\n",
      "load INSTRUCTOR_Transformer\n",
      "max_seq_length  512\n"
     ]
    },
    {
     "data": {
      "application/vnd.jupyter.widget-view+json": {
       "model_id": "b2970460e62644c09a93bc44e272e57a",
       "version_major": 2,
       "version_minor": 0
      },
      "text/plain": [
       "Batches:   0%|          | 0/24 [00:00<?, ?it/s]"
      ]
     },
     "metadata": {},
     "output_type": "display_data"
    },
    {
     "data": {
      "application/vnd.jupyter.widget-view+json": {
       "model_id": "a8f93e82fefb4d45a80d55977ebf4f72",
       "version_major": 2,
       "version_minor": 0
      },
      "text/plain": [
       "FloatProgress(value=0.0, layout=Layout(width='100%'), style=ProgressStyle(bar_color='black'))"
      ]
     },
     "metadata": {},
     "output_type": "display_data"
    },
    {
     "name": "stderr",
     "output_type": "stream",
     "text": [
      "100%|██████████| 4259/4259 [05:04<00:00, 13.99it/s]\n"
     ]
    },
    {
     "name": "stdout",
     "output_type": "stream",
     "text": [
      "{5: 0.008217891523831886, 10: 0.017140173749706503, 20: 0.03733270720826485, 50: 0.10518901150504813, 100: 0.20239492838694528}\n",
      "load INSTRUCTOR_Transformer\n",
      "max_seq_length  512\n"
     ]
    },
    {
     "data": {
      "application/vnd.jupyter.widget-view+json": {
       "model_id": "afe84f9a00ae453bb9be0bdb71d9c335",
       "version_major": 2,
       "version_minor": 0
      },
      "text/plain": [
       "Batches:   0%|          | 0/24 [00:00<?, ?it/s]"
      ]
     },
     "metadata": {},
     "output_type": "display_data"
    },
    {
     "data": {
      "application/vnd.jupyter.widget-view+json": {
       "model_id": "bf6203f77d1b4da3a18e1a77d99962eb",
       "version_major": 2,
       "version_minor": 0
      },
      "text/plain": [
       "FloatProgress(value=0.0, layout=Layout(width='100%'), style=ProgressStyle(bar_color='black'))"
      ]
     },
     "metadata": {},
     "output_type": "display_data"
    },
    {
     "name": "stderr",
     "output_type": "stream",
     "text": [
      "100%|██████████| 4259/4259 [15:56<00:00,  4.45it/s]  "
     ]
    },
    {
     "name": "stdout",
     "output_type": "stream",
     "text": [
      "{5: 0.020427330359239257, 10: 0.03639351960554121, 20: 0.06691711669405964, 50: 0.13970415590514204, 100: 0.24583235501291384}\n"
     ]
    },
    {
     "name": "stderr",
     "output_type": "stream",
     "text": [
      "\n"
     ]
    }
   ],
   "source": [
    "rr=run_instructor('hkunlp/instructor-base')\n",
    "rr['name'] = 'instructor-base'\n",
    "run_results.append(rr)\n",
    "rr=run_instructor('hkunlp/instructor-large')\n",
    "rr['name'] = 'instructor-large'\n",
    "run_results.append(rr)\n",
    "rr=run_instructor('hkunlp/instructor-xl')\n",
    "rr['name'] = 'instructor-xl'\n",
    "run_results.append(rr)"
   ]
  },
  {
   "cell_type": "code",
   "execution_count": 16,
   "metadata": {},
   "outputs": [
    {
     "data": {
      "text/html": [
       "<div>\n",
       "<style scoped>\n",
       "    .dataframe tbody tr th:only-of-type {\n",
       "        vertical-align: middle;\n",
       "    }\n",
       "\n",
       "    .dataframe tbody tr th {\n",
       "        vertical-align: top;\n",
       "    }\n",
       "\n",
       "    .dataframe thead th {\n",
       "        text-align: right;\n",
       "    }\n",
       "</style>\n",
       "<table border=\"1\" class=\"dataframe\">\n",
       "  <thead>\n",
       "    <tr style=\"text-align: right;\">\n",
       "      <th></th>\n",
       "      <th>name</th>\n",
       "      <th>top5</th>\n",
       "      <th>top10</th>\n",
       "      <th>top20</th>\n",
       "      <th>top50</th>\n",
       "      <th>top100</th>\n",
       "    </tr>\n",
       "  </thead>\n",
       "  <tbody>\n",
       "    <tr>\n",
       "      <th>0</th>\n",
       "      <td>tdidf</td>\n",
       "      <td>0.100023</td>\n",
       "      <td>0.186898</td>\n",
       "      <td>0.320498</td>\n",
       "      <td>0.502231</td>\n",
       "      <td>0.660953</td>\n",
       "    </tr>\n",
       "    <tr>\n",
       "      <th>1</th>\n",
       "      <td>tdidf_ws</td>\n",
       "      <td>0.102137</td>\n",
       "      <td>0.187838</td>\n",
       "      <td>0.320733</td>\n",
       "      <td>0.508805</td>\n",
       "      <td>0.677859</td>\n",
       "    </tr>\n",
       "    <tr>\n",
       "      <th>2</th>\n",
       "      <td>bm25okapi</td>\n",
       "      <td>0.065274</td>\n",
       "      <td>0.134773</td>\n",
       "      <td>0.234797</td>\n",
       "      <td>0.424278</td>\n",
       "      <td>0.611411</td>\n",
       "    </tr>\n",
       "    <tr>\n",
       "      <th>3</th>\n",
       "      <td>bm25okapi_ws</td>\n",
       "      <td>0.088049</td>\n",
       "      <td>0.161305</td>\n",
       "      <td>0.275886</td>\n",
       "      <td>0.453628</td>\n",
       "      <td>0.634421</td>\n",
       "    </tr>\n",
       "    <tr>\n",
       "      <th>4</th>\n",
       "      <td>bm25l</td>\n",
       "      <td>0.009861</td>\n",
       "      <td>0.029115</td>\n",
       "      <td>0.068561</td>\n",
       "      <td>0.193942</td>\n",
       "      <td>0.402207</td>\n",
       "    </tr>\n",
       "    <tr>\n",
       "      <th>5</th>\n",
       "      <td>bm25l_ws</td>\n",
       "      <td>0.010801</td>\n",
       "      <td>0.030054</td>\n",
       "      <td>0.073961</td>\n",
       "      <td>0.203569</td>\n",
       "      <td>0.418643</td>\n",
       "    </tr>\n",
       "    <tr>\n",
       "      <th>6</th>\n",
       "      <td>bm25plus</td>\n",
       "      <td>0.065978</td>\n",
       "      <td>0.127260</td>\n",
       "      <td>0.238084</td>\n",
       "      <td>0.414417</td>\n",
       "      <td>0.607654</td>\n",
       "    </tr>\n",
       "    <tr>\n",
       "      <th>7</th>\n",
       "      <td>bm25plus_ws</td>\n",
       "      <td>0.085231</td>\n",
       "      <td>0.154496</td>\n",
       "      <td>0.270251</td>\n",
       "      <td>0.446584</td>\n",
       "      <td>0.631134</td>\n",
       "    </tr>\n",
       "    <tr>\n",
       "      <th>8</th>\n",
       "      <td>instructor-base</td>\n",
       "      <td>0.014557</td>\n",
       "      <td>0.025828</td>\n",
       "      <td>0.045785</td>\n",
       "      <td>0.094858</td>\n",
       "      <td>0.171402</td>\n",
       "    </tr>\n",
       "    <tr>\n",
       "      <th>9</th>\n",
       "      <td>instructor-large</td>\n",
       "      <td>0.008218</td>\n",
       "      <td>0.017140</td>\n",
       "      <td>0.037333</td>\n",
       "      <td>0.105189</td>\n",
       "      <td>0.202395</td>\n",
       "    </tr>\n",
       "    <tr>\n",
       "      <th>10</th>\n",
       "      <td>instructor-xl</td>\n",
       "      <td>0.020427</td>\n",
       "      <td>0.036394</td>\n",
       "      <td>0.066917</td>\n",
       "      <td>0.139704</td>\n",
       "      <td>0.245832</td>\n",
       "    </tr>\n",
       "  </tbody>\n",
       "</table>\n",
       "</div>"
      ],
      "text/plain": [
       "                name      top5     top10     top20     top50    top100\n",
       "0              tdidf  0.100023  0.186898  0.320498  0.502231  0.660953\n",
       "1           tdidf_ws  0.102137  0.187838  0.320733  0.508805  0.677859\n",
       "2          bm25okapi  0.065274  0.134773  0.234797  0.424278  0.611411\n",
       "3       bm25okapi_ws  0.088049  0.161305  0.275886  0.453628  0.634421\n",
       "4              bm25l  0.009861  0.029115  0.068561  0.193942  0.402207\n",
       "5           bm25l_ws  0.010801  0.030054  0.073961  0.203569  0.418643\n",
       "6           bm25plus  0.065978  0.127260  0.238084  0.414417  0.607654\n",
       "7        bm25plus_ws  0.085231  0.154496  0.270251  0.446584  0.631134\n",
       "8    instructor-base  0.014557  0.025828  0.045785  0.094858  0.171402\n",
       "9   instructor-large  0.008218  0.017140  0.037333  0.105189  0.202395\n",
       "10     instructor-xl  0.020427  0.036394  0.066917  0.139704  0.245832"
      ]
     },
     "execution_count": 16,
     "metadata": {},
     "output_type": "execute_result"
    }
   ],
   "source": [
    "result_df = pd.DataFrame(run_results)\n",
    "# rename col topk\n",
    "for k in topk:\n",
    "    result_df.rename(columns={k: 'top'+str(k)}, inplace=True)\n",
    "result_df = result_df[['name','top5','top10','top20','top50','top100']]\n",
    "result_df.to_csv('result.csv',index=False)\n",
    "result_df"
   ]
  }
 ],
 "metadata": {
  "kernelspec": {
   "display_name": "research",
   "language": "python",
   "name": "python3"
  },
  "language_info": {
   "codemirror_mode": {
    "name": "ipython",
    "version": 3
   },
   "file_extension": ".py",
   "mimetype": "text/x-python",
   "name": "python",
   "nbconvert_exporter": "python",
   "pygments_lexer": "ipython3",
   "version": "3.9.16"
  },
  "orig_nbformat": 4
 },
 "nbformat": 4,
 "nbformat_minor": 2
}
