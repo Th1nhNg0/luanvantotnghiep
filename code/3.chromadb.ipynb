{
 "cells": [
  {
   "cell_type": "code",
   "execution_count": 42,
   "metadata": {},
   "outputs": [],
   "source": [
    "import json\n",
    "import lawquery\n",
    "import pandas as pd\n",
    "import os\n",
    "from tqdm import tqdm"
   ]
  },
  {
   "attachments": {},
   "cell_type": "markdown",
   "metadata": {},
   "source": [
    "# Load data"
   ]
  },
  {
   "cell_type": "code",
   "execution_count": 43,
   "metadata": {},
   "outputs": [],
   "source": [
    "topk = [5,10,20,50]\n",
    "run_results = []"
   ]
  },
  {
   "cell_type": "code",
   "execution_count": 44,
   "metadata": {},
   "outputs": [
    {
     "name": "stdout",
     "output_type": "stream",
     "text": [
      "Number of engines: 15\n",
      "Number of documents: 761\n"
     ]
    }
   ],
   "source": [
    "engines = {}\n",
    "law_df = pd.read_csv('./documents/data.csv')\n",
    "for i in range(len(law_df)):\n",
    "    path = law_df['path'][i]\n",
    "    so_hieu_van_ban = law_df['so_hieu_van_ban'][i]\n",
    "    if so_hieu_van_ban not in engines:\n",
    "        engines[so_hieu_van_ban] = lawquery.Engine(\n",
    "            os.path.join('documents',path, 'tree.json.gz'),\n",
    "        )\n",
    "print(\"Number of engines:\",len(engines))\n",
    "\n",
    "documents = []\n",
    "metadatas = []\n",
    "ids = []\n",
    "\n",
    "# take all\n",
    "for engine in engines:\n",
    "    results = engines[engine].query(node_type='điều')\n",
    "    for result in results:\n",
    "        documents.append(result.name+'\\n'+result.content)\n",
    "        metadatas.append({'law_id': engine, 'node_type': result.node_type, 'node_id': result.node_id,\n",
    "            'source': '{} {} {}'.format(engine, result.node_type, result.node_id),\n",
    "        })\n",
    "        ids.append(result.id)\n",
    "\n",
    "qa_df = pd.read_json('./answers_filtered.jsonl', lines=True, orient='records')\n",
    "\n",
    "# take only use\n",
    "# for index, row in qa_df.iterrows():\n",
    "#     for answer in row['new_answers']:\n",
    "#         q = engines[answer['law_id']].query(node_type=answer['node_type'], node_id = answer['node_id'])\n",
    "#         if len(q)!=0:\n",
    "#             if q[0].id in ids:\n",
    "#                 continue\n",
    "#             documents.append(q[0].content)\n",
    "#             metadatas.append({'law_id': answer['law_id'], 'node_type': q[0].node_type, 'node_id': q[0].node_id})\n",
    "#             ids.append(q[0].id)\n",
    "print(\"Number of documents:\",len(documents))"
   ]
  },
  {
   "attachments": {},
   "cell_type": "markdown",
   "metadata": {},
   "source": [
    "# TDIDF"
   ]
  },
  {
   "cell_type": "code",
   "execution_count": 45,
   "metadata": {},
   "outputs": [],
   "source": [
    "from underthesea import text_normalize,word_tokenize\n",
    "from sklearn.feature_extraction.text import TfidfVectorizer\n",
    "from sklearn.metrics.pairwise import cosine_similarity\n",
    "import re\n",
    "import string\n",
    "def format_text(text,word_segmentation=False,remove_punctuation=False):\n",
    "    text = re.sub(r'\\s+', ' ', text)\n",
    "    text = text.strip()\n",
    "    text = text_normalize(text)\n",
    "    if remove_punctuation:\n",
    "        text = text.translate(str.maketrans('', '', string.punctuation))\n",
    "    if word_segmentation:\n",
    "        text = word_tokenize(text, format=\"text\")\n",
    "    return text"
   ]
  },
  {
   "cell_type": "code",
   "execution_count": 46,
   "metadata": {},
   "outputs": [],
   "source": [
    "def run(word_segmentation):\n",
    "    tdidf_docs= [format_text(doc,word_segmentation) for doc in documents]\n",
    "    tfidf = TfidfVectorizer()\n",
    "    tfidf_matrix = tfidf.fit_transform(tdidf_docs)\n",
    "    to_run = len(qa_df)\n",
    "    acc ={}\n",
    "    for k in topk:\n",
    "        acc[k] = 0\n",
    "    for i in tqdm(range(to_run)):\n",
    "        row = qa_df.iloc[i]\n",
    "        query = row['cauhoi']\n",
    "        query = format_text(query,word_segmentation)\n",
    "        query_vector = tfidf.transform([query])\n",
    "        cosine_similarities = cosine_similarity(query_vector, tfidf_matrix).flatten()\n",
    "        related_docs_indices = cosine_similarities.argsort()[:-topk[-1]-1:-1]\n",
    "        result = { 'metadatas':[]}\n",
    "        for j in related_docs_indices:\n",
    "            result['metadatas'].append(metadatas[j])\n",
    "        for k in topk:\n",
    "            if all(r in result['metadatas'][:k] for r in row['new_answers']):\n",
    "                acc[k] += 1\n",
    "    # print as table\n",
    "    for k in topk:\n",
    "        acc[k] /= to_run\n",
    "    print(acc)\n",
    "    return acc"
   ]
  },
  {
   "cell_type": "code",
   "execution_count": 47,
   "metadata": {},
   "outputs": [],
   "source": [
    "# rr= run(False)\n",
    "# rr['name'] = 'tdidf'\n",
    "# run_results.append(rr)\n",
    "# rr= run(True)\n",
    "# rr['name'] = 'tdidf_ws'\n",
    "# run_results.append(rr)"
   ]
  },
  {
   "attachments": {},
   "cell_type": "markdown",
   "metadata": {},
   "source": [
    "# BM 25"
   ]
  },
  {
   "cell_type": "code",
   "execution_count": 48,
   "metadata": {},
   "outputs": [],
   "source": [
    "from rank_bm25 import BM25Okapi\n",
    "\n",
    "def run_bm25(word_segmentation,bm25_algo):\n",
    "    docs= [format_text(doc,word_segmentation) for doc in documents]\n",
    "    tokenized_corpus = [doc.split(\" \") for doc in docs]\n",
    "    bm25 = bm25_algo(tokenized_corpus)\n",
    "    to_run = len(qa_df)\n",
    "    acc ={}\n",
    "    for k in topk:\n",
    "        acc[k] = 0\n",
    "    for i in tqdm(range(to_run)):\n",
    "        row = qa_df.iloc[i]\n",
    "        query = row['cauhoi']\n",
    "        query = format_text(query,word_segmentation)\n",
    "        tokenized_query = query.split(\" \")\n",
    "        doc_scores = bm25.get_scores(tokenized_query)\n",
    "        result = { 'metadatas':[]}\n",
    "        for j in doc_scores.argsort()[:-topk[-1]-1:-1]:\n",
    "            result['metadatas'].append(metadatas[j])\n",
    "        for k in topk:\n",
    "            if all(r in result['metadatas'][:k] for r in row['new_answers']):\n",
    "                acc[k] += 1\n",
    "    for k in topk:\n",
    "        acc[k] /= to_run\n",
    "    print(acc)\n",
    "    return acc"
   ]
  },
  {
   "cell_type": "code",
   "execution_count": 49,
   "metadata": {},
   "outputs": [],
   "source": [
    "# print(\"BM25Okapi\")\n",
    "# rr=run_bm25(False,BM25Okapi)\n",
    "# rr['name'] = 'bm25'\n",
    "# run_results.append(rr)\n",
    "# rr=run_bm25(True,BM25Okapi)\n",
    "# rr['name'] = 'bm25_ws'\n",
    "# run_results.append(rr)"
   ]
  },
  {
   "attachments": {},
   "cell_type": "markdown",
   "metadata": {},
   "source": [
    "# Chroma DB"
   ]
  },
  {
   "attachments": {},
   "cell_type": "markdown",
   "metadata": {},
   "source": [
    "## WITH  Instructor Embedding"
   ]
  },
  {
   "cell_type": "code",
   "execution_count": 50,
   "metadata": {},
   "outputs": [],
   "source": [
    "import chromadb\n",
    "from chromadb.config import Settings\n",
    "from chromadb.utils import embedding_functions\n",
    "from InstructorEmbedding import INSTRUCTOR"
   ]
  },
  {
   "cell_type": "code",
   "execution_count": 51,
   "metadata": {},
   "outputs": [],
   "source": [
    "def run_instructor(model_name):\n",
    "    model = INSTRUCTOR(model_name)\n",
    "    instructor_for_q = 'Represent the legal question for retrieving evidence documents:'\n",
    "    instructor_for_r = 'Represent the legal document for retrieval:'\n",
    "    texts_with_instructions = []\n",
    "    for doc in documents:\n",
    "        texts_with_instructions.append([instructor_for_r,doc])\n",
    "    customized_embeddings = model.encode(texts_with_instructions,show_progress_bar=True)\n",
    "    chroma_client = chromadb.Client(Settings(chroma_api_impl=\"rest\",\n",
    "                                        chroma_server_host=\"localhost\",\n",
    "                                        chroma_server_http_port=\"8000\",\n",
    "                                        chroma_server_ssl_enabled=False\n",
    "                                        ))\n",
    "    chroma_client.reset()\n",
    "    collection = chroma_client.get_or_create_collection(name=\"law_documents\")\n",
    "    collection.add(documents=documents,metadatas=metadatas,ids=ids,embeddings=customized_embeddings.tolist())\n",
    "    to_run = len(qa_df)\n",
    "    acc ={}\n",
    "    for k in topk:\n",
    "        acc[k] = 0\n",
    "    for i in tqdm(range(to_run)):\n",
    "        row = qa_df.iloc[i]\n",
    "        question = row['cauhoi']\n",
    "        query_embeddings = model.encode([[instructor_for_q,question]],show_progress_bar=False).tolist()\n",
    "        result = collection.query(query_embeddings=query_embeddings, n_results=topk[-1],include=[\"metadatas\"])\n",
    "        for k in topk:\n",
    "            if all(r in result['metadatas'][0][:k] for r in row['new_answers']):\n",
    "                acc[k] += 1\n",
    "    for k in topk:\n",
    "        acc[k] /= to_run\n",
    "    print(acc)\n",
    "    return acc"
   ]
  },
  {
   "cell_type": "code",
   "execution_count": 52,
   "metadata": {},
   "outputs": [
    {
     "name": "stdout",
     "output_type": "stream",
     "text": [
      "load INSTRUCTOR_Transformer\n"
     ]
    },
    {
     "name": "stdout",
     "output_type": "stream",
     "text": [
      "max_seq_length  512\n"
     ]
    },
    {
     "name": "stderr",
     "output_type": "stream",
     "text": [
      "Batches: 100%|██████████| 24/24 [00:15<00:00,  1.55it/s]\n",
      "  2%|▏         | 86/4205 [00:03<02:34, 26.59it/s]\n"
     ]
    },
    {
     "ename": "KeyboardInterrupt",
     "evalue": "",
     "output_type": "error",
     "traceback": [
      "\u001b[1;31m---------------------------------------------------------------------------\u001b[0m",
      "\u001b[1;31mKeyboardInterrupt\u001b[0m                         Traceback (most recent call last)",
      "Cell \u001b[1;32mIn[52], line 12\u001b[0m\n\u001b[0;32m      1\u001b[0m \u001b[39m# rr=run_instructor('hkunlp/instructor-base')\u001b[39;00m\n\u001b[0;32m      2\u001b[0m \u001b[39m# rr['name'] = 'instructor-base'\u001b[39;00m\n\u001b[0;32m      3\u001b[0m \u001b[39m# run_results.append(rr)\u001b[39;00m\n\u001b[1;32m   (...)\u001b[0m\n\u001b[0;32m      8\u001b[0m \u001b[39m# rr['name'] = 'instructor-xl'\u001b[39;00m\n\u001b[0;32m      9\u001b[0m \u001b[39m# run_results.append(rr)\u001b[39;00m\n\u001b[1;32m---> 12\u001b[0m rr\u001b[39m=\u001b[39mrun_instructor(\u001b[39m'\u001b[39;49m\u001b[39mC:/Users/ngoph/Desktop/luanvan/model\u001b[39;49m\u001b[39m'\u001b[39;49m)\n\u001b[0;32m     13\u001b[0m \u001b[39m# rr['name'] = 'instructor-base finetune'\u001b[39;00m\n\u001b[0;32m     14\u001b[0m \u001b[39m# run_results.append(rr)\u001b[39;00m\n",
      "Cell \u001b[1;32mIn[51], line 24\u001b[0m, in \u001b[0;36mrun_instructor\u001b[1;34m(model_name)\u001b[0m\n\u001b[0;32m     22\u001b[0m row \u001b[39m=\u001b[39m qa_df\u001b[39m.\u001b[39miloc[i]\n\u001b[0;32m     23\u001b[0m question \u001b[39m=\u001b[39m row[\u001b[39m'\u001b[39m\u001b[39mcauhoi\u001b[39m\u001b[39m'\u001b[39m]\n\u001b[1;32m---> 24\u001b[0m query_embeddings \u001b[39m=\u001b[39m model\u001b[39m.\u001b[39;49mencode([[instructor_for_q,question]],show_progress_bar\u001b[39m=\u001b[39;49m\u001b[39mFalse\u001b[39;49;00m)\u001b[39m.\u001b[39mtolist()\n\u001b[0;32m     25\u001b[0m result \u001b[39m=\u001b[39m collection\u001b[39m.\u001b[39mquery(query_embeddings\u001b[39m=\u001b[39mquery_embeddings, n_results\u001b[39m=\u001b[39mtopk[\u001b[39m-\u001b[39m\u001b[39m1\u001b[39m],include\u001b[39m=\u001b[39m[\u001b[39m\"\u001b[39m\u001b[39mmetadatas\u001b[39m\u001b[39m\"\u001b[39m])\n\u001b[0;32m     26\u001b[0m \u001b[39mfor\u001b[39;00m k \u001b[39min\u001b[39;00m topk:\n",
      "File \u001b[1;32mc:\\Users\\ngoph\\.conda\\envs\\me\\lib\\site-packages\\InstructorEmbedding\\instructor.py:539\u001b[0m, in \u001b[0;36mINSTRUCTOR.encode\u001b[1;34m(self, sentences, batch_size, show_progress_bar, output_value, convert_to_numpy, convert_to_tensor, device, normalize_embeddings)\u001b[0m\n\u001b[0;32m    536\u001b[0m features \u001b[39m=\u001b[39m batch_to_device(features, device)\n\u001b[0;32m    538\u001b[0m \u001b[39mwith\u001b[39;00m torch\u001b[39m.\u001b[39mno_grad():\n\u001b[1;32m--> 539\u001b[0m     out_features \u001b[39m=\u001b[39m \u001b[39mself\u001b[39;49m\u001b[39m.\u001b[39;49mforward(features)\n\u001b[0;32m    541\u001b[0m     \u001b[39mif\u001b[39;00m output_value \u001b[39m==\u001b[39m \u001b[39m'\u001b[39m\u001b[39mtoken_embeddings\u001b[39m\u001b[39m'\u001b[39m:\n\u001b[0;32m    542\u001b[0m         embeddings \u001b[39m=\u001b[39m []\n",
      "File \u001b[1;32mc:\\Users\\ngoph\\.conda\\envs\\me\\lib\\site-packages\\torch\\nn\\modules\\container.py:217\u001b[0m, in \u001b[0;36mSequential.forward\u001b[1;34m(self, input)\u001b[0m\n\u001b[0;32m    215\u001b[0m \u001b[39mdef\u001b[39;00m \u001b[39mforward\u001b[39m(\u001b[39mself\u001b[39m, \u001b[39minput\u001b[39m):\n\u001b[0;32m    216\u001b[0m     \u001b[39mfor\u001b[39;00m module \u001b[39min\u001b[39;00m \u001b[39mself\u001b[39m:\n\u001b[1;32m--> 217\u001b[0m         \u001b[39minput\u001b[39m \u001b[39m=\u001b[39m module(\u001b[39minput\u001b[39;49m)\n\u001b[0;32m    218\u001b[0m     \u001b[39mreturn\u001b[39;00m \u001b[39minput\u001b[39m\n",
      "File \u001b[1;32mc:\\Users\\ngoph\\.conda\\envs\\me\\lib\\site-packages\\torch\\nn\\modules\\module.py:1501\u001b[0m, in \u001b[0;36mModule._call_impl\u001b[1;34m(self, *args, **kwargs)\u001b[0m\n\u001b[0;32m   1496\u001b[0m \u001b[39m# If we don't have any hooks, we want to skip the rest of the logic in\u001b[39;00m\n\u001b[0;32m   1497\u001b[0m \u001b[39m# this function, and just call forward.\u001b[39;00m\n\u001b[0;32m   1498\u001b[0m \u001b[39mif\u001b[39;00m \u001b[39mnot\u001b[39;00m (\u001b[39mself\u001b[39m\u001b[39m.\u001b[39m_backward_hooks \u001b[39mor\u001b[39;00m \u001b[39mself\u001b[39m\u001b[39m.\u001b[39m_backward_pre_hooks \u001b[39mor\u001b[39;00m \u001b[39mself\u001b[39m\u001b[39m.\u001b[39m_forward_hooks \u001b[39mor\u001b[39;00m \u001b[39mself\u001b[39m\u001b[39m.\u001b[39m_forward_pre_hooks\n\u001b[0;32m   1499\u001b[0m         \u001b[39mor\u001b[39;00m _global_backward_pre_hooks \u001b[39mor\u001b[39;00m _global_backward_hooks\n\u001b[0;32m   1500\u001b[0m         \u001b[39mor\u001b[39;00m _global_forward_hooks \u001b[39mor\u001b[39;00m _global_forward_pre_hooks):\n\u001b[1;32m-> 1501\u001b[0m     \u001b[39mreturn\u001b[39;00m forward_call(\u001b[39m*\u001b[39margs, \u001b[39m*\u001b[39m\u001b[39m*\u001b[39mkwargs)\n\u001b[0;32m   1502\u001b[0m \u001b[39m# Do not call functions when jit is used\u001b[39;00m\n\u001b[0;32m   1503\u001b[0m full_backward_hooks, non_full_backward_hooks \u001b[39m=\u001b[39m [], []\n",
      "File \u001b[1;32mc:\\Users\\ngoph\\.conda\\envs\\me\\lib\\site-packages\\InstructorEmbedding\\instructor.py:278\u001b[0m, in \u001b[0;36mINSTRUCTOR_Transformer.forward\u001b[1;34m(self, features)\u001b[0m\n\u001b[0;32m    276\u001b[0m     \u001b[39m# print('n ',n)\u001b[39;00m\n\u001b[0;32m    277\u001b[0m     \u001b[39mfor\u001b[39;00m local_idx \u001b[39min\u001b[39;00m \u001b[39mrange\u001b[39m(n):\n\u001b[1;32m--> 278\u001b[0m         \u001b[39massert\u001b[39;00m torch\u001b[39m.\u001b[39;49msum(attention_mask[local_idx])\u001b[39m.\u001b[39;49mitem() \u001b[39m>\u001b[39m\u001b[39m=\u001b[39m context_masks[local_idx]\u001b[39m.\u001b[39mitem(),\\\n\u001b[0;32m    279\u001b[0m             \u001b[39mf\u001b[39m\u001b[39m'\u001b[39m\u001b[39m{\u001b[39;00mattention_mask[local_idx]\u001b[39m}\u001b[39;00m\u001b[39m, \u001b[39m\u001b[39m{\u001b[39;00mcontext_masks[local_idx]\u001b[39m}\u001b[39;00m\u001b[39m, \u001b[39m\u001b[39m'\u001b[39m \\\n\u001b[0;32m    280\u001b[0m             \u001b[39mf\u001b[39m\u001b[39m'\u001b[39m\u001b[39m{\u001b[39;00mtorch\u001b[39m.\u001b[39msum(attention_mask[local_idx])\u001b[39m.\u001b[39mitem()\u001b[39m}\u001b[39;00m\u001b[39m, \u001b[39m\u001b[39m{\u001b[39;00mcontext_masks[local_idx]\u001b[39m.\u001b[39mitem()\u001b[39m}\u001b[39;00m\u001b[39m'\u001b[39m\n\u001b[0;32m    281\u001b[0m         attention_mask[local_idx][:context_masks[local_idx]] \u001b[39m=\u001b[39m \u001b[39m0\u001b[39m\n\u001b[0;32m    283\u001b[0m \u001b[39m# print('forward here')\u001b[39;00m\n",
      "\u001b[1;31mKeyboardInterrupt\u001b[0m: "
     ]
    }
   ],
   "source": [
    "# rr=run_instructor('hkunlp/instructor-base')\n",
    "# rr['name'] = 'instructor-base'\n",
    "# run_results.append(rr)\n",
    "# rr=run_instructor('hkunlp/instructor-large')\n",
    "# rr['name'] = 'instructor-large'\n",
    "# run_results.append(rr)\n",
    "# rr=run_instructor('hkunlp/instructor-xl')\n",
    "# rr['name'] = 'instructor-xl'\n",
    "# run_results.append(rr)\n",
    "\n",
    "\n",
    "rr=run_instructor('C:/Users/ngoph/Desktop/luanvan/model')\n",
    "# rr['name'] = 'instructor-base finetune'\n",
    "# run_results.append(rr)"
   ]
  },
  {
   "attachments": {},
   "cell_type": "markdown",
   "metadata": {},
   "source": [
    "# save result"
   ]
  },
  {
   "cell_type": "code",
   "execution_count": null,
   "metadata": {},
   "outputs": [],
   "source": [
    "result_df = pd.DataFrame(run_results)\n",
    "# rename col topk\n",
    "for k in topk:\n",
    "    result_df.rename(columns={k: 'top'+str(k)}, inplace=True)\n",
    "result_df.rename(columns={'name': 'Name',\n",
    "                            'top5': 'Top_5@acc',\n",
    "                            'top10': 'Top_10@acc',\n",
    "                            'top20': 'Top_20@acc',\n",
    "                            'top50': 'Top_50@acc',\n",
    "                          }, inplace=True)\n",
    "# reorder\n",
    "result_df = result_df[['Name','Top_5@acc','Top_10@acc','Top_20@acc','Top_50@acc']]\n",
    "result_df = result_df.round(4)\n",
    "# reoder row, ws after no ws\n",
    "# result_df = result_df.reindex([0,4,6,2,1,5,7,3,8,9,10])\n",
    "# result_df = result_df.reindex([0,2,1,3])\n",
    "result_df.to_csv('../document/data/retrieval_result.csv',index=False)\n",
    "# result_df.to_csv('retrieval_result_all.csv',index=False)\n",
    "result_df"
   ]
  }
 ],
 "metadata": {
  "kernelspec": {
   "display_name": "research",
   "language": "python",
   "name": "python3"
  },
  "language_info": {
   "codemirror_mode": {
    "name": "ipython",
    "version": 3
   },
   "file_extension": ".py",
   "mimetype": "text/x-python",
   "name": "python",
   "nbconvert_exporter": "python",
   "pygments_lexer": "ipython3",
   "version": "3.9.16"
  },
  "orig_nbformat": 4
 },
 "nbformat": 4,
 "nbformat_minor": 2
}
