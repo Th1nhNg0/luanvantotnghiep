{
 "cells": [
  {
   "cell_type": "code",
   "execution_count": 1,
   "metadata": {},
   "outputs": [
    {
     "name": "stderr",
     "output_type": "stream",
     "text": [
      "c:\\Users\\ngoph\\.conda\\envs\\research\\lib\\site-packages\\numpy\\_distributor_init.py:30: UserWarning: loaded more than 1 DLL from .libs:\n",
      "c:\\Users\\ngoph\\.conda\\envs\\research\\lib\\site-packages\\numpy\\.libs\\libopenblas.FB5AE2TYXYH2IJRDKGDGQ3XBKLKTF43H.gfortran-win_amd64.dll\n",
      "c:\\Users\\ngoph\\.conda\\envs\\research\\lib\\site-packages\\numpy\\.libs\\libopenblas.xwydx2ikjw2nmtwsfyngfuwkqu3lytcz.gfortran-win_amd64.dll\n",
      "c:\\Users\\ngoph\\.conda\\envs\\research\\lib\\site-packages\\numpy\\.libs\\libopenblas64__v0.3.21-gcc_10_3_0.dll\n",
      "  warnings.warn(\"loaded more than 1 DLL from .libs:\"\n"
     ]
    }
   ],
   "source": [
    "import json\n",
    "import lawquery\n",
    "import pandas as pd\n",
    "import os\n",
    "from tqdm import tqdm"
   ]
  },
  {
   "attachments": {},
   "cell_type": "markdown",
   "metadata": {},
   "source": [
    "# Load data"
   ]
  },
  {
   "cell_type": "code",
   "execution_count": 2,
   "metadata": {},
   "outputs": [],
   "source": [
    "topk = [5,10,20,50]\n",
    "run_results = []"
   ]
  },
  {
   "cell_type": "code",
   "execution_count": 3,
   "metadata": {},
   "outputs": [
    {
     "name": "stdout",
     "output_type": "stream",
     "text": [
      "Number of engines: 15\n",
      "Number of documents: 761\n"
     ]
    }
   ],
   "source": [
    "engines = {}\n",
    "law_df = pd.read_csv('./documents/data.csv')\n",
    "for i in range(len(law_df)):\n",
    "    path = law_df['path'][i]\n",
    "    so_hieu_van_ban = law_df['so_hieu_van_ban'][i]\n",
    "    if so_hieu_van_ban not in engines:\n",
    "        engines[so_hieu_van_ban] = lawquery.Engine(\n",
    "            os.path.join('documents',path, 'tree.json.gz'),\n",
    "        )\n",
    "print(\"Number of engines:\",len(engines))\n",
    "\n",
    "documents = []\n",
    "metadatas = []\n",
    "ids = []\n",
    "\n",
    "# take all\n",
    "for engine in engines:\n",
    "    results = engines[engine].query(node_type='điều')\n",
    "    for result in results:\n",
    "        documents.append(result.name+'\\n'+result.content)\n",
    "        metadatas.append({'law_id': engine, 'node_type': result.node_type, 'node_id': result.node_id})\n",
    "        ids.append(result.id)\n",
    "\n",
    "qa_df = pd.read_json('./answers_filtered.jsonl', lines=True, orient='records')\n",
    "\n",
    "# take only use\n",
    "# for index, row in qa_df.iterrows():\n",
    "#     for answer in row['new_answers']:\n",
    "#         q = engines[answer['law_id']].query(node_type=answer['node_type'], node_id = answer['node_id'])\n",
    "#         if len(q)!=0:\n",
    "#             if q[0].id in ids:\n",
    "#                 continue\n",
    "#             documents.append(q[0].content)\n",
    "#             metadatas.append({'law_id': answer['law_id'], 'node_type': q[0].node_type, 'node_id': q[0].node_id})\n",
    "#             ids.append(q[0].id)\n",
    "print(\"Number of documents:\",len(documents))"
   ]
  },
  {
   "attachments": {},
   "cell_type": "markdown",
   "metadata": {},
   "source": [
    "# TDIDF"
   ]
  },
  {
   "cell_type": "code",
   "execution_count": null,
   "metadata": {},
   "outputs": [],
   "source": [
    "from underthesea import text_normalize,word_tokenize\n",
    "from sklearn.feature_extraction.text import TfidfVectorizer\n",
    "from sklearn.metrics.pairwise import cosine_similarity\n",
    "import re\n",
    "def format_text(text,word_segmentation=False):\n",
    "    text = re.sub(r'\\W', ' ', text) \n",
    "    text = re.sub(r'\\s+', ' ', text)\n",
    "    text = text_normalize(text)\n",
    "    if word_segmentation:\n",
    "        text = word_tokenize(text, format=\"text\")\n",
    "    return text"
   ]
  },
  {
   "cell_type": "code",
   "execution_count": null,
   "metadata": {},
   "outputs": [],
   "source": [
    "def run(word_segmentation):\n",
    "    tdidf_docs= [format_text(doc,word_segmentation) for doc in documents]\n",
    "    tfidf = TfidfVectorizer()\n",
    "    tfidf_matrix = tfidf.fit_transform(tdidf_docs)\n",
    "    to_run = len(qa_df)\n",
    "    acc ={}\n",
    "    for k in topk:\n",
    "        acc[k] = 0\n",
    "    for i in tqdm(range(to_run)):\n",
    "        row = qa_df.iloc[i]\n",
    "        query = row['cauhoi']\n",
    "        query = format_text(query,word_segmentation)\n",
    "        query_vector = tfidf.transform([query])\n",
    "        cosine_similarities = cosine_similarity(query_vector, tfidf_matrix).flatten()\n",
    "        related_docs_indices = cosine_similarities.argsort()[:-topk[-1]-1:-1]\n",
    "        result = { 'metadatas':[]}\n",
    "        for j in related_docs_indices:\n",
    "            result['metadatas'].append(metadatas[j])\n",
    "        for k in topk:\n",
    "            if all(r in result['metadatas'][:k] for r in row['new_answers']):\n",
    "                acc[k] += 1\n",
    "    # print as table\n",
    "    for k in topk:\n",
    "        acc[k] /= to_run\n",
    "    print(acc)\n",
    "    return acc"
   ]
  },
  {
   "cell_type": "code",
   "execution_count": null,
   "metadata": {},
   "outputs": [],
   "source": [
    "rr= run(False)\n",
    "rr['name'] = 'tdidf'\n",
    "run_results.append(rr)\n",
    "rr= run(True)\n",
    "rr['name'] = 'tdidf_ws'\n",
    "run_results.append(rr)"
   ]
  },
  {
   "attachments": {},
   "cell_type": "markdown",
   "metadata": {},
   "source": [
    "# BM 25"
   ]
  },
  {
   "cell_type": "code",
   "execution_count": null,
   "metadata": {},
   "outputs": [],
   "source": [
    "from rank_bm25 import BM25Okapi\n",
    "\n",
    "def run_bm25(word_segmentation,bm25_algo):\n",
    "    docs= [format_text(doc,word_segmentation) for doc in documents]\n",
    "    tokenized_corpus = [doc.split(\" \") for doc in docs]\n",
    "    bm25 = bm25_algo(tokenized_corpus)\n",
    "    to_run = len(qa_df)\n",
    "    acc ={}\n",
    "    for k in topk:\n",
    "        acc[k] = 0\n",
    "    for i in tqdm(range(to_run)):\n",
    "        row = qa_df.iloc[i]\n",
    "        query = row['cauhoi']\n",
    "        query = format_text(query,word_segmentation)\n",
    "        tokenized_query = query.split(\" \")\n",
    "        doc_scores = bm25.get_scores(tokenized_query)\n",
    "        result = { 'metadatas':[]}\n",
    "        for j in doc_scores.argsort()[:-topk[-1]-1:-1]:\n",
    "            result['metadatas'].append(metadatas[j])\n",
    "        for k in topk:\n",
    "            if all(r in result['metadatas'][:k] for r in row['new_answers']):\n",
    "                acc[k] += 1\n",
    "    for k in topk:\n",
    "        acc[k] /= to_run\n",
    "    print(acc)\n",
    "    return acc"
   ]
  },
  {
   "cell_type": "code",
   "execution_count": null,
   "metadata": {},
   "outputs": [],
   "source": [
    "print(\"BM25Okapi\")\n",
    "rr=run_bm25(False,BM25Okapi)\n",
    "rr['name'] = 'bm25okapi'\n",
    "run_results.append(rr)\n",
    "rr=run_bm25(True,BM25Okapi)\n",
    "rr['name'] = 'bm25okapi_ws'\n",
    "run_results.append(rr)"
   ]
  },
  {
   "attachments": {},
   "cell_type": "markdown",
   "metadata": {},
   "source": [
    "# Chroma DB"
   ]
  },
  {
   "attachments": {},
   "cell_type": "markdown",
   "metadata": {},
   "source": [
    "## WITH  Instructor Embedding"
   ]
  },
  {
   "cell_type": "code",
   "execution_count": null,
   "metadata": {},
   "outputs": [],
   "source": [
    "import chromadb\n",
    "from chromadb.config import Settings\n",
    "from chromadb.utils import embedding_functions\n",
    "from InstructorEmbedding import INSTRUCTOR"
   ]
  },
  {
   "cell_type": "code",
   "execution_count": null,
   "metadata": {},
   "outputs": [],
   "source": [
    "def run_instructor(model_name):\n",
    "    model = INSTRUCTOR(model_name)\n",
    "    instructor_for_q = 'Đại diện cho câu hỏi để truy xuất đoạn văn liên quan:'\n",
    "    instructor_for_r = 'Đại diện cho đoạn văn để truy xuất:'\n",
    "    texts_with_instructions = []\n",
    "    for doc in documents:\n",
    "        texts_with_instructions.append([instructor_for_r,doc])\n",
    "    customized_embeddings = model.encode(texts_with_instructions,show_progress_bar=True)\n",
    "    chroma_client = chromadb.Client(Settings(chroma_db_impl=\"duckdb+parquet\",\n",
    "                                        persist_directory=\"chroma\"))\n",
    "    chroma_client.reset()\n",
    "    collection = chroma_client.get_or_create_collection(name=\"law_documents\")\n",
    "    collection.upsert(documents=documents,metadatas=metadatas,ids=ids,embeddings=customized_embeddings.tolist())\n",
    "    chroma_client.persist()\n",
    "    to_run = len(qa_df)\n",
    "    acc ={}\n",
    "    for k in topk:\n",
    "        acc[k] = 0\n",
    "    for i in tqdm(range(to_run)):\n",
    "        row = qa_df.iloc[i]\n",
    "        question = row['cauhoi']\n",
    "        query_embeddings = model.encode([[instructor_for_q,question]],show_progress_bar=False).tolist()\n",
    "        result = collection.query(query_embeddings=query_embeddings, n_results=topk[-1],include=[\"metadatas\"])\n",
    "        for k in topk:\n",
    "            if all(r in result['metadatas'][0][:k] for r in row['new_answers']):\n",
    "                acc[k] += 1\n",
    "    for k in topk:\n",
    "        acc[k] /= to_run\n",
    "    print(acc)\n",
    "    return acc"
   ]
  },
  {
   "cell_type": "code",
   "execution_count": null,
   "metadata": {},
   "outputs": [],
   "source": [
    "# rr=run_instructor('hkunlp/instructor-base')\n",
    "# rr['name'] = 'instructor-base'\n",
    "# run_results.append(rr)\n",
    "# rr=run_instructor('hkunlp/instructor-large')\n",
    "# rr['name'] = 'instructor-large'\n",
    "# run_results.append(rr)\n",
    "# rr=run_instructor('hkunlp/instructor-xl')\n",
    "# rr['name'] = 'instructor-xl'\n",
    "# run_results.append(rr)"
   ]
  },
  {
   "attachments": {},
   "cell_type": "markdown",
   "metadata": {},
   "source": [
    "# save result"
   ]
  },
  {
   "cell_type": "code",
   "execution_count": null,
   "metadata": {},
   "outputs": [],
   "source": [
    "result_df = pd.DataFrame(run_results)\n",
    "# rename col topk\n",
    "for k in topk:\n",
    "    result_df.rename(columns={k: 'top'+str(k)}, inplace=True)\n",
    "result_df.rename(columns={'name': 'Name',\n",
    "                            'top5': 'Top_5@acc',\n",
    "                            'top10': 'Top_10@acc',\n",
    "                            'top20': 'Top_20@acc',\n",
    "                            'top50': 'Top_50@acc',\n",
    "                          }, inplace=True)\n",
    "# reorder\n",
    "result_df = result_df[['Name','Top_5@acc','Top_10@acc','Top_20@acc','Top_50@acc']]\n",
    "result_df = result_df.round(4)\n",
    "# reoder row, ws after no ws\n",
    "# result_df = result_df.reindex([0,4,6,2,1,5,7,3,8,9,10])\n",
    "result_df = result_df.reindex([0,2,1,3])\n",
    "result_df.to_csv('../document/data/retrieval_result.csv',index=False)\n",
    "# result_df.to_csv('retrieval_result_all.csv',index=False)\n",
    "result_df"
   ]
  }
 ],
 "metadata": {
  "kernelspec": {
   "display_name": "research",
   "language": "python",
   "name": "python3"
  },
  "language_info": {
   "codemirror_mode": {
    "name": "ipython",
    "version": 3
   },
   "file_extension": ".py",
   "mimetype": "text/x-python",
   "name": "python",
   "nbconvert_exporter": "python",
   "pygments_lexer": "ipython3",
   "version": "3.9.16"
  },
  "orig_nbformat": 4
 },
 "nbformat": 4,
 "nbformat_minor": 2
}
